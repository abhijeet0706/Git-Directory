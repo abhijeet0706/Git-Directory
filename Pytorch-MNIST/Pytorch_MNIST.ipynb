{
 "cells": [
  {
   "cell_type": "code",
   "execution_count": 1,
   "metadata": {},
   "outputs": [],
   "source": [
    "%matplotlib inline"
   ]
  },
  {
   "cell_type": "code",
   "execution_count": 2,
   "metadata": {},
   "outputs": [],
   "source": [
    "import matplotlib.pyplot as plt"
   ]
  },
  {
   "cell_type": "code",
   "execution_count": 3,
   "metadata": {},
   "outputs": [],
   "source": [
    "import os\n",
    "import time\n",
    "from typing import Iterable\n",
    "from dataclasses import dataclass\n",
    "\n",
    "import numpy as np\n",
    "import torch\n",
    "import torch.nn as nn\n",
    "import torch.optim as optim\n",
    "import torch.nn.functional as F\n",
    "\n",
    "from torchvision import datasets,transforms"
   ]
  },
  {
   "cell_type": "code",
   "execution_count": 7,
   "metadata": {},
   "outputs": [],
   "source": [
    "class LeNet5(nn.Module):\n",
    "    def __init__(self):\n",
    "        super().__init__()\n",
    "        \n",
    "        self._body = nn.Sequential(nn.Conv2d(in_channels=1,out_channels=6,kernel_size=5),\n",
    "                               nn.ReLU(inplace=True),nn.MaxPool2d(kernel_size=2),\n",
    "                               nn.Conv2d(in_channels=6,out_channels=16,kernel_size=5),\n",
    "                               nn.ReLU(inplace=True),nn.MaxPool2d(kernel_size=2))\n",
    "        self._head = nn.Sequential(nn.Linear(in_features=16*5*5,out_features=120),nn.ReLU(inplace=True),\n",
    "                               nn.Linear(in_features=120,out_features=84),nn.ReLU(inplace=True),\n",
    "                               nn.Linear(in_features=84,out_features=10))\n",
    "    \n",
    "    def forward(self,x):\n",
    "        x = self._body(x)\n",
    "        x = x.view(x.size()[0],-1)\n",
    "        x = self._head(x)\n",
    "        return x"
   ]
  },
  {
   "cell_type": "code",
   "execution_count": 8,
   "metadata": {},
   "outputs": [
    {
     "name": "stdout",
     "output_type": "stream",
     "text": [
      "LeNet5(\n",
      "  (_body): Sequential(\n",
      "    (0): Conv2d(1, 6, kernel_size=(5, 5), stride=(1, 1))\n",
      "    (1): ReLU(inplace=True)\n",
      "    (2): MaxPool2d(kernel_size=2, stride=2, padding=0, dilation=1, ceil_mode=False)\n",
      "    (3): Conv2d(6, 16, kernel_size=(5, 5), stride=(1, 1))\n",
      "    (4): ReLU(inplace=True)\n",
      "    (5): MaxPool2d(kernel_size=2, stride=2, padding=0, dilation=1, ceil_mode=False)\n",
      "  )\n",
      "  (_head): Sequential(\n",
      "    (0): Linear(in_features=400, out_features=120, bias=True)\n",
      "    (1): ReLU(inplace=True)\n",
      "    (2): Linear(in_features=120, out_features=84, bias=True)\n",
      "    (3): ReLU(inplace=True)\n",
      "    (4): Linear(in_features=84, out_features=10, bias=True)\n",
      "  )\n",
      ")\n"
     ]
    }
   ],
   "source": [
    "lenet5_model = LeNet5()\n",
    "print(lenet5_model)"
   ]
  },
  {
   "cell_type": "code",
   "execution_count": 9,
   "metadata": {},
   "outputs": [],
   "source": [
    "def get_data(batch_size, data_root='data', num_workers=1):\n",
    "    \n",
    "    train_test_transforms = transforms.Compose([\n",
    "        # Resize to 32X32\n",
    "        transforms.Resize((32, 32)),\n",
    "        # this re-scales image tensor values between 0-1. image_tensor /= 255\n",
    "        transforms.ToTensor(),\n",
    "        # subtract mean (0.1307) and divide by variance (0.3081).\n",
    "        # This mean and variance is calculated on training data (verify yourself)\n",
    "        transforms.Normalize((0.1307, ), (0.3081, ))\n",
    "    ])\n",
    "    \n",
    "    # train dataloader\n",
    "    train_loader = torch.utils.data.DataLoader(\n",
    "        datasets.MNIST(root=data_root, train=True, download=True, transform=train_test_transforms),\n",
    "        batch_size=batch_size,\n",
    "        shuffle=True,\n",
    "        num_workers=num_workers\n",
    "    )\n",
    "    \n",
    "    # test dataloader\n",
    "    test_loader = torch.utils.data.DataLoader(\n",
    "        datasets.MNIST(root=data_root, train=False, download=True, transform=train_test_transforms),\n",
    "        batch_size=batch_size,\n",
    "        shuffle=False,\n",
    "        num_workers=num_workers\n",
    "    )\n",
    "    return train_loader, test_loader"
   ]
  },
  {
   "cell_type": "code",
   "execution_count": 10,
   "metadata": {},
   "outputs": [],
   "source": [
    "@dataclass\n",
    "class SystemConfiguration:\n",
    "    '''\n",
    "    Describes the common system setting needed for reproducible training\n",
    "    '''\n",
    "    seed: int = 42  # seed number to set the state of all random number generators\n",
    "    cudnn_benchmark_enabled: bool = True  # enable CuDNN benchmark for the sake of performance\n",
    "    cudnn_deterministic: bool = True"
   ]
  },
  {
   "cell_type": "code",
   "execution_count": 11,
   "metadata": {},
   "outputs": [],
   "source": [
    "@dataclass\n",
    "class TrainingConfiguration:\n",
    "    '''\n",
    "    Describes configuration of the training process\n",
    "    '''\n",
    "    batch_size: int = 32  # amount of data to pass through the network at each forward-backward iteration\n",
    "    epochs_count: int = 20  # number of times the whole dataset will be passed through the network\n",
    "    learning_rate: float = 0.01  # determines the speed of network's weights update\n",
    "    log_interval: int = 100  # how many batches to wait between logging training status\n",
    "    test_interval: int = 1  # how many epochs to wait before another test. Set to 1 to get val loss at each epoch\n",
    "    data_root: str = \"data\"  # folder to save MNIST data (default: data/mnist-data)\n",
    "    num_workers: int = 10  # number of concurrent processes used to prepare data\n",
    "    device: str = 'cuda'"
   ]
  },
  {
   "cell_type": "code",
   "execution_count": 12,
   "metadata": {},
   "outputs": [],
   "source": [
    "def setup_system(system_config: SystemConfiguration) -> None:\n",
    "    torch.manual_seed(system_config.seed)\n",
    "    if torch.cuda.is_available():\n",
    "        torch.backends.cudnn_benchmark_enabled = system_config.cudnn_benchmark_enabled\n",
    "        torch.backends.cudnn.deterministic = system_config.cudnn_deterministic"
   ]
  },
  {
   "cell_type": "code",
   "execution_count": 14,
   "metadata": {},
   "outputs": [],
   "source": [
    "def train(train_config: TrainingConfiguration,model:nn.Module,optimizer:torch.optim.Optimizer,\n",
    "         train_loader: torch.utils.data.DataLoader,epoch_idx:int) -> None:\n",
    "    model.train()\n",
    "    batch_loss = np.array([])\n",
    "    batch_acc = np.array([])\n",
    "    for batch_idx,(data,target) in enumerate(train_loader):\n",
    "        indx_target = target.clone()\n",
    "        data = data.to(train_config.device)\n",
    "        target = target.to(train_config.device)\n",
    "        optimizer.zero_grad()\n",
    "        output = model(data)\n",
    "        loss = F.cross_entropy(output,target)\n",
    "        loss.backward()\n",
    "        optimizer.step()\n",
    "        batch_loss = np.append(batch_loss,[loss.item()])\n",
    "        prob = F.softmax(output,dim=1)\n",
    "        pred = prob.data.max(dim=1)[1]\n",
    "        correct = pred.cpu().eq(indx_target).sum()\n",
    "        acc = float(correct)/float(len(data))\n",
    "        batch_acc = np.append(batch_acc,[acc])\n",
    "        if batch_idx % train_config.log_interval == 0 and batch_idx > 0:              \n",
    "            print('Train Epoch: {} [{}/{}] Loss: {:.6f} Acc: {:.4f}'\n",
    "                  .format(epoch_idx, batch_idx * len(data), len(train_loader.dataset), loss.item(), acc))\n",
    "            \n",
    "    epoch_loss = batch_loss.mean()\n",
    "    epoch_acc = batch_acc.mean()\n",
    "    return epoch_loss, epoch_acc"
   ]
  },
  {
   "cell_type": "code",
   "execution_count": 15,
   "metadata": {},
   "outputs": [],
   "source": [
    "def validate(\n",
    "    train_config: TrainingConfiguration,\n",
    "    model: nn.Module,\n",
    "    test_loader: torch.utils.data.DataLoader,\n",
    ") -> float:\n",
    "    model.eval()\n",
    "    test_loss = 0\n",
    "    count_corect_predictions = 0\n",
    "    for data, target in test_loader:\n",
    "        indx_target = target.clone()\n",
    "        data = data.to(train_config.device)\n",
    "        \n",
    "        target = target.to(train_config.device)\n",
    "        \n",
    "        output = model(data)\n",
    "        # add loss for each mini batch\n",
    "        test_loss += F.cross_entropy(output, target).item()\n",
    "        \n",
    "        # get probability score using softmax\n",
    "        prob = F.softmax(output, dim=1)\n",
    "        \n",
    "        # get the index of the max probability\n",
    "        pred = prob.data.max(dim=1)[1] \n",
    "        \n",
    "        # add correct prediction count\n",
    "        count_corect_predictions += pred.cpu().eq(indx_target).sum()\n",
    "\n",
    "    # average over number of mini-batches\n",
    "    test_loss = test_loss / len(test_loader)  \n",
    "    \n",
    "    # average over number of dataset\n",
    "    accuracy = 100. * count_corect_predictions / len(test_loader.dataset)\n",
    "    \n",
    "    print(\n",
    "        '\\nTest set: Average loss: {:.4f}, Accuracy: {}/{} ({:.0f}%)\\n'.format(\n",
    "            test_loss, count_corect_predictions, len(test_loader.dataset), accuracy\n",
    "        )\n",
    "    )\n",
    "    return test_loss, accuracy/100.0"
   ]
  },
  {
   "cell_type": "code",
   "execution_count": 16,
   "metadata": {},
   "outputs": [],
   "source": [
    "def main(system_configuration=SystemConfiguration(),training_configuration=TrainingConfiguration()):\n",
    "    setup_system(system_configuration)\n",
    "    batch_size_to_set = training_configuration.batch_size\n",
    "    num_workers_to_set = training_configuration.num_workers\n",
    "    epoch_num_to_set = training_configuration.epochs_count\n",
    "    \n",
    "    if torch.cuda.is_available():\n",
    "        device = \"cuda\"\n",
    "    else:\n",
    "        device = \"cpu\"\n",
    "        batch_size_to_set = 16\n",
    "        num_workers_to_set = 2\n",
    "        epoch_num_to_set = 5\n",
    "    \n",
    "    train_loader,test_loader = get_data(batch_size=batch_size_to_set,data_root=training_configuration.data_root,\n",
    "                                       num_workers=num_workers_to_set)\n",
    "    \n",
    "    training_configuration = TrainingConfiguration(device=device,epochs_count=epoch_num_to_set,\n",
    "                                                   batch_size=batch_size_to_set,num_workers=num_workers_to_set)\n",
    "    \n",
    "    model=LeNet5()\n",
    "    model.to(training_configuration.device)\n",
    "    optimizer=optim.SGD(model.parameters(),lr=training_configuration.learning_rate)\n",
    "    \n",
    "    best_loss = torch.tensor(np.inf)\n",
    "    epoch_train_loss=np.array([])\n",
    "    epoch_test_loss=np.array([])\n",
    "    epoch_train_acc=np.array([])\n",
    "    epoch_test_acc=np.array([])\n",
    "    \n",
    "    t_begin = time.time()\n",
    "    for epoch in range(training_configuration.epochs_count):\n",
    "        train_loss,train_acc=train(training_configuration,model,optimizer,train_loader,epoch)\n",
    "        epoch_train_loss=np.append(epoch_train_loss,[train_loss])\n",
    "        epoch_train_acc=np.append(epoch_train_acc,[train_acc])\n",
    "        elapsed_time=time.time()-t_begin\n",
    "        speed_epoch=elapsed_time/(epoch+1)\n",
    "        speed_batch = speed_epoch / len(train_loader)\n",
    "        eta = speed_epoch * training_configuration.epochs_count - elapsed_time\n",
    "        \n",
    "        print(\n",
    "            \"Elapsed {:.2f}s, {:.2f} s/epoch, {:.2f} s/batch, ets {:.2f}s\".format(\n",
    "                elapsed_time, speed_epoch, speed_batch, eta\n",
    "            )\n",
    "        )\n",
    "\n",
    "        if epoch % training_configuration.test_interval == 0:\n",
    "            current_loss, current_accuracy = validate(training_configuration, model, test_loader)\n",
    "            \n",
    "            epoch_test_loss = np.append(epoch_test_loss, [current_loss])\n",
    "        \n",
    "            epoch_test_acc = np.append(epoch_test_acc, [current_accuracy])\n",
    "            \n",
    "            if current_loss < best_loss:\n",
    "                best_loss = current_loss\n",
    "                \n",
    "    print(\"Total time: {:.2f}, Best Loss: {:.3f}\".format(time.time() - t_begin, best_loss))\n",
    "    \n",
    "    return model, epoch_train_loss, epoch_train_acc, epoch_test_loss, epoch_test_acc"
   ]
  },
  {
   "cell_type": "code",
   "execution_count": 17,
   "metadata": {},
   "outputs": [
    {
     "name": "stdout",
     "output_type": "stream",
     "text": [
      "Train Epoch: 0 [1600/60000] Loss: 2.243848 Acc: 0.4375\n",
      "Train Epoch: 0 [3200/60000] Loss: 2.018941 Acc: 0.5000\n",
      "Train Epoch: 0 [4800/60000] Loss: 0.985802 Acc: 0.6875\n",
      "Train Epoch: 0 [6400/60000] Loss: 0.340875 Acc: 0.9375\n",
      "Train Epoch: 0 [8000/60000] Loss: 0.694390 Acc: 0.8125\n",
      "Train Epoch: 0 [9600/60000] Loss: 0.207748 Acc: 0.9375\n",
      "Train Epoch: 0 [11200/60000] Loss: 0.459668 Acc: 0.8125\n",
      "Train Epoch: 0 [12800/60000] Loss: 0.240003 Acc: 0.9375\n",
      "Train Epoch: 0 [14400/60000] Loss: 0.170324 Acc: 0.9375\n",
      "Train Epoch: 0 [16000/60000] Loss: 0.595128 Acc: 0.8125\n",
      "Train Epoch: 0 [17600/60000] Loss: 0.133479 Acc: 0.9375\n",
      "Train Epoch: 0 [19200/60000] Loss: 0.052866 Acc: 1.0000\n",
      "Train Epoch: 0 [20800/60000] Loss: 0.198849 Acc: 0.9375\n",
      "Train Epoch: 0 [22400/60000] Loss: 0.550820 Acc: 0.8125\n",
      "Train Epoch: 0 [24000/60000] Loss: 0.035258 Acc: 1.0000\n",
      "Train Epoch: 0 [25600/60000] Loss: 0.098799 Acc: 1.0000\n",
      "Train Epoch: 0 [27200/60000] Loss: 0.035301 Acc: 1.0000\n",
      "Train Epoch: 0 [28800/60000] Loss: 0.163770 Acc: 0.9375\n",
      "Train Epoch: 0 [30400/60000] Loss: 0.186234 Acc: 0.9375\n",
      "Train Epoch: 0 [32000/60000] Loss: 0.047772 Acc: 1.0000\n",
      "Train Epoch: 0 [33600/60000] Loss: 0.191038 Acc: 0.8750\n",
      "Train Epoch: 0 [35200/60000] Loss: 0.176461 Acc: 0.8750\n",
      "Train Epoch: 0 [36800/60000] Loss: 0.028388 Acc: 1.0000\n",
      "Train Epoch: 0 [38400/60000] Loss: 0.100647 Acc: 0.9375\n",
      "Train Epoch: 0 [40000/60000] Loss: 0.087948 Acc: 1.0000\n",
      "Train Epoch: 0 [41600/60000] Loss: 0.033281 Acc: 1.0000\n",
      "Train Epoch: 0 [43200/60000] Loss: 0.217574 Acc: 0.9375\n",
      "Train Epoch: 0 [44800/60000] Loss: 0.712051 Acc: 0.8125\n",
      "Train Epoch: 0 [46400/60000] Loss: 0.080062 Acc: 0.9375\n",
      "Train Epoch: 0 [48000/60000] Loss: 0.065256 Acc: 1.0000\n",
      "Train Epoch: 0 [49600/60000] Loss: 0.069605 Acc: 1.0000\n",
      "Train Epoch: 0 [51200/60000] Loss: 0.422954 Acc: 0.8750\n",
      "Train Epoch: 0 [52800/60000] Loss: 0.089948 Acc: 0.9375\n",
      "Train Epoch: 0 [54400/60000] Loss: 0.022831 Acc: 1.0000\n",
      "Train Epoch: 0 [56000/60000] Loss: 0.015971 Acc: 1.0000\n",
      "Train Epoch: 0 [57600/60000] Loss: 0.070628 Acc: 1.0000\n",
      "Train Epoch: 0 [59200/60000] Loss: 0.379602 Acc: 0.9375\n",
      "Elapsed 38.31s, 38.31 s/epoch, 0.01 s/batch, ets 153.24s\n",
      "\n",
      "Test set: Average loss: 0.0847, Accuracy: 9724/10000 (97%)\n",
      "\n",
      "Train Epoch: 1 [1600/60000] Loss: 0.009298 Acc: 1.0000\n",
      "Train Epoch: 1 [3200/60000] Loss: 0.248206 Acc: 0.8750\n",
      "Train Epoch: 1 [4800/60000] Loss: 0.239251 Acc: 0.9375\n",
      "Train Epoch: 1 [6400/60000] Loss: 0.023229 Acc: 1.0000\n",
      "Train Epoch: 1 [8000/60000] Loss: 0.143019 Acc: 0.9375\n",
      "Train Epoch: 1 [9600/60000] Loss: 0.071861 Acc: 1.0000\n",
      "Train Epoch: 1 [11200/60000] Loss: 0.601038 Acc: 0.8750\n",
      "Train Epoch: 1 [12800/60000] Loss: 0.027110 Acc: 1.0000\n",
      "Train Epoch: 1 [14400/60000] Loss: 0.002921 Acc: 1.0000\n",
      "Train Epoch: 1 [16000/60000] Loss: 0.008550 Acc: 1.0000\n",
      "Train Epoch: 1 [17600/60000] Loss: 0.061632 Acc: 1.0000\n",
      "Train Epoch: 1 [19200/60000] Loss: 0.162698 Acc: 0.9375\n",
      "Train Epoch: 1 [20800/60000] Loss: 0.074089 Acc: 1.0000\n",
      "Train Epoch: 1 [22400/60000] Loss: 0.181119 Acc: 0.9375\n",
      "Train Epoch: 1 [24000/60000] Loss: 0.010043 Acc: 1.0000\n",
      "Train Epoch: 1 [25600/60000] Loss: 0.145124 Acc: 0.9375\n",
      "Train Epoch: 1 [27200/60000] Loss: 0.169772 Acc: 0.9375\n",
      "Train Epoch: 1 [28800/60000] Loss: 0.027716 Acc: 1.0000\n",
      "Train Epoch: 1 [30400/60000] Loss: 0.021359 Acc: 1.0000\n",
      "Train Epoch: 1 [32000/60000] Loss: 0.032538 Acc: 1.0000\n",
      "Train Epoch: 1 [33600/60000] Loss: 0.041886 Acc: 1.0000\n",
      "Train Epoch: 1 [35200/60000] Loss: 0.032145 Acc: 1.0000\n",
      "Train Epoch: 1 [36800/60000] Loss: 0.132778 Acc: 0.9375\n",
      "Train Epoch: 1 [38400/60000] Loss: 0.025661 Acc: 1.0000\n",
      "Train Epoch: 1 [40000/60000] Loss: 0.013155 Acc: 1.0000\n",
      "Train Epoch: 1 [41600/60000] Loss: 0.053657 Acc: 1.0000\n",
      "Train Epoch: 1 [43200/60000] Loss: 0.003538 Acc: 1.0000\n",
      "Train Epoch: 1 [44800/60000] Loss: 0.048714 Acc: 1.0000\n",
      "Train Epoch: 1 [46400/60000] Loss: 0.014619 Acc: 1.0000\n",
      "Train Epoch: 1 [48000/60000] Loss: 0.031067 Acc: 1.0000\n",
      "Train Epoch: 1 [49600/60000] Loss: 0.170840 Acc: 0.9375\n",
      "Train Epoch: 1 [51200/60000] Loss: 0.016284 Acc: 1.0000\n",
      "Train Epoch: 1 [52800/60000] Loss: 0.050451 Acc: 1.0000\n",
      "Train Epoch: 1 [54400/60000] Loss: 0.002752 Acc: 1.0000\n",
      "Train Epoch: 1 [56000/60000] Loss: 0.367488 Acc: 0.8750\n",
      "Train Epoch: 1 [57600/60000] Loss: 0.013707 Acc: 1.0000\n",
      "Train Epoch: 1 [59200/60000] Loss: 0.156911 Acc: 0.8750\n",
      "Elapsed 73.28s, 36.64 s/epoch, 0.01 s/batch, ets 109.92s\n",
      "\n",
      "Test set: Average loss: 0.0659, Accuracy: 9785/10000 (98%)\n",
      "\n",
      "Train Epoch: 2 [1600/60000] Loss: 0.075245 Acc: 1.0000\n",
      "Train Epoch: 2 [3200/60000] Loss: 0.138433 Acc: 0.9375\n",
      "Train Epoch: 2 [4800/60000] Loss: 0.014988 Acc: 1.0000\n",
      "Train Epoch: 2 [6400/60000] Loss: 0.018882 Acc: 1.0000\n",
      "Train Epoch: 2 [8000/60000] Loss: 0.009895 Acc: 1.0000\n",
      "Train Epoch: 2 [9600/60000] Loss: 0.029336 Acc: 1.0000\n",
      "Train Epoch: 2 [11200/60000] Loss: 0.008112 Acc: 1.0000\n",
      "Train Epoch: 2 [12800/60000] Loss: 0.018336 Acc: 1.0000\n",
      "Train Epoch: 2 [14400/60000] Loss: 0.008425 Acc: 1.0000\n",
      "Train Epoch: 2 [16000/60000] Loss: 0.015550 Acc: 1.0000\n",
      "Train Epoch: 2 [17600/60000] Loss: 0.041736 Acc: 1.0000\n",
      "Train Epoch: 2 [19200/60000] Loss: 0.109089 Acc: 0.9375\n",
      "Train Epoch: 2 [20800/60000] Loss: 0.019736 Acc: 1.0000\n",
      "Train Epoch: 2 [22400/60000] Loss: 0.002088 Acc: 1.0000\n",
      "Train Epoch: 2 [24000/60000] Loss: 0.000852 Acc: 1.0000\n",
      "Train Epoch: 2 [25600/60000] Loss: 0.058233 Acc: 1.0000\n",
      "Train Epoch: 2 [27200/60000] Loss: 0.061720 Acc: 1.0000\n",
      "Train Epoch: 2 [28800/60000] Loss: 0.038176 Acc: 1.0000\n",
      "Train Epoch: 2 [30400/60000] Loss: 0.394930 Acc: 0.9375\n",
      "Train Epoch: 2 [32000/60000] Loss: 0.052406 Acc: 0.9375\n",
      "Train Epoch: 2 [33600/60000] Loss: 0.007720 Acc: 1.0000\n",
      "Train Epoch: 2 [35200/60000] Loss: 0.073033 Acc: 0.9375\n",
      "Train Epoch: 2 [36800/60000] Loss: 0.014752 Acc: 1.0000\n",
      "Train Epoch: 2 [38400/60000] Loss: 0.081572 Acc: 0.9375\n",
      "Train Epoch: 2 [40000/60000] Loss: 0.060772 Acc: 1.0000\n",
      "Train Epoch: 2 [41600/60000] Loss: 0.173463 Acc: 0.9375\n",
      "Train Epoch: 2 [43200/60000] Loss: 0.010390 Acc: 1.0000\n",
      "Train Epoch: 2 [44800/60000] Loss: 0.001188 Acc: 1.0000\n",
      "Train Epoch: 2 [46400/60000] Loss: 0.130853 Acc: 0.9375\n",
      "Train Epoch: 2 [48000/60000] Loss: 0.001913 Acc: 1.0000\n",
      "Train Epoch: 2 [49600/60000] Loss: 0.033438 Acc: 1.0000\n",
      "Train Epoch: 2 [51200/60000] Loss: 0.034870 Acc: 1.0000\n",
      "Train Epoch: 2 [52800/60000] Loss: 0.023997 Acc: 1.0000\n",
      "Train Epoch: 2 [54400/60000] Loss: 0.095262 Acc: 0.9375\n",
      "Train Epoch: 2 [56000/60000] Loss: 0.016602 Acc: 1.0000\n",
      "Train Epoch: 2 [57600/60000] Loss: 0.044740 Acc: 1.0000\n",
      "Train Epoch: 2 [59200/60000] Loss: 0.013098 Acc: 1.0000\n",
      "Elapsed 108.36s, 36.12 s/epoch, 0.01 s/batch, ets 72.24s\n",
      "\n",
      "Test set: Average loss: 0.0595, Accuracy: 9798/10000 (98%)\n",
      "\n",
      "Train Epoch: 3 [1600/60000] Loss: 0.000861 Acc: 1.0000\n",
      "Train Epoch: 3 [3200/60000] Loss: 0.073595 Acc: 0.9375\n",
      "Train Epoch: 3 [4800/60000] Loss: 0.002004 Acc: 1.0000\n",
      "Train Epoch: 3 [6400/60000] Loss: 0.301952 Acc: 0.8750\n",
      "Train Epoch: 3 [8000/60000] Loss: 0.156442 Acc: 0.9375\n",
      "Train Epoch: 3 [9600/60000] Loss: 0.037818 Acc: 1.0000\n",
      "Train Epoch: 3 [11200/60000] Loss: 0.006272 Acc: 1.0000\n",
      "Train Epoch: 3 [12800/60000] Loss: 0.000509 Acc: 1.0000\n",
      "Train Epoch: 3 [14400/60000] Loss: 0.047769 Acc: 1.0000\n",
      "Train Epoch: 3 [16000/60000] Loss: 0.005197 Acc: 1.0000\n",
      "Train Epoch: 3 [17600/60000] Loss: 0.023110 Acc: 1.0000\n",
      "Train Epoch: 3 [19200/60000] Loss: 0.016657 Acc: 1.0000\n",
      "Train Epoch: 3 [20800/60000] Loss: 0.015209 Acc: 1.0000\n",
      "Train Epoch: 3 [22400/60000] Loss: 0.144316 Acc: 0.9375\n",
      "Train Epoch: 3 [24000/60000] Loss: 0.002490 Acc: 1.0000\n",
      "Train Epoch: 3 [25600/60000] Loss: 0.021822 Acc: 1.0000\n",
      "Train Epoch: 3 [27200/60000] Loss: 0.074014 Acc: 1.0000\n",
      "Train Epoch: 3 [28800/60000] Loss: 0.001130 Acc: 1.0000\n",
      "Train Epoch: 3 [30400/60000] Loss: 0.018761 Acc: 1.0000\n",
      "Train Epoch: 3 [32000/60000] Loss: 0.011750 Acc: 1.0000\n",
      "Train Epoch: 3 [33600/60000] Loss: 0.178990 Acc: 0.9375\n",
      "Train Epoch: 3 [35200/60000] Loss: 0.002972 Acc: 1.0000\n",
      "Train Epoch: 3 [36800/60000] Loss: 0.001421 Acc: 1.0000\n",
      "Train Epoch: 3 [38400/60000] Loss: 0.045439 Acc: 1.0000\n",
      "Train Epoch: 3 [40000/60000] Loss: 0.002829 Acc: 1.0000\n",
      "Train Epoch: 3 [41600/60000] Loss: 0.160429 Acc: 0.9375\n",
      "Train Epoch: 3 [43200/60000] Loss: 0.062861 Acc: 1.0000\n",
      "Train Epoch: 3 [44800/60000] Loss: 0.003270 Acc: 1.0000\n",
      "Train Epoch: 3 [46400/60000] Loss: 0.017567 Acc: 1.0000\n",
      "Train Epoch: 3 [48000/60000] Loss: 0.027496 Acc: 1.0000\n"
     ]
    },
    {
     "name": "stdout",
     "output_type": "stream",
     "text": [
      "Train Epoch: 3 [49600/60000] Loss: 0.084592 Acc: 0.9375\n",
      "Train Epoch: 3 [51200/60000] Loss: 0.002252 Acc: 1.0000\n",
      "Train Epoch: 3 [52800/60000] Loss: 0.040321 Acc: 1.0000\n",
      "Train Epoch: 3 [54400/60000] Loss: 0.020212 Acc: 1.0000\n",
      "Train Epoch: 3 [56000/60000] Loss: 0.000612 Acc: 1.0000\n",
      "Train Epoch: 3 [57600/60000] Loss: 0.001874 Acc: 1.0000\n",
      "Train Epoch: 3 [59200/60000] Loss: 0.040057 Acc: 1.0000\n",
      "Elapsed 143.97s, 35.99 s/epoch, 0.01 s/batch, ets 35.99s\n",
      "\n",
      "Test set: Average loss: 0.0370, Accuracy: 9879/10000 (99%)\n",
      "\n",
      "Train Epoch: 4 [1600/60000] Loss: 0.000366 Acc: 1.0000\n",
      "Train Epoch: 4 [3200/60000] Loss: 0.000115 Acc: 1.0000\n",
      "Train Epoch: 4 [4800/60000] Loss: 0.062603 Acc: 1.0000\n",
      "Train Epoch: 4 [6400/60000] Loss: 0.294354 Acc: 0.8125\n",
      "Train Epoch: 4 [8000/60000] Loss: 0.001763 Acc: 1.0000\n",
      "Train Epoch: 4 [9600/60000] Loss: 0.005324 Acc: 1.0000\n",
      "Train Epoch: 4 [11200/60000] Loss: 0.006524 Acc: 1.0000\n",
      "Train Epoch: 4 [12800/60000] Loss: 0.005671 Acc: 1.0000\n",
      "Train Epoch: 4 [14400/60000] Loss: 0.029465 Acc: 1.0000\n",
      "Train Epoch: 4 [16000/60000] Loss: 0.002313 Acc: 1.0000\n",
      "Train Epoch: 4 [17600/60000] Loss: 0.007380 Acc: 1.0000\n",
      "Train Epoch: 4 [19200/60000] Loss: 0.007210 Acc: 1.0000\n",
      "Train Epoch: 4 [20800/60000] Loss: 0.025693 Acc: 1.0000\n",
      "Train Epoch: 4 [22400/60000] Loss: 0.014246 Acc: 1.0000\n",
      "Train Epoch: 4 [24000/60000] Loss: 0.003139 Acc: 1.0000\n",
      "Train Epoch: 4 [25600/60000] Loss: 0.000288 Acc: 1.0000\n",
      "Train Epoch: 4 [27200/60000] Loss: 0.003629 Acc: 1.0000\n",
      "Train Epoch: 4 [28800/60000] Loss: 0.000490 Acc: 1.0000\n",
      "Train Epoch: 4 [30400/60000] Loss: 0.006742 Acc: 1.0000\n",
      "Train Epoch: 4 [32000/60000] Loss: 0.010559 Acc: 1.0000\n",
      "Train Epoch: 4 [33600/60000] Loss: 0.035324 Acc: 1.0000\n",
      "Train Epoch: 4 [35200/60000] Loss: 0.000979 Acc: 1.0000\n",
      "Train Epoch: 4 [36800/60000] Loss: 0.004033 Acc: 1.0000\n",
      "Train Epoch: 4 [38400/60000] Loss: 0.042942 Acc: 1.0000\n",
      "Train Epoch: 4 [40000/60000] Loss: 0.017206 Acc: 1.0000\n",
      "Train Epoch: 4 [41600/60000] Loss: 0.001021 Acc: 1.0000\n",
      "Train Epoch: 4 [43200/60000] Loss: 0.015515 Acc: 1.0000\n",
      "Train Epoch: 4 [44800/60000] Loss: 0.041994 Acc: 1.0000\n",
      "Train Epoch: 4 [46400/60000] Loss: 0.012283 Acc: 1.0000\n",
      "Train Epoch: 4 [48000/60000] Loss: 0.093427 Acc: 0.9375\n",
      "Train Epoch: 4 [49600/60000] Loss: 0.008468 Acc: 1.0000\n",
      "Train Epoch: 4 [51200/60000] Loss: 0.004738 Acc: 1.0000\n",
      "Train Epoch: 4 [52800/60000] Loss: 0.018710 Acc: 1.0000\n",
      "Train Epoch: 4 [54400/60000] Loss: 0.008654 Acc: 1.0000\n",
      "Train Epoch: 4 [56000/60000] Loss: 0.125122 Acc: 0.9375\n",
      "Train Epoch: 4 [57600/60000] Loss: 0.012118 Acc: 1.0000\n",
      "Train Epoch: 4 [59200/60000] Loss: 0.001116 Acc: 1.0000\n",
      "Elapsed 179.66s, 35.93 s/epoch, 0.01 s/batch, ets 0.00s\n",
      "\n",
      "Test set: Average loss: 0.0396, Accuracy: 9873/10000 (99%)\n",
      "\n",
      "Total time: 183.02, Best Loss: 0.037\n"
     ]
    }
   ],
   "source": [
    "model, epoch_train_loss, epoch_train_acc, epoch_test_loss, epoch_test_acc = main()"
   ]
  },
  {
   "cell_type": "code",
   "execution_count": 18,
   "metadata": {},
   "outputs": [
    {
     "data": {
      "image/png": "[encoded data removed]",
      "text/plain": [
       "<Figure size 720x432 with 1 Axes>"
      ]
     },
     "metadata": {
      "needs_background": "light"
     },
     "output_type": "display_data"
    }
   ],
   "source": [
    "plt.rcParams[\"figure.figsize\"] = (10, 6)\n",
    "x = range(len(epoch_train_loss))\n",
    "\n",
    "\n",
    "plt.figure\n",
    "plt.plot(x, epoch_train_loss, color='r', label=\"train loss\")\n",
    "plt.plot(x, epoch_test_loss, color='b', label=\"validation loss\")\n",
    "plt.xlabel('epoch no.')\n",
    "plt.ylabel('loss')\n",
    "plt.legend(loc='upper right')\n",
    "plt.title('Training and Validation Loss')\n",
    "plt.show()"
   ]
  },
  {
   "cell_type": "code",
   "execution_count": 19,
   "metadata": {},
   "outputs": [
    {
     "data": {
      "image/png": "[encoded data removed]",
      "text/plain": [
       "<Figure size 720x432 with 1 Axes>"
      ]
     },
     "metadata": {
      "needs_background": "light"
     },
     "output_type": "display_data"
    }
   ],
   "source": [
    "plt.rcParams[\"figure.figsize\"] = (10, 6)\n",
    "x = range(len(epoch_train_loss))\n",
    "\n",
    "\n",
    "plt.figure\n",
    "plt.plot(x, epoch_train_acc, color='r', label=\"train accuracy\")\n",
    "plt.plot(x, epoch_test_acc, color='b', label=\"validation accuracy\")\n",
    "plt.xlabel('epoch no.')\n",
    "plt.ylabel('accuracy')\n",
    "plt.legend(loc='center right')\n",
    "plt.title('Training and Validation Accuracy')\n",
    "plt.show()"
   ]
  },
  {
   "cell_type": "code",
   "execution_count": 20,
   "metadata": {},
   "outputs": [],
   "source": [
    "models = 'models'\n",
    "if not os.path.exists(models):\n",
    "    os.makedirs(models)\n",
    "    \n",
    "model_file_name = 'lenet5_mnist.pt'\n",
    "\n",
    "model_path = os.path.join(models, model_file_name)\n",
    "\n",
    "# make sure you transfer the model to cpu.\n",
    "model.to('cpu')\n",
    "\n",
    "# save the state_dict\n",
    "torch.save(model.state_dict(), model_path)"
   ]
  },
  {
   "cell_type": "code",
   "execution_count": 21,
   "metadata": {},
   "outputs": [
    {
     "data": {
      "text/plain": [
       "<All keys matched successfully>"
      ]
     },
     "execution_count": 21,
     "metadata": {},
     "output_type": "execute_result"
    }
   ],
   "source": [
    "lenet5_mnist = LeNet5()\n",
    "\n",
    "# loading the model and getting model parameters by using load_state_dict\n",
    "lenet5_mnist.load_state_dict(torch.load(model_path))"
   ]
  },
  {
   "cell_type": "code",
   "execution_count": 23,
   "metadata": {},
   "outputs": [],
   "source": [
    "def prediction(model, train_config, batch_input):\n",
    "    \n",
    "    # send model to cpu/cuda according to your system configuration\n",
    "    model.to(train_config.device)\n",
    "    \n",
    "    # it is important to do model.eval() before prediction\n",
    "    model.eval()\n",
    "\n",
    "    data = batch_input.to(train_config.device)\n",
    "\n",
    "    output = model(data)\n",
    "\n",
    "    # get probability score using softmax\n",
    "    prob = F.softmax(output, dim=1)\n",
    "\n",
    "    # get the max probability\n",
    "    pred_prob = prob.data.max(dim=1)[0]\n",
    "    \n",
    "    # get the index of the max probability\n",
    "    pred_index = prob.data.max(dim=1)[1]\n",
    "    \n",
    "    return pred_index.cpu().numpy(), pred_prob.cpu().numpy()"
   ]
  },
  {
   "cell_type": "code",
   "execution_count": 24,
   "metadata": {},
   "outputs": [
    {
     "data": {
      "image/png": "[encoded data removed]",
      "text/plain": [
       "<Figure size 216x216 with 1 Axes>"
      ]
     },
     "metadata": {
      "needs_background": "light"
     },
     "output_type": "display_data"
    },
    {
     "data": {
      "image/png": "[encoded data removed]",
      "text/plain": [
       "<Figure size 216x216 with 1 Axes>"
      ]
     },
     "metadata": {
      "needs_background": "light"
     },
     "output_type": "display_data"
    },
    {
     "data": {
      "image/png": "[encoded data removed]",
      "text/plain": [
       "<Figure size 216x216 with 1 Axes>"
      ]
     },
     "metadata": {
      "needs_background": "light"
     },
     "output_type": "display_data"
    },
    {
     "data": {
      "image/png": "[encoded data removed]",
      "text/plain": [
       "<Figure size 216x216 with 1 Axes>"
      ]
     },
     "metadata": {
      "needs_background": "light"
     },
     "output_type": "display_data"
    },
    {
     "data": {
      "image/png": "[encoded data removed]",
      "text/plain": [
       "<Figure size 216x216 with 1 Axes>"
      ]
     },
     "metadata": {
      "needs_background": "light"
     },
     "output_type": "display_data"
    }
   ],
   "source": [
    "batch_size = 5\n",
    "train_config = TrainingConfiguration()\n",
    "\n",
    "if torch.cuda.is_available():\n",
    "    train_config.device = \"cuda\"\n",
    "else:\n",
    "    train_config.device = \"cpu\"\n",
    "\n",
    "# load test data without image transformation\n",
    "test = torch.utils.data.DataLoader(\n",
    "    datasets.MNIST(root=train_config.data_root, train=False, download=True, \n",
    "                   transform=transforms.functional.to_tensor),\n",
    "    batch_size=batch_size,\n",
    "    shuffle=False,\n",
    "    num_workers=1\n",
    "    )\n",
    "\n",
    "image_transforms = transforms.Compose([\n",
    "    transforms.Resize((32, 32)),\n",
    "    transforms.ToTensor(),\n",
    "    transforms.Normalize((0.1307, ), (0.3081, ))\n",
    "    ])\n",
    "\n",
    "test_trans = torch.utils.data.DataLoader(\n",
    "    datasets.MNIST(root=train_config.data_root, train=False, download=True, transform=image_transforms),\n",
    "    batch_size=batch_size,\n",
    "    shuffle=False,\n",
    "    num_workers=1\n",
    "    )\n",
    "\n",
    "for data, _ in test_trans:\n",
    "    # pass the loaded model\n",
    "    pred, prob = prediction(lenet5_mnist, train_config, data)\n",
    "    break\n",
    "    \n",
    "\n",
    "plt.rcParams[\"figure.figsize\"] = (3, 3)\n",
    "for images, _ in test:\n",
    "    for i, img in enumerate(images):\n",
    "        img = transforms.functional.to_pil_image(img)\n",
    "        plt.imshow(img, cmap='gray')\n",
    "        plt.gca().set_title('Prediction: {0}, Prob: {1:.2}'.format(pred[i], prob[i]))\n",
    "        plt.show()\n",
    "    break"
   ]
  },
  {
   "cell_type": "code",
   "execution_count": null,
   "metadata": {},
   "outputs": [],
   "source": []
  }
 ],
 "metadata": {
  "kernelspec": {
   "display_name": "Python 3",
   "language": "python",
   "name": "python3"
  },
  "language_info": {
   "codemirror_mode": {
    "name": "ipython",
    "version": 3
   },
   "file_extension": ".py",
   "mimetype": "text/x-python",
   "name": "python",
   "nbconvert_exporter": "python",
   "pygments_lexer": "ipython3",
   "version": "3.8.3"
  }
 },
 "nbformat": 4,
 "nbformat_minor": 4
}
