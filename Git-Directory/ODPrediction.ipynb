{
 "cells": [
  {
   "cell_type": "code",
   "execution_count": 50,
   "metadata": {
    "collapsed": true
   },
   "outputs": [
    {
     "name": "stdout",
     "output_type": "stream",
     "text": [
      "Collecting seabornNote: you may need to restart the kernel to use updated packages.\n",
      "  Downloading seaborn-0.11.0-py3-none-any.whl (283 kB)\n",
      "Requirement already satisfied: matplotlib>=2.2 in c:\\miniconda\\lib\\site-packages (from seaborn) (3.3.2)\n",
      "Requirement already satisfied: pandas>=0.23 in c:\\miniconda\\lib\\site-packages (from seaborn) (1.1.4)\n",
      "Requirement already satisfied: numpy>=1.15 in c:\\miniconda\\lib\\site-packages (from seaborn) (1.19.2)\n",
      "Collecting scipy>=1.0\n",
      "  Downloading scipy-1.5.3-cp38-cp38-win_amd64.whl (31.4 MB)\n",
      "Requirement already satisfied: certifi>=2020.06.20 in c:\\miniconda\\lib\\site-packages (from matplotlib>=2.2->seaborn) (2020.6.20)\n",
      "Requirement already satisfied: pyparsing!=2.0.4,!=2.1.2,!=2.1.6,>=2.0.3 in c:\\miniconda\\lib\\site-packages (from matplotlib>=2.2->seaborn) (2.4.7)\n",
      "Requirement already satisfied: cycler>=0.10 in c:\\miniconda\\lib\\site-packages (from matplotlib>=2.2->seaborn) (0.10.0)\n",
      "Requirement already satisfied: python-dateutil>=2.1 in c:\\miniconda\\lib\\site-packages (from matplotlib>=2.2->seaborn) (2.8.1)\n",
      "Requirement already satisfied: kiwisolver>=1.0.1 in c:\\miniconda\\lib\\site-packages (from matplotlib>=2.2->seaborn) (1.2.0)\n"
     ]
    },
    {
     "name": "stderr",
     "output_type": "stream",
     "text": [
      "WARNING: You are using pip version 20.2.3; however, version 20.2.4 is available.\n",
      "You should consider upgrading via the 'c:\\miniconda\\python.exe -m pip install --upgrade pip' command.\n"
     ]
    },
    {
     "name": "stdout",
     "output_type": "stream",
     "text": [
      "\n",
      "Requirement already satisfied: pillow>=6.2.0 in c:\\miniconda\\lib\\site-packages (from matplotlib>=2.2->seaborn) (7.2.0)\n",
      "Requirement already satisfied: pytz>=2017.2 in c:\\miniconda\\lib\\site-packages (from pandas>=0.23->seaborn) (2020.1)\n",
      "Requirement already satisfied: six in c:\\miniconda\\lib\\site-packages (from cycler>=0.10->matplotlib>=2.2->seaborn) (1.14.0)\n",
      "Installing collected packages: scipy, seaborn\n",
      "Successfully installed scipy-1.5.3 seaborn-0.11.0\n"
     ]
    }
   ],
   "source": [
    "#pip install seaborn"
   ]
  },
  {
   "cell_type": "code",
   "execution_count": 268,
   "metadata": {
    "collapsed": true
   },
   "outputs": [
    {
     "name": "stdout",
     "output_type": "stream",
     "text": [
      "Collecting sklearn\n",
      "  Downloading sklearn-0.0.tar.gz (1.1 kB)\n",
      "Collecting scikit-learn\n",
      "  Downloading scikit_learn-0.23.2-cp38-cp38-win_amd64.whl (6.8 MB)\n",
      "Requirement already satisfied: numpy>=1.13.3 in c:\\miniconda\\lib\\site-packages (from scikit-learn->sklearn) (1.19.2)\n",
      "Collecting threadpoolctl>=2.0.0\n",
      "  Downloading threadpoolctl-2.1.0-py3-none-any.whl (12 kB)\n",
      "Requirement already satisfied: scipy>=0.19.1 in c:\\miniconda\\lib\\site-packages (from scikit-learn->sklearn) (1.5.3)\n",
      "Collecting joblib>=0.11\n",
      "Note: you may need to restart the kernel to use updated packages.\n"
     ]
    },
    {
     "name": "stderr",
     "output_type": "stream",
     "text": [
      "WARNING: You are using pip version 20.2.3; however, version 20.2.4 is available.\n",
      "You should consider upgrading via the 'c:\\miniconda\\python.exe -m pip install --upgrade pip' command.\n"
     ]
    },
    {
     "name": "stdout",
     "output_type": "stream",
     "text": [
      "  Downloading joblib-0.17.0-py3-none-any.whl (301 kB)\n",
      "Building wheels for collected packages: sklearn\n",
      "  Building wheel for sklearn (setup.py): started\n",
      "  Building wheel for sklearn (setup.py): finished with status 'done'\n",
      "  Created wheel for sklearn: filename=sklearn-0.0-py2.py3-none-any.whl size=1320 sha256=c0b2fd205c0743acc364c272a39a3afe6e7e18537e73bc801a06f0bce0d2bb10\n",
      "  Stored in directory: c:\\users\\dell pc\\appdata\\local\\pip\\cache\\wheels\\22\\0b\\40\\fd3f795caaa1fb4c6cb738bc1f56100be1e57da95849bfc897\n",
      "Successfully built sklearn\n",
      "Installing collected packages: threadpoolctl, joblib, scikit-learn, sklearn\n",
      "Successfully installed joblib-0.17.0 scikit-learn-0.23.2 sklearn-0.0 threadpoolctl-2.1.0\n"
     ]
    }
   ],
   "source": [
    "#pip install sklearn"
   ]
  },
  {
   "cell_type": "code",
   "execution_count": 394,
   "metadata": {
    "collapsed": true
   },
   "outputs": [
    {
     "name": "stdout",
     "output_type": "stream",
     "text": [
      "Collecting pydot\n",
      "  Downloading pydot-1.4.1-py2.py3-none-any.whl (19 kB)\n",
      "Requirement already satisfied: pyparsing>=2.1.4 in c:\\miniconda\\lib\\site-packages (from pydot) (2.4.7)\n",
      "Installing collected packages: pydot\n",
      "Successfully installed pydot-1.4.1\n",
      "Note: you may need to restart the kernel to use updated packages.\n"
     ]
    },
    {
     "name": "stderr",
     "output_type": "stream",
     "text": [
      "WARNING: You are using pip version 20.2.3; however, version 20.2.4 is available.\n",
      "You should consider upgrading via the 'c:\\miniconda\\python.exe -m pip install --upgrade pip' command.\n"
     ]
    }
   ],
   "source": [
    "#pip install pydot"
   ]
  },
  {
   "cell_type": "code",
   "execution_count": 1,
   "metadata": {},
   "outputs": [],
   "source": [
    "import pandas as pd\n",
    "import xlrd\n",
    "import matplotlib.pyplot as plt"
   ]
  },
  {
   "cell_type": "code",
   "execution_count": 2,
   "metadata": {},
   "outputs": [],
   "source": [
    "from sklearn import svm\n",
    "from sklearn.ensemble import GradientBoostingClassifier\n",
    "from sklearn.ensemble import RandomForestClassifier\n",
    "from sklearn.metrics import roc_curve\n",
    "from sklearn.metrics import roc_auc_score\n",
    "from sklearn.metrics import auc\n",
    "from numpy import argmax\n",
    "from numpy import argmin"
   ]
  },
  {
   "cell_type": "code",
   "execution_count": 3,
   "metadata": {},
   "outputs": [],
   "source": [
    "import seaborn\n",
    "import random\n",
    "import pydot"
   ]
  },
  {
   "cell_type": "code",
   "execution_count": 4,
   "metadata": {},
   "outputs": [],
   "source": [
    "from sklearn.neural_network import MLPClassifier\n",
    "from sklearn.model_selection import train_test_split\n",
    "from sklearn.metrics import classification_report,confusion_matrix\n",
    "from sklearn.metrics import precision_recall_curve\n",
    "from sklearn.tree import export_graphviz"
   ]
  },
  {
   "cell_type": "code",
   "execution_count": 5,
   "metadata": {},
   "outputs": [],
   "source": [
    "%matplotlib inline"
   ]
  },
  {
   "cell_type": "code",
   "execution_count": 6,
   "metadata": {},
   "outputs": [],
   "source": [
    "df_ODraw = pd.read_excel('E:\\OD Prediction Model\\Python Implementation\\InputDataClosedPIDs.xlsx')"
   ]
  },
  {
   "cell_type": "code",
   "execution_count": 3,
   "metadata": {
    "collapsed": true
   },
   "outputs": [
    {
     "data": {
      "text/plain": [
       "Index(['ProjectClass', 'ProjectPLTheaterFunction', 'ProjectPLLevel7',\n",
       "       'ProjectCurrency', 'ASApprovedBudgetedHours', 'ASApprovedCostBudget',\n",
       "       'ASApprovedRevenueBudget', 'ASApprovedBudgetProjectMargin$', 'ODFlag',\n",
       "       'Arch', 'Offer', 'ASApprovedBudgetProjectMargin%',\n",
       "       'ProjectScheduledStartDate', 'ProjectScheduledFinishDate',\n",
       "       'ProjectScheduledDuration', 'ProjectCreationDate',\n",
       "       'ProjectActivationDate', 'ProjectActiveAfterCreat', 'ActualTotalCosts',\n",
       "       'ASApprovedT&ECost', 'ASApprovedPartnerCost', 'Discount%'],\n",
       "      dtype='object')"
      ]
     },
     "execution_count": 3,
     "metadata": {},
     "output_type": "execute_result"
    }
   ],
   "source": [
    "df_ODraw.columns"
   ]
  },
  {
   "cell_type": "code",
   "execution_count": 7,
   "metadata": {},
   "outputs": [
    {
     "data": {
      "text/html": [
       "<div>\n",
       "<style scoped>\n",
       "    .dataframe tbody tr th:only-of-type {\n",
       "        vertical-align: middle;\n",
       "    }\n",
       "\n",
       "    .dataframe tbody tr th {\n",
       "        vertical-align: top;\n",
       "    }\n",
       "\n",
       "    .dataframe thead th {\n",
       "        text-align: right;\n",
       "    }\n",
       "</style>\n",
       "<table border=\"1\" class=\"dataframe\">\n",
       "  <thead>\n",
       "    <tr style=\"text-align: right;\">\n",
       "      <th></th>\n",
       "      <th>ProjectClass</th>\n",
       "      <th>ProjectPLTheaterFunction</th>\n",
       "      <th>ProjectPLLevel7</th>\n",
       "      <th>ProjectCurrency</th>\n",
       "      <th>ASApprovedBudgetedHours</th>\n",
       "      <th>ASApprovedCostBudget</th>\n",
       "      <th>ASApprovedRevenueBudget</th>\n",
       "      <th>ASApprovedBudgetProjectMargin$</th>\n",
       "      <th>ODFlag</th>\n",
       "      <th>Arch</th>\n",
       "      <th>...</th>\n",
       "      <th>ProjectScheduledStartDate</th>\n",
       "      <th>ProjectScheduledFinishDate</th>\n",
       "      <th>ProjectScheduledDuration</th>\n",
       "      <th>ProjectCreationDate</th>\n",
       "      <th>ProjectActivationDate</th>\n",
       "      <th>ProjectActiveAfterCreat</th>\n",
       "      <th>ActualTotalCosts</th>\n",
       "      <th>ASApprovedT&amp;ECost</th>\n",
       "      <th>ASApprovedPartnerCost</th>\n",
       "      <th>Discount%</th>\n",
       "    </tr>\n",
       "  </thead>\n",
       "  <tbody>\n",
       "    <tr>\n",
       "      <th>0</th>\n",
       "      <td>Transaction</td>\n",
       "      <td>APJ&amp;GC</td>\n",
       "      <td>APJ&amp;GCAPJ&amp;GC</td>\n",
       "      <td>AUD</td>\n",
       "      <td>128</td>\n",
       "      <td>18921</td>\n",
       "      <td>46680</td>\n",
       "      <td>27759</td>\n",
       "      <td>0</td>\n",
       "      <td>ALL</td>\n",
       "      <td>...</td>\n",
       "      <td>2008-12-17</td>\n",
       "      <td>2009-12-17</td>\n",
       "      <td>365</td>\n",
       "      <td>2008-12-17</td>\n",
       "      <td>2010-11-16</td>\n",
       "      <td>699</td>\n",
       "      <td>3623</td>\n",
       "      <td>0</td>\n",
       "      <td>0</td>\n",
       "      <td>0.161186</td>\n",
       "    </tr>\n",
       "    <tr>\n",
       "      <th>1</th>\n",
       "      <td>Transaction</td>\n",
       "      <td>AMER</td>\n",
       "      <td>AMERNOPS</td>\n",
       "      <td>USD</td>\n",
       "      <td>4672</td>\n",
       "      <td>656330</td>\n",
       "      <td>1204673</td>\n",
       "      <td>548343</td>\n",
       "      <td>0</td>\n",
       "      <td>ALL</td>\n",
       "      <td>...</td>\n",
       "      <td>2009-01-16</td>\n",
       "      <td>2014-05-10</td>\n",
       "      <td>1940</td>\n",
       "      <td>2009-01-16</td>\n",
       "      <td>2011-05-05</td>\n",
       "      <td>839</td>\n",
       "      <td>237969</td>\n",
       "      <td>54250</td>\n",
       "      <td>0</td>\n",
       "      <td>0.174039</td>\n",
       "    </tr>\n",
       "    <tr>\n",
       "      <th>2</th>\n",
       "      <td>Transaction</td>\n",
       "      <td>EMEAR</td>\n",
       "      <td>EMEAREMEAR</td>\n",
       "      <td>USD</td>\n",
       "      <td>1824</td>\n",
       "      <td>279120</td>\n",
       "      <td>449272</td>\n",
       "      <td>170152</td>\n",
       "      <td>0</td>\n",
       "      <td>ALL</td>\n",
       "      <td>...</td>\n",
       "      <td>2009-01-19</td>\n",
       "      <td>2013-12-15</td>\n",
       "      <td>1791</td>\n",
       "      <td>2009-01-19</td>\n",
       "      <td>2010-08-25</td>\n",
       "      <td>583</td>\n",
       "      <td>222827</td>\n",
       "      <td>0</td>\n",
       "      <td>0</td>\n",
       "      <td>0.275679</td>\n",
       "    </tr>\n",
       "    <tr>\n",
       "      <th>3</th>\n",
       "      <td>Transaction</td>\n",
       "      <td>GSP</td>\n",
       "      <td>GSPEMEAR</td>\n",
       "      <td>USD</td>\n",
       "      <td>736</td>\n",
       "      <td>116640</td>\n",
       "      <td>194399</td>\n",
       "      <td>77759</td>\n",
       "      <td>0</td>\n",
       "      <td>ALL</td>\n",
       "      <td>...</td>\n",
       "      <td>2009-02-18</td>\n",
       "      <td>2010-02-18</td>\n",
       "      <td>365</td>\n",
       "      <td>2009-02-18</td>\n",
       "      <td>2010-08-03</td>\n",
       "      <td>531</td>\n",
       "      <td>61941</td>\n",
       "      <td>0</td>\n",
       "      <td>0</td>\n",
       "      <td>0.250004</td>\n",
       "    </tr>\n",
       "    <tr>\n",
       "      <th>4</th>\n",
       "      <td>Transaction</td>\n",
       "      <td>AMER</td>\n",
       "      <td>AMERNOPS</td>\n",
       "      <td>CAD</td>\n",
       "      <td>476</td>\n",
       "      <td>77311</td>\n",
       "      <td>151697</td>\n",
       "      <td>74386</td>\n",
       "      <td>0</td>\n",
       "      <td>ALL</td>\n",
       "      <td>...</td>\n",
       "      <td>2010-12-04</td>\n",
       "      <td>2011-12-04</td>\n",
       "      <td>365</td>\n",
       "      <td>2009-02-25</td>\n",
       "      <td>2010-12-15</td>\n",
       "      <td>658</td>\n",
       "      <td>73030</td>\n",
       "      <td>0</td>\n",
       "      <td>0</td>\n",
       "      <td>0.332864</td>\n",
       "    </tr>\n",
       "  </tbody>\n",
       "</table>\n",
       "<p>5 rows × 22 columns</p>\n",
       "</div>"
      ],
      "text/plain": [
       "  ProjectClass ProjectPLTheaterFunction ProjectPLLevel7 ProjectCurrency  \\\n",
       "0  Transaction                   APJ&GC    APJ&GCAPJ&GC             AUD   \n",
       "1  Transaction                     AMER        AMERNOPS             USD   \n",
       "2  Transaction                    EMEAR      EMEAREMEAR             USD   \n",
       "3  Transaction                      GSP        GSPEMEAR             USD   \n",
       "4  Transaction                     AMER        AMERNOPS             CAD   \n",
       "\n",
       "   ASApprovedBudgetedHours  ASApprovedCostBudget  ASApprovedRevenueBudget  \\\n",
       "0                      128                 18921                    46680   \n",
       "1                     4672                656330                  1204673   \n",
       "2                     1824                279120                   449272   \n",
       "3                      736                116640                   194399   \n",
       "4                      476                 77311                   151697   \n",
       "\n",
       "   ASApprovedBudgetProjectMargin$  ODFlag Arch  ... ProjectScheduledStartDate  \\\n",
       "0                           27759       0  ALL  ...                2008-12-17   \n",
       "1                          548343       0  ALL  ...                2009-01-16   \n",
       "2                          170152       0  ALL  ...                2009-01-19   \n",
       "3                           77759       0  ALL  ...                2009-02-18   \n",
       "4                           74386       0  ALL  ...                2010-12-04   \n",
       "\n",
       "   ProjectScheduledFinishDate ProjectScheduledDuration ProjectCreationDate  \\\n",
       "0                  2009-12-17                      365          2008-12-17   \n",
       "1                  2014-05-10                     1940          2009-01-16   \n",
       "2                  2013-12-15                     1791          2009-01-19   \n",
       "3                  2010-02-18                      365          2009-02-18   \n",
       "4                  2011-12-04                      365          2009-02-25   \n",
       "\n",
       "   ProjectActivationDate ProjectActiveAfterCreat ActualTotalCosts  \\\n",
       "0             2010-11-16                     699             3623   \n",
       "1             2011-05-05                     839           237969   \n",
       "2             2010-08-25                     583           222827   \n",
       "3             2010-08-03                     531            61941   \n",
       "4             2010-12-15                     658            73030   \n",
       "\n",
       "   ASApprovedT&ECost  ASApprovedPartnerCost  Discount%  \n",
       "0                  0                      0   0.161186  \n",
       "1              54250                      0   0.174039  \n",
       "2                  0                      0   0.275679  \n",
       "3                  0                      0   0.250004  \n",
       "4                  0                      0   0.332864  \n",
       "\n",
       "[5 rows x 22 columns]"
      ]
     },
     "execution_count": 7,
     "metadata": {},
     "output_type": "execute_result"
    }
   ],
   "source": [
    "df_ODraw.head()"
   ]
  },
  {
   "cell_type": "code",
   "execution_count": 8,
   "metadata": {},
   "outputs": [],
   "source": [
    "df_ODraw = df_ODraw.drop(['ProjectPLTheaterFunction'],axis=1)"
   ]
  },
  {
   "cell_type": "code",
   "execution_count": 9,
   "metadata": {},
   "outputs": [],
   "source": [
    "df_ODraw = df_ODraw.drop(['ProjectScheduledStartDate'],axis=1)\n",
    "df_ODraw = df_ODraw.drop(['ProjectScheduledFinishDate'],axis=1)"
   ]
  },
  {
   "cell_type": "code",
   "execution_count": 10,
   "metadata": {},
   "outputs": [],
   "source": [
    "df_ODraw = df_ODraw.drop(['ProjectCreationDate'],axis=1)"
   ]
  },
  {
   "cell_type": "code",
   "execution_count": 11,
   "metadata": {},
   "outputs": [
    {
     "name": "stderr",
     "output_type": "stream",
     "text": [
      "<ipython-input-11-ed186ed7c0ac>:4: SettingWithCopyWarning: \n",
      "A value is trying to be set on a copy of a slice from a DataFrame\n",
      "\n",
      "See the caveats in the documentation: https://pandas.pydata.org/pandas-docs/stable/user_guide/indexing.html#returning-a-view-versus-a-copy\n",
      "  df_ODraw['ProjectCurrencyGroup'][i] = \"AUDCAD\"\n",
      "<ipython-input-11-ed186ed7c0ac>:8: SettingWithCopyWarning: \n",
      "A value is trying to be set on a copy of a slice from a DataFrame\n",
      "\n",
      "See the caveats in the documentation: https://pandas.pydata.org/pandas-docs/stable/user_guide/indexing.html#returning-a-view-versus-a-copy\n",
      "  df_ODraw['ProjectCurrencyGroup'][i] = \"OTHERCURRENCY\"\n",
      "<ipython-input-11-ed186ed7c0ac>:6: SettingWithCopyWarning: \n",
      "A value is trying to be set on a copy of a slice from a DataFrame\n",
      "\n",
      "See the caveats in the documentation: https://pandas.pydata.org/pandas-docs/stable/user_guide/indexing.html#returning-a-view-versus-a-copy\n",
      "  df_ODraw['ProjectCurrencyGroup'][i] = \"BRL\"\n"
     ]
    }
   ],
   "source": [
    "df_ODraw['ProjectCurrencyGroup'] = \"\"\n",
    "for i in range(len(df_ODraw)):\n",
    "    if (df_ODraw['ProjectCurrency'][i] == \"AUD\") or (df_ODraw['ProjectCurrency'][i] == \"CAD\"):\n",
    "        df_ODraw['ProjectCurrencyGroup'][i] = \"AUDCAD\"\n",
    "    elif (df_ODraw['ProjectCurrency'][i] == \"BRL\"):\n",
    "        df_ODraw['ProjectCurrencyGroup'][i] = \"BRL\"\n",
    "    else:\n",
    "        df_ODraw['ProjectCurrencyGroup'][i] = \"OTHERCURRENCY\""
   ]
  },
  {
   "cell_type": "code",
   "execution_count": 12,
   "metadata": {},
   "outputs": [
    {
     "data": {
      "text/plain": [
       "0           AUDCAD\n",
       "1    OTHERCURRENCY\n",
       "2    OTHERCURRENCY\n",
       "3    OTHERCURRENCY\n",
       "4           AUDCAD\n",
       "Name: ProjectCurrencyGroup, dtype: object"
      ]
     },
     "execution_count": 12,
     "metadata": {},
     "output_type": "execute_result"
    }
   ],
   "source": [
    "df_ODraw['ProjectCurrencyGroup'].head()"
   ]
  },
  {
   "cell_type": "code",
   "execution_count": 13,
   "metadata": {},
   "outputs": [],
   "source": [
    "df_ODraw['ActivationYear'] = pd.DatetimeIndex(df_ODraw['ProjectActivationDate']).year"
   ]
  },
  {
   "cell_type": "code",
   "execution_count": 14,
   "metadata": {},
   "outputs": [
    {
     "data": {
      "text/plain": [
       "0    2010\n",
       "1    2011\n",
       "2    2010\n",
       "3    2010\n",
       "4    2010\n",
       "Name: ActivationYear, dtype: int64"
      ]
     },
     "execution_count": 14,
     "metadata": {},
     "output_type": "execute_result"
    }
   ],
   "source": [
    "df_ODraw['ActivationYear'].head()"
   ]
  },
  {
   "cell_type": "code",
   "execution_count": 15,
   "metadata": {},
   "outputs": [],
   "source": [
    "df_ODraw = df_ODraw.drop(['ProjectActivationDate'],axis=1)"
   ]
  },
  {
   "cell_type": "code",
   "execution_count": 16,
   "metadata": {},
   "outputs": [],
   "source": [
    "df_ODraw['ODpercent'] = df_ODraw['ActualTotalCosts']/df_ODraw['ASApprovedCostBudget']*100"
   ]
  },
  {
   "cell_type": "code",
   "execution_count": 17,
   "metadata": {},
   "outputs": [
    {
     "data": {
      "text/plain": [
       "0    19.148037\n",
       "1    36.257523\n",
       "2    79.831972\n",
       "3    53.104424\n",
       "4    94.462625\n",
       "Name: ODpercent, dtype: float64"
      ]
     },
     "execution_count": 17,
     "metadata": {},
     "output_type": "execute_result"
    }
   ],
   "source": [
    "df_ODraw['ODpercent'].head()"
   ]
  },
  {
   "cell_type": "code",
   "execution_count": 19,
   "metadata": {},
   "outputs": [
    {
     "data": {
      "text/plain": [
       "ProjectClass                       object\n",
       "ProjectPLLevel7                    object\n",
       "ProjectCurrency                    object\n",
       "ASApprovedBudgetedHours             int64\n",
       "ASApprovedCostBudget                int64\n",
       "ASApprovedRevenueBudget             int64\n",
       "ASApprovedBudgetProjectMargin$      int64\n",
       "ODFlag                              int64\n",
       "Arch                               object\n",
       "Offer                              object\n",
       "ASApprovedBudgetProjectMargin%    float64\n",
       "ProjectScheduledDuration            int64\n",
       "ProjectActiveAfterCreat             int64\n",
       "ActualTotalCosts                    int64\n",
       "ASApprovedT&ECost                   int64\n",
       "ASApprovedPartnerCost               int64\n",
       "Discount%                         float64\n",
       "ProjectCurrencyGroup               object\n",
       "ActivationYear                      int64\n",
       "ODpercent                         float64\n",
       "dtype: object"
      ]
     },
     "execution_count": 19,
     "metadata": {},
     "output_type": "execute_result"
    }
   ],
   "source": [
    "df_ODraw.dtypes"
   ]
  },
  {
   "cell_type": "code",
   "execution_count": 18,
   "metadata": {},
   "outputs": [],
   "source": [
    "df_ODraw = df_ODraw.drop(['ActualTotalCosts'],axis=1)"
   ]
  },
  {
   "cell_type": "code",
   "execution_count": null,
   "metadata": {},
   "outputs": [],
   "source": [
    "# 5 Drop all outlier rows where 'ASApprovedBudgetedHours' > 53334"
   ]
  },
  {
   "cell_type": "code",
   "execution_count": 19,
   "metadata": {},
   "outputs": [],
   "source": [
    "df_ODraw = df_ODraw.drop(df_ODraw[df_ODraw['ASApprovedBudgetedHours']==df_ODraw['ASApprovedBudgetedHours'].max()].index)"
   ]
  },
  {
   "cell_type": "code",
   "execution_count": 20,
   "metadata": {},
   "outputs": [
    {
     "data": {
      "text/plain": [
       "116221"
      ]
     },
     "execution_count": 20,
     "metadata": {},
     "output_type": "execute_result"
    }
   ],
   "source": [
    "df_ODraw['ASApprovedBudgetedHours'].max()"
   ]
  },
  {
   "cell_type": "code",
   "execution_count": 21,
   "metadata": {},
   "outputs": [],
   "source": [
    "# 1 Drop all outlier rows where 'ASApprovedCostBudget' > 29044298"
   ]
  },
  {
   "cell_type": "code",
   "execution_count": 22,
   "metadata": {},
   "outputs": [],
   "source": [
    "df_ODraw = df_ODraw.drop(df_ODraw[df_ODraw['ASApprovedCostBudget']==df_ODraw['ASApprovedCostBudget'].max()].index)"
   ]
  },
  {
   "cell_type": "code",
   "execution_count": 36,
   "metadata": {},
   "outputs": [
    {
     "data": {
      "text/plain": [
       "29044298"
      ]
     },
     "execution_count": 36,
     "metadata": {},
     "output_type": "execute_result"
    }
   ],
   "source": [
    "df_ODraw['ASApprovedCostBudget'].max()"
   ]
  },
  {
   "cell_type": "code",
   "execution_count": null,
   "metadata": {},
   "outputs": [],
   "source": [
    "# 2 Drop all outlier rows where 'ASApprovedRevenueBudget' > 28889356"
   ]
  },
  {
   "cell_type": "code",
   "execution_count": 23,
   "metadata": {},
   "outputs": [],
   "source": [
    "df_ODraw = df_ODraw.drop(df_ODraw[df_ODraw['ASApprovedRevenueBudget']==df_ODraw['ASApprovedRevenueBudget'].max()].index)"
   ]
  },
  {
   "cell_type": "code",
   "execution_count": 43,
   "metadata": {},
   "outputs": [
    {
     "data": {
      "text/plain": [
       "28889356"
      ]
     },
     "execution_count": 43,
     "metadata": {},
     "output_type": "execute_result"
    }
   ],
   "source": [
    "df_ODraw['ASApprovedRevenueBudget'].max()"
   ]
  },
  {
   "cell_type": "code",
   "execution_count": null,
   "metadata": {},
   "outputs": [],
   "source": [
    "# 4 Drop all outlier rows where 'ASApprovedBudgetProjectMargin$' < -4982863"
   ]
  },
  {
   "cell_type": "code",
   "execution_count": 24,
   "metadata": {},
   "outputs": [],
   "source": [
    "df_ODraw = df_ODraw.drop(df_ODraw[df_ODraw['ASApprovedBudgetProjectMargin$']==df_ODraw['ASApprovedBudgetProjectMargin$'].min()].index)"
   ]
  },
  {
   "cell_type": "code",
   "execution_count": 54,
   "metadata": {},
   "outputs": [
    {
     "data": {
      "text/plain": [
       "-4982863"
      ]
     },
     "execution_count": 54,
     "metadata": {},
     "output_type": "execute_result"
    }
   ],
   "source": [
    "df_ODraw['ASApprovedBudgetProjectMargin$'].min()"
   ]
  },
  {
   "cell_type": "code",
   "execution_count": null,
   "metadata": {},
   "outputs": [],
   "source": [
    "# 6 Drop all outlier rows where 'ASApprovedBudgetProjectMargin%' < -60.75"
   ]
  },
  {
   "cell_type": "code",
   "execution_count": 25,
   "metadata": {},
   "outputs": [],
   "source": [
    "df_ODraw = df_ODraw.drop(df_ODraw[df_ODraw['ASApprovedBudgetProjectMargin%']==df_ODraw['ASApprovedBudgetProjectMargin%'].min()].index)"
   ]
  },
  {
   "cell_type": "code",
   "execution_count": 71,
   "metadata": {},
   "outputs": [
    {
     "data": {
      "text/plain": [
       "-60.75"
      ]
     },
     "execution_count": 71,
     "metadata": {},
     "output_type": "execute_result"
    }
   ],
   "source": [
    "df_ODraw['ASApprovedBudgetProjectMargin%'].min()"
   ]
  },
  {
   "cell_type": "code",
   "execution_count": null,
   "metadata": {},
   "outputs": [],
   "source": [
    "# 2 Drop all outlier rows where 'ProjectScheduledDuration' > 3024"
   ]
  },
  {
   "cell_type": "code",
   "execution_count": 26,
   "metadata": {},
   "outputs": [],
   "source": [
    "df_ODraw = df_ODraw.drop(df_ODraw[df_ODraw['ProjectScheduledDuration']==df_ODraw['ProjectScheduledDuration'].max()].index)"
   ]
  },
  {
   "cell_type": "code",
   "execution_count": 76,
   "metadata": {},
   "outputs": [
    {
     "data": {
      "text/plain": [
       "3024"
      ]
     },
     "execution_count": 76,
     "metadata": {},
     "output_type": "execute_result"
    }
   ],
   "source": [
    "df_ODraw['ProjectScheduledDuration'].max()"
   ]
  },
  {
   "cell_type": "code",
   "execution_count": null,
   "metadata": {},
   "outputs": [],
   "source": [
    "# 6 Drop all outlier rows where 'ASApprovedT&ECost' > 1255462"
   ]
  },
  {
   "cell_type": "code",
   "execution_count": 80,
   "metadata": {},
   "outputs": [],
   "source": [
    "df_ODraw = df_ODraw.drop(df_ODraw[df_ODraw['ASApprovedT&ECost']==df_ODraw['ASApprovedT&ECost'].max()].index)"
   ]
  },
  {
   "cell_type": "code",
   "execution_count": 81,
   "metadata": {},
   "outputs": [
    {
     "data": {
      "text/plain": [
       "1255462"
      ]
     },
     "execution_count": 81,
     "metadata": {},
     "output_type": "execute_result"
    }
   ],
   "source": [
    "df_ODraw['ASApprovedT&ECost'].max()"
   ]
  },
  {
   "cell_type": "code",
   "execution_count": null,
   "metadata": {},
   "outputs": [],
   "source": [
    "# 8 Drop all outlier rows where 'ASApprovedPartnerCost' > 4098736"
   ]
  },
  {
   "cell_type": "code",
   "execution_count": 41,
   "metadata": {},
   "outputs": [],
   "source": [
    "df_ODraw = df_ODraw.drop(df_ODraw[df_ODraw['ASApprovedPartnerCost']==df_ODraw['ASApprovedPartnerCost'].max()].index)"
   ]
  },
  {
   "cell_type": "code",
   "execution_count": 63,
   "metadata": {},
   "outputs": [
    {
     "data": {
      "text/plain": [
       "4098736"
      ]
     },
     "execution_count": 63,
     "metadata": {},
     "output_type": "execute_result"
    }
   ],
   "source": [
    "df_ODraw['ASApprovedPartnerCost'].max()"
   ]
  },
  {
   "cell_type": "code",
   "execution_count": 52,
   "metadata": {},
   "outputs": [],
   "source": [
    "# 7 Drop all outlier rows where 'Discount%' < -14.74"
   ]
  },
  {
   "cell_type": "code",
   "execution_count": 53,
   "metadata": {},
   "outputs": [],
   "source": [
    "df_ODraw = df_ODraw.drop(df_ODraw[df_ODraw['Discount%']==df_ODraw['Discount%'].min()].index)"
   ]
  },
  {
   "cell_type": "code",
   "execution_count": 54,
   "metadata": {},
   "outputs": [
    {
     "data": {
      "text/plain": [
       "-14.731631205673757"
      ]
     },
     "execution_count": 54,
     "metadata": {},
     "output_type": "execute_result"
    }
   ],
   "source": [
    "df_ODraw['Discount%'].min()"
   ]
  },
  {
   "cell_type": "code",
   "execution_count": 61,
   "metadata": {},
   "outputs": [],
   "source": [
    "# 4 Drop all outlier rows where 'ODpercent' > 2993.26"
   ]
  },
  {
   "cell_type": "code",
   "execution_count": 59,
   "metadata": {},
   "outputs": [],
   "source": [
    "df_ODraw = df_ODraw.drop(df_ODraw[df_ODraw['ODpercent']==df_ODraw['ODpercent'].max()].index)"
   ]
  },
  {
   "cell_type": "code",
   "execution_count": 60,
   "metadata": {},
   "outputs": [
    {
     "data": {
      "text/plain": [
       "2993.2624113475176"
      ]
     },
     "execution_count": 60,
     "metadata": {},
     "output_type": "execute_result"
    }
   ],
   "source": [
    "df_ODraw['ODpercent'].max()"
   ]
  },
  {
   "cell_type": "code",
   "execution_count": 82,
   "metadata": {},
   "outputs": [
    {
     "data": {
      "text/plain": [
       "<AxesSubplot:xlabel='ASApprovedT&ECost', ylabel='ASApprovedPartnerCost'>"
      ]
     },
     "execution_count": 82,
     "metadata": {},
     "output_type": "execute_result"
    },
    {
     "data": {
      "image/png": "[encoded data removed]",
      "text/plain": [
       "<Figure size 432x288 with 1 Axes>"
      ]
     },
     "metadata": {
      "needs_background": "light"
     },
     "output_type": "display_data"
    }
   ],
   "source": [
    "df_ODraw.plot(kind=\"scatter\",x='ASApprovedT&ECost',y='ASApprovedPartnerCost')"
   ]
  },
  {
   "cell_type": "code",
   "execution_count": 197,
   "metadata": {},
   "outputs": [
    {
     "data": {
      "text/plain": [
       "<AxesSubplot:xlabel='ODpercent'>"
      ]
     },
     "execution_count": 197,
     "metadata": {},
     "output_type": "execute_result"
    },
    {
     "data": {
      "image/png": "[encoded data removed]",
      "text/plain": [
       "<Figure size 432x288 with 1 Axes>"
      ]
     },
     "metadata": {
      "needs_background": "light"
     },
     "output_type": "display_data"
    }
   ],
   "source": [
    "seaborn.boxplot(x=df_ODraw['ODpercent'])"
   ]
  },
  {
   "cell_type": "code",
   "execution_count": 166,
   "metadata": {},
   "outputs": [
    {
     "data": {
      "text/plain": [
       "<AxesSubplot:ylabel='Frequency'>"
      ]
     },
     "execution_count": 166,
     "metadata": {},
     "output_type": "execute_result"
    },
    {
     "data": {
      "image/png": "[encoded data removed]",
      "text/plain": [
       "<Figure size 432x288 with 1 Axes>"
      ]
     },
     "metadata": {
      "needs_background": "light"
     },
     "output_type": "display_data"
    }
   ],
   "source": [
    "df_ODraw['ASApprovedBudgetedHours'].plot.hist(bins=300,xlim=(0,3000))"
   ]
  },
  {
   "cell_type": "code",
   "execution_count": 83,
   "metadata": {},
   "outputs": [
    {
     "data": {
      "text/html": [
       "<div>\n",
       "<style scoped>\n",
       "    .dataframe tbody tr th:only-of-type {\n",
       "        vertical-align: middle;\n",
       "    }\n",
       "\n",
       "    .dataframe tbody tr th {\n",
       "        vertical-align: top;\n",
       "    }\n",
       "\n",
       "    .dataframe thead th {\n",
       "        text-align: right;\n",
       "    }\n",
       "</style>\n",
       "<table border=\"1\" class=\"dataframe\">\n",
       "  <thead>\n",
       "    <tr style=\"text-align: right;\">\n",
       "      <th></th>\n",
       "      <th>ProjectClass</th>\n",
       "      <th>ProjectPLLevel7</th>\n",
       "      <th>ProjectCurrency</th>\n",
       "      <th>ASApprovedBudgetedHours</th>\n",
       "      <th>ASApprovedCostBudget</th>\n",
       "      <th>ASApprovedRevenueBudget</th>\n",
       "      <th>ASApprovedBudgetProjectMargin$</th>\n",
       "      <th>ODFlag</th>\n",
       "      <th>Arch</th>\n",
       "      <th>Offer</th>\n",
       "      <th>ASApprovedBudgetProjectMargin%</th>\n",
       "      <th>ProjectScheduledDuration</th>\n",
       "      <th>ProjectActiveAfterCreat</th>\n",
       "      <th>ASApprovedT&amp;ECost</th>\n",
       "      <th>ASApprovedPartnerCost</th>\n",
       "      <th>Discount%</th>\n",
       "      <th>ProjectCurrencyGroup</th>\n",
       "      <th>ActivationYear</th>\n",
       "      <th>ODpercent</th>\n",
       "    </tr>\n",
       "  </thead>\n",
       "  <tbody>\n",
       "    <tr>\n",
       "      <th>0</th>\n",
       "      <td>Transaction</td>\n",
       "      <td>APJ&amp;GCAPJ&amp;GC</td>\n",
       "      <td>AUD</td>\n",
       "      <td>128</td>\n",
       "      <td>18921</td>\n",
       "      <td>46680</td>\n",
       "      <td>27759</td>\n",
       "      <td>0</td>\n",
       "      <td>ALL</td>\n",
       "      <td>OTHER</td>\n",
       "      <td>0.59</td>\n",
       "      <td>365</td>\n",
       "      <td>699</td>\n",
       "      <td>0</td>\n",
       "      <td>0</td>\n",
       "      <td>0.161186</td>\n",
       "      <td>AUDCAD</td>\n",
       "      <td>2010</td>\n",
       "      <td>19.148037</td>\n",
       "    </tr>\n",
       "    <tr>\n",
       "      <th>1</th>\n",
       "      <td>Transaction</td>\n",
       "      <td>AMERNOPS</td>\n",
       "      <td>USD</td>\n",
       "      <td>4672</td>\n",
       "      <td>656330</td>\n",
       "      <td>1204673</td>\n",
       "      <td>548343</td>\n",
       "      <td>0</td>\n",
       "      <td>ALL</td>\n",
       "      <td>OTHER</td>\n",
       "      <td>0.46</td>\n",
       "      <td>1940</td>\n",
       "      <td>839</td>\n",
       "      <td>54250</td>\n",
       "      <td>0</td>\n",
       "      <td>0.174039</td>\n",
       "      <td>OTHERCURRENCY</td>\n",
       "      <td>2011</td>\n",
       "      <td>36.257523</td>\n",
       "    </tr>\n",
       "    <tr>\n",
       "      <th>2</th>\n",
       "      <td>Transaction</td>\n",
       "      <td>EMEAREMEAR</td>\n",
       "      <td>USD</td>\n",
       "      <td>1824</td>\n",
       "      <td>279120</td>\n",
       "      <td>449272</td>\n",
       "      <td>170152</td>\n",
       "      <td>0</td>\n",
       "      <td>ALL</td>\n",
       "      <td>OTHER</td>\n",
       "      <td>0.38</td>\n",
       "      <td>1791</td>\n",
       "      <td>583</td>\n",
       "      <td>0</td>\n",
       "      <td>0</td>\n",
       "      <td>0.275679</td>\n",
       "      <td>OTHERCURRENCY</td>\n",
       "      <td>2010</td>\n",
       "      <td>79.831972</td>\n",
       "    </tr>\n",
       "    <tr>\n",
       "      <th>3</th>\n",
       "      <td>Transaction</td>\n",
       "      <td>GSPEMEAR</td>\n",
       "      <td>USD</td>\n",
       "      <td>736</td>\n",
       "      <td>116640</td>\n",
       "      <td>194399</td>\n",
       "      <td>77759</td>\n",
       "      <td>0</td>\n",
       "      <td>ALL</td>\n",
       "      <td>OTHER</td>\n",
       "      <td>0.40</td>\n",
       "      <td>365</td>\n",
       "      <td>531</td>\n",
       "      <td>0</td>\n",
       "      <td>0</td>\n",
       "      <td>0.250004</td>\n",
       "      <td>OTHERCURRENCY</td>\n",
       "      <td>2010</td>\n",
       "      <td>53.104424</td>\n",
       "    </tr>\n",
       "    <tr>\n",
       "      <th>4</th>\n",
       "      <td>Transaction</td>\n",
       "      <td>AMERNOPS</td>\n",
       "      <td>CAD</td>\n",
       "      <td>476</td>\n",
       "      <td>77311</td>\n",
       "      <td>151697</td>\n",
       "      <td>74386</td>\n",
       "      <td>0</td>\n",
       "      <td>ALL</td>\n",
       "      <td>OTHER</td>\n",
       "      <td>0.49</td>\n",
       "      <td>365</td>\n",
       "      <td>658</td>\n",
       "      <td>0</td>\n",
       "      <td>0</td>\n",
       "      <td>0.332864</td>\n",
       "      <td>AUDCAD</td>\n",
       "      <td>2010</td>\n",
       "      <td>94.462625</td>\n",
       "    </tr>\n",
       "    <tr>\n",
       "      <th>...</th>\n",
       "      <td>...</td>\n",
       "      <td>...</td>\n",
       "      <td>...</td>\n",
       "      <td>...</td>\n",
       "      <td>...</td>\n",
       "      <td>...</td>\n",
       "      <td>...</td>\n",
       "      <td>...</td>\n",
       "      <td>...</td>\n",
       "      <td>...</td>\n",
       "      <td>...</td>\n",
       "      <td>...</td>\n",
       "      <td>...</td>\n",
       "      <td>...</td>\n",
       "      <td>...</td>\n",
       "      <td>...</td>\n",
       "      <td>...</td>\n",
       "      <td>...</td>\n",
       "      <td>...</td>\n",
       "    </tr>\n",
       "    <tr>\n",
       "      <th>28060</th>\n",
       "      <td>Subscription</td>\n",
       "      <td>GSPAPJ</td>\n",
       "      <td>AUD</td>\n",
       "      <td>55</td>\n",
       "      <td>8276</td>\n",
       "      <td>12184</td>\n",
       "      <td>3907</td>\n",
       "      <td>0</td>\n",
       "      <td>CORENETWORKING</td>\n",
       "      <td>OPTIMIZATION</td>\n",
       "      <td>0.32</td>\n",
       "      <td>41</td>\n",
       "      <td>8</td>\n",
       "      <td>0</td>\n",
       "      <td>0</td>\n",
       "      <td>0.587782</td>\n",
       "      <td>AUDCAD</td>\n",
       "      <td>2017</td>\n",
       "      <td>44.647173</td>\n",
       "    </tr>\n",
       "    <tr>\n",
       "      <th>28061</th>\n",
       "      <td>Subscription</td>\n",
       "      <td>AMERNOPS</td>\n",
       "      <td>USD</td>\n",
       "      <td>48</td>\n",
       "      <td>9840</td>\n",
       "      <td>20000</td>\n",
       "      <td>10160</td>\n",
       "      <td>0</td>\n",
       "      <td>COLLABORATION</td>\n",
       "      <td>SWINTG</td>\n",
       "      <td>0.51</td>\n",
       "      <td>104</td>\n",
       "      <td>74</td>\n",
       "      <td>0</td>\n",
       "      <td>0</td>\n",
       "      <td>0.430894</td>\n",
       "      <td>OTHERCURRENCY</td>\n",
       "      <td>2017</td>\n",
       "      <td>90.528455</td>\n",
       "    </tr>\n",
       "    <tr>\n",
       "      <th>28062</th>\n",
       "      <td>Subscription</td>\n",
       "      <td>GSPAMER</td>\n",
       "      <td>USD</td>\n",
       "      <td>13</td>\n",
       "      <td>2665</td>\n",
       "      <td>5922</td>\n",
       "      <td>3257</td>\n",
       "      <td>0</td>\n",
       "      <td>COLLABORATION</td>\n",
       "      <td>SWINTG</td>\n",
       "      <td>0.55</td>\n",
       "      <td>59</td>\n",
       "      <td>3</td>\n",
       "      <td>0</td>\n",
       "      <td>0</td>\n",
       "      <td>0.377801</td>\n",
       "      <td>OTHERCURRENCY</td>\n",
       "      <td>2017</td>\n",
       "      <td>82.401501</td>\n",
       "    </tr>\n",
       "    <tr>\n",
       "      <th>28063</th>\n",
       "      <td>Subscription</td>\n",
       "      <td>AMERUSPS</td>\n",
       "      <td>USD</td>\n",
       "      <td>589</td>\n",
       "      <td>103597</td>\n",
       "      <td>231360</td>\n",
       "      <td>127763</td>\n",
       "      <td>1</td>\n",
       "      <td>CORENETWORKING</td>\n",
       "      <td>OPTIMIZATION</td>\n",
       "      <td>0.55</td>\n",
       "      <td>104</td>\n",
       "      <td>93</td>\n",
       "      <td>0</td>\n",
       "      <td>0</td>\n",
       "      <td>0.374685</td>\n",
       "      <td>OTHERCURRENCY</td>\n",
       "      <td>2017</td>\n",
       "      <td>116.118227</td>\n",
       "    </tr>\n",
       "    <tr>\n",
       "      <th>28064</th>\n",
       "      <td>Transaction</td>\n",
       "      <td>EMEAREMEAR</td>\n",
       "      <td>USD</td>\n",
       "      <td>2600</td>\n",
       "      <td>392000</td>\n",
       "      <td>726000</td>\n",
       "      <td>334000</td>\n",
       "      <td>1</td>\n",
       "      <td>ALL</td>\n",
       "      <td>OTHER</td>\n",
       "      <td>0.46</td>\n",
       "      <td>2278</td>\n",
       "      <td>706</td>\n",
       "      <td>0</td>\n",
       "      <td>0</td>\n",
       "      <td>0.166582</td>\n",
       "      <td>OTHERCURRENCY</td>\n",
       "      <td>2010</td>\n",
       "      <td>257.645663</td>\n",
       "    </tr>\n",
       "  </tbody>\n",
       "</table>\n",
       "<p>28065 rows × 19 columns</p>\n",
       "</div>"
      ],
      "text/plain": [
       "       ProjectClass ProjectPLLevel7 ProjectCurrency  ASApprovedBudgetedHours  \\\n",
       "0       Transaction    APJ&GCAPJ&GC             AUD                      128   \n",
       "1       Transaction        AMERNOPS             USD                     4672   \n",
       "2       Transaction      EMEAREMEAR             USD                     1824   \n",
       "3       Transaction        GSPEMEAR             USD                      736   \n",
       "4       Transaction        AMERNOPS             CAD                      476   \n",
       "...             ...             ...             ...                      ...   \n",
       "28060  Subscription          GSPAPJ             AUD                       55   \n",
       "28061  Subscription        AMERNOPS             USD                       48   \n",
       "28062  Subscription         GSPAMER             USD                       13   \n",
       "28063  Subscription        AMERUSPS             USD                      589   \n",
       "28064   Transaction      EMEAREMEAR             USD                     2600   \n",
       "\n",
       "       ASApprovedCostBudget  ASApprovedRevenueBudget  \\\n",
       "0                     18921                    46680   \n",
       "1                    656330                  1204673   \n",
       "2                    279120                   449272   \n",
       "3                    116640                   194399   \n",
       "4                     77311                   151697   \n",
       "...                     ...                      ...   \n",
       "28060                  8276                    12184   \n",
       "28061                  9840                    20000   \n",
       "28062                  2665                     5922   \n",
       "28063                103597                   231360   \n",
       "28064                392000                   726000   \n",
       "\n",
       "       ASApprovedBudgetProjectMargin$  ODFlag            Arch         Offer  \\\n",
       "0                               27759       0             ALL         OTHER   \n",
       "1                              548343       0             ALL         OTHER   \n",
       "2                              170152       0             ALL         OTHER   \n",
       "3                               77759       0             ALL         OTHER   \n",
       "4                               74386       0             ALL         OTHER   \n",
       "...                               ...     ...             ...           ...   \n",
       "28060                            3907       0  CORENETWORKING  OPTIMIZATION   \n",
       "28061                           10160       0   COLLABORATION        SWINTG   \n",
       "28062                            3257       0   COLLABORATION        SWINTG   \n",
       "28063                          127763       1  CORENETWORKING  OPTIMIZATION   \n",
       "28064                          334000       1             ALL         OTHER   \n",
       "\n",
       "       ASApprovedBudgetProjectMargin%  ProjectScheduledDuration  \\\n",
       "0                                0.59                       365   \n",
       "1                                0.46                      1940   \n",
       "2                                0.38                      1791   \n",
       "3                                0.40                       365   \n",
       "4                                0.49                       365   \n",
       "...                               ...                       ...   \n",
       "28060                            0.32                        41   \n",
       "28061                            0.51                       104   \n",
       "28062                            0.55                        59   \n",
       "28063                            0.55                       104   \n",
       "28064                            0.46                      2278   \n",
       "\n",
       "       ProjectActiveAfterCreat  ASApprovedT&ECost  ASApprovedPartnerCost  \\\n",
       "0                          699                  0                      0   \n",
       "1                          839              54250                      0   \n",
       "2                          583                  0                      0   \n",
       "3                          531                  0                      0   \n",
       "4                          658                  0                      0   \n",
       "...                        ...                ...                    ...   \n",
       "28060                        8                  0                      0   \n",
       "28061                       74                  0                      0   \n",
       "28062                        3                  0                      0   \n",
       "28063                       93                  0                      0   \n",
       "28064                      706                  0                      0   \n",
       "\n",
       "       Discount% ProjectCurrencyGroup  ActivationYear   ODpercent  \n",
       "0       0.161186               AUDCAD            2010   19.148037  \n",
       "1       0.174039        OTHERCURRENCY            2011   36.257523  \n",
       "2       0.275679        OTHERCURRENCY            2010   79.831972  \n",
       "3       0.250004        OTHERCURRENCY            2010   53.104424  \n",
       "4       0.332864               AUDCAD            2010   94.462625  \n",
       "...          ...                  ...             ...         ...  \n",
       "28060   0.587782               AUDCAD            2017   44.647173  \n",
       "28061   0.430894        OTHERCURRENCY            2017   90.528455  \n",
       "28062   0.377801        OTHERCURRENCY            2017   82.401501  \n",
       "28063   0.374685        OTHERCURRENCY            2017  116.118227  \n",
       "28064   0.166582        OTHERCURRENCY            2010  257.645663  \n",
       "\n",
       "[28065 rows x 19 columns]"
      ]
     },
     "execution_count": 83,
     "metadata": {},
     "output_type": "execute_result"
    }
   ],
   "source": [
    "df_ODraw.reset_index(drop=True)"
   ]
  },
  {
   "cell_type": "code",
   "execution_count": 145,
   "metadata": {},
   "outputs": [
    {
     "data": {
      "text/html": [
       "<div>\n",
       "<style scoped>\n",
       "    .dataframe tbody tr th:only-of-type {\n",
       "        vertical-align: middle;\n",
       "    }\n",
       "\n",
       "    .dataframe tbody tr th {\n",
       "        vertical-align: top;\n",
       "    }\n",
       "\n",
       "    .dataframe thead th {\n",
       "        text-align: right;\n",
       "    }\n",
       "</style>\n",
       "<table border=\"1\" class=\"dataframe\">\n",
       "  <thead>\n",
       "    <tr style=\"text-align: right;\">\n",
       "      <th></th>\n",
       "      <th>ProjectClass</th>\n",
       "      <th>ProjectPLLevel7</th>\n",
       "      <th>ProjectCurrency</th>\n",
       "      <th>ASApprovedBudgetedHours</th>\n",
       "      <th>ASApprovedCostBudget</th>\n",
       "      <th>ASApprovedRevenueBudget</th>\n",
       "      <th>ASApprovedBudgetProjectMargin$</th>\n",
       "      <th>ODFlag</th>\n",
       "      <th>Arch</th>\n",
       "      <th>Offer</th>\n",
       "      <th>ASApprovedBudgetProjectMargin%</th>\n",
       "      <th>ProjectScheduledDuration</th>\n",
       "      <th>ProjectActiveAfterCreat</th>\n",
       "      <th>ASApprovedT&amp;ECost</th>\n",
       "      <th>ASApprovedPartnerCost</th>\n",
       "      <th>Discount%</th>\n",
       "      <th>ProjectCurrencyGroup</th>\n",
       "      <th>ActivationYear</th>\n",
       "      <th>ODpercent</th>\n",
       "    </tr>\n",
       "  </thead>\n",
       "  <tbody>\n",
       "    <tr>\n",
       "      <th>0</th>\n",
       "      <td>Transaction</td>\n",
       "      <td>APJ&amp;GCAPJ&amp;GC</td>\n",
       "      <td>AUD</td>\n",
       "      <td>128</td>\n",
       "      <td>18921</td>\n",
       "      <td>46680</td>\n",
       "      <td>27759</td>\n",
       "      <td>0</td>\n",
       "      <td>ALL</td>\n",
       "      <td>OTHER</td>\n",
       "      <td>0.59</td>\n",
       "      <td>365</td>\n",
       "      <td>699</td>\n",
       "      <td>0</td>\n",
       "      <td>0</td>\n",
       "      <td>0.161186</td>\n",
       "      <td>AUDCAD</td>\n",
       "      <td>2010</td>\n",
       "      <td>19.148037</td>\n",
       "    </tr>\n",
       "    <tr>\n",
       "      <th>1</th>\n",
       "      <td>Transaction</td>\n",
       "      <td>AMERNOPS</td>\n",
       "      <td>USD</td>\n",
       "      <td>4672</td>\n",
       "      <td>656330</td>\n",
       "      <td>1204673</td>\n",
       "      <td>548343</td>\n",
       "      <td>0</td>\n",
       "      <td>ALL</td>\n",
       "      <td>OTHER</td>\n",
       "      <td>0.46</td>\n",
       "      <td>1940</td>\n",
       "      <td>839</td>\n",
       "      <td>54250</td>\n",
       "      <td>0</td>\n",
       "      <td>0.174039</td>\n",
       "      <td>OTHERCURRENCY</td>\n",
       "      <td>2011</td>\n",
       "      <td>36.257523</td>\n",
       "    </tr>\n",
       "    <tr>\n",
       "      <th>2</th>\n",
       "      <td>Transaction</td>\n",
       "      <td>EMEAREMEAR</td>\n",
       "      <td>USD</td>\n",
       "      <td>1824</td>\n",
       "      <td>279120</td>\n",
       "      <td>449272</td>\n",
       "      <td>170152</td>\n",
       "      <td>0</td>\n",
       "      <td>ALL</td>\n",
       "      <td>OTHER</td>\n",
       "      <td>0.38</td>\n",
       "      <td>1791</td>\n",
       "      <td>583</td>\n",
       "      <td>0</td>\n",
       "      <td>0</td>\n",
       "      <td>0.275679</td>\n",
       "      <td>OTHERCURRENCY</td>\n",
       "      <td>2010</td>\n",
       "      <td>79.831972</td>\n",
       "    </tr>\n",
       "    <tr>\n",
       "      <th>3</th>\n",
       "      <td>Transaction</td>\n",
       "      <td>GSPEMEAR</td>\n",
       "      <td>USD</td>\n",
       "      <td>736</td>\n",
       "      <td>116640</td>\n",
       "      <td>194399</td>\n",
       "      <td>77759</td>\n",
       "      <td>0</td>\n",
       "      <td>ALL</td>\n",
       "      <td>OTHER</td>\n",
       "      <td>0.40</td>\n",
       "      <td>365</td>\n",
       "      <td>531</td>\n",
       "      <td>0</td>\n",
       "      <td>0</td>\n",
       "      <td>0.250004</td>\n",
       "      <td>OTHERCURRENCY</td>\n",
       "      <td>2010</td>\n",
       "      <td>53.104424</td>\n",
       "    </tr>\n",
       "    <tr>\n",
       "      <th>4</th>\n",
       "      <td>Transaction</td>\n",
       "      <td>AMERNOPS</td>\n",
       "      <td>CAD</td>\n",
       "      <td>476</td>\n",
       "      <td>77311</td>\n",
       "      <td>151697</td>\n",
       "      <td>74386</td>\n",
       "      <td>0</td>\n",
       "      <td>ALL</td>\n",
       "      <td>OTHER</td>\n",
       "      <td>0.49</td>\n",
       "      <td>365</td>\n",
       "      <td>658</td>\n",
       "      <td>0</td>\n",
       "      <td>0</td>\n",
       "      <td>0.332864</td>\n",
       "      <td>AUDCAD</td>\n",
       "      <td>2010</td>\n",
       "      <td>94.462625</td>\n",
       "    </tr>\n",
       "  </tbody>\n",
       "</table>\n",
       "</div>"
      ],
      "text/plain": [
       "  ProjectClass ProjectPLLevel7 ProjectCurrency  ASApprovedBudgetedHours  \\\n",
       "0  Transaction    APJ&GCAPJ&GC             AUD                      128   \n",
       "1  Transaction        AMERNOPS             USD                     4672   \n",
       "2  Transaction      EMEAREMEAR             USD                     1824   \n",
       "3  Transaction        GSPEMEAR             USD                      736   \n",
       "4  Transaction        AMERNOPS             CAD                      476   \n",
       "\n",
       "   ASApprovedCostBudget  ASApprovedRevenueBudget  \\\n",
       "0                 18921                    46680   \n",
       "1                656330                  1204673   \n",
       "2                279120                   449272   \n",
       "3                116640                   194399   \n",
       "4                 77311                   151697   \n",
       "\n",
       "   ASApprovedBudgetProjectMargin$  ODFlag Arch  Offer  \\\n",
       "0                           27759       0  ALL  OTHER   \n",
       "1                          548343       0  ALL  OTHER   \n",
       "2                          170152       0  ALL  OTHER   \n",
       "3                           77759       0  ALL  OTHER   \n",
       "4                           74386       0  ALL  OTHER   \n",
       "\n",
       "   ASApprovedBudgetProjectMargin%  ProjectScheduledDuration  \\\n",
       "0                            0.59                       365   \n",
       "1                            0.46                      1940   \n",
       "2                            0.38                      1791   \n",
       "3                            0.40                       365   \n",
       "4                            0.49                       365   \n",
       "\n",
       "   ProjectActiveAfterCreat  ASApprovedT&ECost  ASApprovedPartnerCost  \\\n",
       "0                      699                  0                      0   \n",
       "1                      839              54250                      0   \n",
       "2                      583                  0                      0   \n",
       "3                      531                  0                      0   \n",
       "4                      658                  0                      0   \n",
       "\n",
       "   Discount% ProjectCurrencyGroup  ActivationYear  ODpercent  \n",
       "0   0.161186               AUDCAD            2010  19.148037  \n",
       "1   0.174039        OTHERCURRENCY            2011  36.257523  \n",
       "2   0.275679        OTHERCURRENCY            2010  79.831972  \n",
       "3   0.250004        OTHERCURRENCY            2010  53.104424  \n",
       "4   0.332864               AUDCAD            2010  94.462625  "
      ]
     },
     "execution_count": 145,
     "metadata": {},
     "output_type": "execute_result"
    }
   ],
   "source": [
    "df_ODraw.head()"
   ]
  },
  {
   "cell_type": "code",
   "execution_count": 84,
   "metadata": {},
   "outputs": [],
   "source": [
    "ODraw = df_ODraw"
   ]
  },
  {
   "cell_type": "code",
   "execution_count": 85,
   "metadata": {},
   "outputs": [],
   "source": [
    "del df_ODraw"
   ]
  },
  {
   "cell_type": "code",
   "execution_count": 86,
   "metadata": {},
   "outputs": [],
   "source": [
    "ODprcraw = ODraw"
   ]
  },
  {
   "cell_type": "code",
   "execution_count": 87,
   "metadata": {},
   "outputs": [],
   "source": [
    "ODprcraw = ODprcraw.drop(['ProjectCurrency'],axis=1)"
   ]
  },
  {
   "cell_type": "code",
   "execution_count": 88,
   "metadata": {},
   "outputs": [],
   "source": [
    "ODraw = ODraw.drop(['ProjectCurrency'],axis=1)"
   ]
  },
  {
   "cell_type": "code",
   "execution_count": 89,
   "metadata": {},
   "outputs": [],
   "source": [
    "ODraw = ODraw.drop(['ODpercent'],axis=1)"
   ]
  },
  {
   "cell_type": "code",
   "execution_count": null,
   "metadata": {},
   "outputs": [],
   "source": [
    "# Convert ActivationYear to dtype:String"
   ]
  },
  {
   "cell_type": "code",
   "execution_count": 90,
   "metadata": {},
   "outputs": [],
   "source": [
    "ODraw['ActivationYear'] = ODraw['ActivationYear'].astype(int).astype(str)"
   ]
  },
  {
   "cell_type": "code",
   "execution_count": 91,
   "metadata": {},
   "outputs": [],
   "source": [
    "ODraw['ASApprovedBudgetedHours'] = (ODraw['ASApprovedBudgetedHours']-ODraw['ASApprovedBudgetedHours'].mean())/ODraw['ASApprovedBudgetedHours'].std()"
   ]
  },
  {
   "cell_type": "code",
   "execution_count": 92,
   "metadata": {},
   "outputs": [],
   "source": [
    "ODraw['ASApprovedCostBudget'] = (ODraw['ASApprovedCostBudget']-ODraw['ASApprovedCostBudget'].mean())/ODraw['ASApprovedCostBudget'].std()"
   ]
  },
  {
   "cell_type": "code",
   "execution_count": 93,
   "metadata": {},
   "outputs": [],
   "source": [
    "ODraw['ASApprovedRevenueBudget'] = (ODraw['ASApprovedRevenueBudget']-ODraw['ASApprovedRevenueBudget'].mean())/ODraw['ASApprovedRevenueBudget'].std()"
   ]
  },
  {
   "cell_type": "code",
   "execution_count": 94,
   "metadata": {},
   "outputs": [],
   "source": [
    "ODraw['ASApprovedBudgetProjectMargin$'] = (ODraw['ASApprovedBudgetProjectMargin$']-ODraw['ASApprovedBudgetProjectMargin$'].mean())/ODraw['ASApprovedBudgetProjectMargin$'].std()"
   ]
  },
  {
   "cell_type": "code",
   "execution_count": 95,
   "metadata": {},
   "outputs": [],
   "source": [
    "ODraw['ASApprovedBudgetProjectMargin%'] = (ODraw['ASApprovedBudgetProjectMargin%']-ODraw['ASApprovedBudgetProjectMargin%'].mean())/ODraw['ASApprovedBudgetProjectMargin%'].std()"
   ]
  },
  {
   "cell_type": "code",
   "execution_count": 96,
   "metadata": {},
   "outputs": [],
   "source": [
    "ODraw['ProjectScheduledDuration'] = (ODraw['ProjectScheduledDuration']-ODraw['ProjectScheduledDuration'].mean())/ODraw['ProjectScheduledDuration'].std()"
   ]
  },
  {
   "cell_type": "code",
   "execution_count": 97,
   "metadata": {},
   "outputs": [],
   "source": [
    "ODraw['ProjectActiveAfterCreat'] = (ODraw['ProjectActiveAfterCreat']-ODraw['ProjectActiveAfterCreat'].mean())/ODraw['ProjectActiveAfterCreat'].std()"
   ]
  },
  {
   "cell_type": "code",
   "execution_count": 98,
   "metadata": {},
   "outputs": [],
   "source": [
    "ODraw['ASApprovedT&ECost'] = (ODraw['ASApprovedT&ECost']-ODraw['ASApprovedT&ECost'].mean())/ODraw['ASApprovedT&ECost'].std()"
   ]
  },
  {
   "cell_type": "code",
   "execution_count": 99,
   "metadata": {},
   "outputs": [],
   "source": [
    "ODraw['ASApprovedPartnerCost'] = (ODraw['ASApprovedPartnerCost']-ODraw['ASApprovedPartnerCost'].mean())/ODraw['ASApprovedPartnerCost'].std()"
   ]
  },
  {
   "cell_type": "code",
   "execution_count": 100,
   "metadata": {},
   "outputs": [],
   "source": [
    "ODraw['Discount%'] = (ODraw['Discount%']-ODraw['Discount%'].mean())/ODraw['Discount%'].std()"
   ]
  },
  {
   "cell_type": "code",
   "execution_count": 101,
   "metadata": {},
   "outputs": [
    {
     "data": {
      "text/plain": [
       "-1.6304632881863692e-16"
      ]
     },
     "execution_count": 101,
     "metadata": {},
     "output_type": "execute_result"
    }
   ],
   "source": [
    "ODraw['Discount%'].mean()"
   ]
  },
  {
   "cell_type": "code",
   "execution_count": 102,
   "metadata": {},
   "outputs": [],
   "source": [
    "ODrawnn = pd.get_dummies(ODraw,prefix_sep='_')"
   ]
  },
  {
   "cell_type": "code",
   "execution_count": 103,
   "metadata": {},
   "outputs": [
    {
     "data": {
      "text/html": [
       "<div>\n",
       "<style scoped>\n",
       "    .dataframe tbody tr th:only-of-type {\n",
       "        vertical-align: middle;\n",
       "    }\n",
       "\n",
       "    .dataframe tbody tr th {\n",
       "        vertical-align: top;\n",
       "    }\n",
       "\n",
       "    .dataframe thead th {\n",
       "        text-align: right;\n",
       "    }\n",
       "</style>\n",
       "<table border=\"1\" class=\"dataframe\">\n",
       "  <thead>\n",
       "    <tr style=\"text-align: right;\">\n",
       "      <th></th>\n",
       "      <th>ASApprovedBudgetedHours</th>\n",
       "      <th>ASApprovedCostBudget</th>\n",
       "      <th>ASApprovedRevenueBudget</th>\n",
       "      <th>ASApprovedBudgetProjectMargin$</th>\n",
       "      <th>ODFlag</th>\n",
       "      <th>ASApprovedBudgetProjectMargin%</th>\n",
       "      <th>ProjectScheduledDuration</th>\n",
       "      <th>ProjectActiveAfterCreat</th>\n",
       "      <th>ASApprovedT&amp;ECost</th>\n",
       "      <th>ASApprovedPartnerCost</th>\n",
       "      <th>...</th>\n",
       "      <th>ProjectCurrencyGroup_BRL</th>\n",
       "      <th>ProjectCurrencyGroup_OTHERCURRENCY</th>\n",
       "      <th>ActivationYear_2010</th>\n",
       "      <th>ActivationYear_2011</th>\n",
       "      <th>ActivationYear_2012</th>\n",
       "      <th>ActivationYear_2013</th>\n",
       "      <th>ActivationYear_2014</th>\n",
       "      <th>ActivationYear_2015</th>\n",
       "      <th>ActivationYear_2016</th>\n",
       "      <th>ActivationYear_2017</th>\n",
       "    </tr>\n",
       "  </thead>\n",
       "  <tbody>\n",
       "    <tr>\n",
       "      <th>0</th>\n",
       "      <td>-0.209126</td>\n",
       "      <td>-0.291951</td>\n",
       "      <td>-0.272851</td>\n",
       "      <td>-0.172556</td>\n",
       "      <td>0</td>\n",
       "      <td>0.026191</td>\n",
       "      <td>-0.201803</td>\n",
       "      <td>7.397249</td>\n",
       "      <td>-0.222745</td>\n",
       "      <td>-0.139817</td>\n",
       "      <td>...</td>\n",
       "      <td>0</td>\n",
       "      <td>0</td>\n",
       "      <td>1</td>\n",
       "      <td>0</td>\n",
       "      <td>0</td>\n",
       "      <td>0</td>\n",
       "      <td>0</td>\n",
       "      <td>0</td>\n",
       "      <td>0</td>\n",
       "      <td>0</td>\n",
       "    </tr>\n",
       "    <tr>\n",
       "      <th>1</th>\n",
       "      <td>1.763426</td>\n",
       "      <td>0.641056</td>\n",
       "      <td>0.781153</td>\n",
       "      <td>0.722905</td>\n",
       "      <td>0</td>\n",
       "      <td>0.018774</td>\n",
       "      <td>6.331390</td>\n",
       "      <td>9.060840</td>\n",
       "      <td>1.227140</td>\n",
       "      <td>-0.139817</td>\n",
       "      <td>...</td>\n",
       "      <td>0</td>\n",
       "      <td>1</td>\n",
       "      <td>0</td>\n",
       "      <td>1</td>\n",
       "      <td>0</td>\n",
       "      <td>0</td>\n",
       "      <td>0</td>\n",
       "      <td>0</td>\n",
       "      <td>0</td>\n",
       "      <td>0</td>\n",
       "    </tr>\n",
       "    <tr>\n",
       "      <th>2</th>\n",
       "      <td>0.527108</td>\n",
       "      <td>0.088915</td>\n",
       "      <td>0.093587</td>\n",
       "      <td>0.072375</td>\n",
       "      <td>0</td>\n",
       "      <td>0.014209</td>\n",
       "      <td>5.713329</td>\n",
       "      <td>6.018846</td>\n",
       "      <td>-0.222745</td>\n",
       "      <td>-0.139817</td>\n",
       "      <td>...</td>\n",
       "      <td>0</td>\n",
       "      <td>1</td>\n",
       "      <td>1</td>\n",
       "      <td>0</td>\n",
       "      <td>0</td>\n",
       "      <td>0</td>\n",
       "      <td>0</td>\n",
       "      <td>0</td>\n",
       "      <td>0</td>\n",
       "      <td>0</td>\n",
       "    </tr>\n",
       "    <tr>\n",
       "      <th>3</th>\n",
       "      <td>0.054807</td>\n",
       "      <td>-0.148915</td>\n",
       "      <td>-0.138398</td>\n",
       "      <td>-0.086551</td>\n",
       "      <td>0</td>\n",
       "      <td>0.015351</td>\n",
       "      <td>-0.201803</td>\n",
       "      <td>5.400941</td>\n",
       "      <td>-0.222745</td>\n",
       "      <td>-0.139817</td>\n",
       "      <td>...</td>\n",
       "      <td>0</td>\n",
       "      <td>1</td>\n",
       "      <td>1</td>\n",
       "      <td>0</td>\n",
       "      <td>0</td>\n",
       "      <td>0</td>\n",
       "      <td>0</td>\n",
       "      <td>0</td>\n",
       "      <td>0</td>\n",
       "      <td>0</td>\n",
       "    </tr>\n",
       "    <tr>\n",
       "      <th>4</th>\n",
       "      <td>-0.058059</td>\n",
       "      <td>-0.206482</td>\n",
       "      <td>-0.177265</td>\n",
       "      <td>-0.092353</td>\n",
       "      <td>0</td>\n",
       "      <td>0.020486</td>\n",
       "      <td>-0.201803</td>\n",
       "      <td>6.910055</td>\n",
       "      <td>-0.222745</td>\n",
       "      <td>-0.139817</td>\n",
       "      <td>...</td>\n",
       "      <td>0</td>\n",
       "      <td>0</td>\n",
       "      <td>1</td>\n",
       "      <td>0</td>\n",
       "      <td>0</td>\n",
       "      <td>0</td>\n",
       "      <td>0</td>\n",
       "      <td>0</td>\n",
       "      <td>0</td>\n",
       "      <td>0</td>\n",
       "    </tr>\n",
       "  </tbody>\n",
       "</table>\n",
       "<p>5 rows × 48 columns</p>\n",
       "</div>"
      ],
      "text/plain": [
       "   ASApprovedBudgetedHours  ASApprovedCostBudget  ASApprovedRevenueBudget  \\\n",
       "0                -0.209126             -0.291951                -0.272851   \n",
       "1                 1.763426              0.641056                 0.781153   \n",
       "2                 0.527108              0.088915                 0.093587   \n",
       "3                 0.054807             -0.148915                -0.138398   \n",
       "4                -0.058059             -0.206482                -0.177265   \n",
       "\n",
       "   ASApprovedBudgetProjectMargin$  ODFlag  ASApprovedBudgetProjectMargin%  \\\n",
       "0                       -0.172556       0                        0.026191   \n",
       "1                        0.722905       0                        0.018774   \n",
       "2                        0.072375       0                        0.014209   \n",
       "3                       -0.086551       0                        0.015351   \n",
       "4                       -0.092353       0                        0.020486   \n",
       "\n",
       "   ProjectScheduledDuration  ProjectActiveAfterCreat  ASApprovedT&ECost  \\\n",
       "0                 -0.201803                 7.397249          -0.222745   \n",
       "1                  6.331390                 9.060840           1.227140   \n",
       "2                  5.713329                 6.018846          -0.222745   \n",
       "3                 -0.201803                 5.400941          -0.222745   \n",
       "4                 -0.201803                 6.910055          -0.222745   \n",
       "\n",
       "   ASApprovedPartnerCost  ...  ProjectCurrencyGroup_BRL  \\\n",
       "0              -0.139817  ...                         0   \n",
       "1              -0.139817  ...                         0   \n",
       "2              -0.139817  ...                         0   \n",
       "3              -0.139817  ...                         0   \n",
       "4              -0.139817  ...                         0   \n",
       "\n",
       "   ProjectCurrencyGroup_OTHERCURRENCY  ActivationYear_2010  \\\n",
       "0                                   0                    1   \n",
       "1                                   1                    0   \n",
       "2                                   1                    1   \n",
       "3                                   1                    1   \n",
       "4                                   0                    1   \n",
       "\n",
       "   ActivationYear_2011  ActivationYear_2012  ActivationYear_2013  \\\n",
       "0                    0                    0                    0   \n",
       "1                    1                    0                    0   \n",
       "2                    0                    0                    0   \n",
       "3                    0                    0                    0   \n",
       "4                    0                    0                    0   \n",
       "\n",
       "   ActivationYear_2014  ActivationYear_2015  ActivationYear_2016  \\\n",
       "0                    0                    0                    0   \n",
       "1                    0                    0                    0   \n",
       "2                    0                    0                    0   \n",
       "3                    0                    0                    0   \n",
       "4                    0                    0                    0   \n",
       "\n",
       "   ActivationYear_2017  \n",
       "0                    0  \n",
       "1                    0  \n",
       "2                    0  \n",
       "3                    0  \n",
       "4                    0  \n",
       "\n",
       "[5 rows x 48 columns]"
      ]
     },
     "execution_count": 103,
     "metadata": {},
     "output_type": "execute_result"
    }
   ],
   "source": [
    "ODrawnn.head()"
   ]
  },
  {
   "cell_type": "code",
   "execution_count": 104,
   "metadata": {},
   "outputs": [],
   "source": [
    "target = ['ODFlag']\n",
    "predictors = list(set(list(ODrawnn.columns))-set(target))"
   ]
  },
  {
   "cell_type": "code",
   "execution_count": 105,
   "metadata": {},
   "outputs": [],
   "source": [
    "x = ODrawnn[predictors].values\n",
    "y = ODrawnn[target].values\n",
    "x_train,x_test,y_train,y_test = train_test_split(x,y,test_size=0.20,random_state=1)"
   ]
  },
  {
   "cell_type": "code",
   "execution_count": 106,
   "metadata": {},
   "outputs": [
    {
     "name": "stdout",
     "output_type": "stream",
     "text": [
      "(22452, 47)\n",
      "(5613, 47)\n",
      "(22452, 1)\n",
      "<class 'numpy.ndarray'>\n"
     ]
    }
   ],
   "source": [
    "print(x_train.shape)\n",
    "print(x_test.shape)\n",
    "print(y_train.shape)\n",
    "print(type(y_test))"
   ]
  },
  {
   "cell_type": "code",
   "execution_count": null,
   "metadata": {},
   "outputs": [],
   "source": [
    "# Implementing ROC curve"
   ]
  },
  {
   "cell_type": "code",
   "execution_count": 107,
   "metadata": {},
   "outputs": [],
   "source": [
    "def plot_roc_curve(fpr,tpr,auc,Ji):\n",
    "    plt.plot(fpr, tpr, color='orange', label='ROC (area=%0.2f)' % auc)\n",
    "    plt.plot(label='Best threshold')\n",
    "    plt.scatter(fpr[Ji], tpr[Ji], marker='o', color='black', label='Best')\n",
    "    plt.plot([0, 1], [0, 1], color='darkblue', linestyle='--')\n",
    "    plt.xlabel('False Positive Rate')\n",
    "    plt.ylabel('True Positive Rate')\n",
    "    plt.title('Receiver Operating Characteristic (ROC) Curve')\n",
    "    plt.legend()\n",
    "    plt.show()"
   ]
  },
  {
   "cell_type": "code",
   "execution_count": 191,
   "metadata": {},
   "outputs": [],
   "source": [
    "# Using NN Algorithm"
   ]
  },
  {
   "cell_type": "code",
   "execution_count": 108,
   "metadata": {},
   "outputs": [],
   "source": [
    "mymodel1 = MLPClassifier(activation='relu',solver='adam',alpha=1e-5,hidden_layer_sizes=(5,2),learning_rate_init=0.01,max_iter=200,random_state=1)"
   ]
  },
  {
   "cell_type": "code",
   "execution_count": 109,
   "metadata": {},
   "outputs": [],
   "source": [
    "mymodel1.fit(x_train,y_train.ravel())\n",
    "predict_train1 = mymodel1.predict(x_train)\n",
    "predict_test1 = mymodel1.predict(x_test)"
   ]
  },
  {
   "cell_type": "code",
   "execution_count": 110,
   "metadata": {},
   "outputs": [
    {
     "name": "stdout",
     "output_type": "stream",
     "text": [
      "[[13801   829]\n",
      " [ 6689  1133]]\n",
      "              precision    recall  f1-score   support\n",
      "\n",
      "           0       0.67      0.94      0.79     14630\n",
      "           1       0.58      0.14      0.23      7822\n",
      "\n",
      "    accuracy                           0.67     22452\n",
      "   macro avg       0.63      0.54      0.51     22452\n",
      "weighted avg       0.64      0.67      0.59     22452\n",
      "\n"
     ]
    }
   ],
   "source": [
    "print(confusion_matrix(y_train,predict_train1))\n",
    "print(classification_report(y_train,predict_train1))"
   ]
  },
  {
   "cell_type": "code",
   "execution_count": 111,
   "metadata": {},
   "outputs": [
    {
     "name": "stdout",
     "output_type": "stream",
     "text": [
      "[[3496  237]\n",
      " [1628  252]]\n",
      "              precision    recall  f1-score   support\n",
      "\n",
      "           0       0.68      0.94      0.79      3733\n",
      "           1       0.52      0.13      0.21      1880\n",
      "\n",
      "    accuracy                           0.67      5613\n",
      "   macro avg       0.60      0.54      0.50      5613\n",
      "weighted avg       0.63      0.67      0.60      5613\n",
      "\n"
     ]
    }
   ],
   "source": [
    "print(confusion_matrix(y_test,predict_test1))\n",
    "print(classification_report(y_test,predict_test1))"
   ]
  },
  {
   "cell_type": "code",
   "execution_count": 112,
   "metadata": {},
   "outputs": [
    {
     "name": "stdout",
     "output_type": "stream",
     "text": [
      "0.6651523249599145\n",
      "0.6677356137537859\n"
     ]
    }
   ],
   "source": [
    "print(mymodel1.score(x_train,y_train))\n",
    "print(mymodel1.score(x_test,y_test))"
   ]
  },
  {
   "cell_type": "code",
   "execution_count": 113,
   "metadata": {},
   "outputs": [
    {
     "name": "stdout",
     "output_type": "stream",
     "text": [
      "Best= 0.312806545567374 , TPR= 0.7335106382978723 , FPR= 0.5312081435842486\n"
     ]
    },
    {
     "data": {
      "image/png": "[encoded data removed]",
      "text/plain": [
       "<Figure size 432x288 with 1 Axes>"
      ]
     },
     "metadata": {
      "needs_background": "light"
     },
     "output_type": "display_data"
    }
   ],
   "source": [
    "prob_test1 = mymodel1.predict_proba(x_test)\n",
    "auc1 = roc_auc_score(y_test,prob_test1[:,1])\n",
    "fpr1,tpr1,thresholds1 = roc_curve(y_test,prob_test1[:,1],pos_label=1)\n",
    "J1 = tpr1 - fpr1\n",
    "Ji1 = argmax(J1)\n",
    "print('Best=',thresholds1[Ji1],', TPR=',tpr1[Ji1],', FPR=',fpr1[Ji1])\n",
    "plot_roc_curve(fpr1,tpr1,auc1,Ji1)"
   ]
  },
  {
   "cell_type": "code",
   "execution_count": 120,
   "metadata": {},
   "outputs": [
    {
     "name": "stdout",
     "output_type": "stream",
     "text": [
      "[[1750 1983]\n",
      " [ 502 1378]]\n",
      "              precision    recall  f1-score   support\n",
      "\n",
      "           0       0.78      0.47      0.58      3733\n",
      "           1       0.41      0.73      0.53      1880\n",
      "\n",
      "    accuracy                           0.56      5613\n",
      "   macro avg       0.59      0.60      0.56      5613\n",
      "weighted avg       0.65      0.56      0.57      5613\n",
      "\n"
     ]
    }
   ],
   "source": [
    "pred_testj1 = mymodel1.predict_proba(x_test)[:,1]>thresholds1[Ji1]\n",
    "print(confusion_matrix(y_test,pred_testj1))\n",
    "print(classification_report(y_test,pred_testj1))"
   ]
  },
  {
   "cell_type": "code",
   "execution_count": 225,
   "metadata": {},
   "outputs": [
    {
     "name": "stdout",
     "output_type": "stream",
     "text": [
      "Best= 0.2684759698200721 , Precision= 0.40632349098510584 , Recall= 0.8082120582120582\n"
     ]
    },
    {
     "data": {
      "text/plain": [
       "Text(0.5, 1.0, 'Precision Recall Curve')"
      ]
     },
     "execution_count": 225,
     "metadata": {},
     "output_type": "execute_result"
    },
    {
     "data": {
      "image/png": "[encoded data removed]",
      "text/plain": [
       "<Figure size 432x288 with 1 Axes>"
      ]
     },
     "metadata": {
      "needs_background": "light"
     },
     "output_type": "display_data"
    }
   ],
   "source": [
    "prec1,recl1,thresh1 = precision_recall_curve(y_test,prob_test1[:,1],pos_label=1)\n",
    "aucpr1 = auc(recl1,prec1)\n",
    "#K1 = (1-prec1)*(1-prec1) + (1-recl1)*(1-recl1)\n",
    "K1 = (2*prec1*recl1)/(prec1+recl1+0.0000001)\n",
    "Ki1 = argmax(K1)\n",
    "print('Best=',thresh1[Ki1],', Precision=',prec1[Ki1],', Recall=',recl1[Ki1])\n",
    "plt.plot(recl1, prec1, marker='.', label='PrecisionRecall')\n",
    "plt.xlim([-0.05,1.05])\n",
    "plt.ylim([-0.05,1.05])\n",
    "plt.xlabel(\"Recall\")\n",
    "plt.ylabel(\"Precision\")\n",
    "plt.title(\"Precision Recall Curve\")"
   ]
  },
  {
   "cell_type": "code",
   "execution_count": 215,
   "metadata": {},
   "outputs": [],
   "source": [
    "mymodel2 = MLPClassifier(activation='relu',solver='sgd',alpha=1e-5,hidden_layer_sizes=(10,4),learning_rate_init=0.01,max_iter=300,verbose=10,random_state=1)"
   ]
  },
  {
   "cell_type": "code",
   "execution_count": 216,
   "metadata": {
    "collapsed": true
   },
   "outputs": [
    {
     "name": "stdout",
     "output_type": "stream",
     "text": [
      "Iteration 1, loss = 0.65146935\n",
      "Iteration 2, loss = 0.63750288\n",
      "Iteration 3, loss = 0.63407067\n",
      "Iteration 4, loss = 0.63124876\n",
      "Iteration 5, loss = 0.62908659\n",
      "Iteration 6, loss = 0.62737572\n",
      "Iteration 7, loss = 0.62570045\n",
      "Iteration 8, loss = 0.62472930\n",
      "Iteration 9, loss = 0.62333114\n",
      "Iteration 10, loss = 0.62221509\n",
      "Iteration 11, loss = 0.62124932\n",
      "Iteration 12, loss = 0.62050615\n",
      "Iteration 13, loss = 0.61978378\n",
      "Iteration 14, loss = 0.61920979\n",
      "Iteration 15, loss = 0.61873257\n",
      "Iteration 16, loss = 0.61815779\n",
      "Iteration 17, loss = 0.61789465\n",
      "Iteration 18, loss = 0.61748473\n",
      "Iteration 19, loss = 0.61708469\n",
      "Iteration 20, loss = 0.61679252\n",
      "Iteration 21, loss = 0.61631127\n",
      "Iteration 22, loss = 0.61616279\n",
      "Iteration 23, loss = 0.61598712\n",
      "Iteration 24, loss = 0.61570474\n",
      "Iteration 25, loss = 0.61562162\n",
      "Iteration 26, loss = 0.61514712\n",
      "Iteration 27, loss = 0.61487200\n",
      "Iteration 28, loss = 0.61476036\n",
      "Iteration 29, loss = 0.61452538\n",
      "Iteration 30, loss = 0.61431788\n",
      "Iteration 31, loss = 0.61413181\n",
      "Iteration 32, loss = 0.61388402\n",
      "Iteration 33, loss = 0.61346380\n",
      "Iteration 34, loss = 0.61339332\n",
      "Iteration 35, loss = 0.61311736\n",
      "Iteration 36, loss = 0.61309600\n",
      "Iteration 37, loss = 0.61295911\n",
      "Iteration 38, loss = 0.61256944\n",
      "Iteration 39, loss = 0.61251084\n",
      "Iteration 40, loss = 0.61270486\n",
      "Iteration 41, loss = 0.61223717\n",
      "Iteration 42, loss = 0.61215031\n",
      "Iteration 43, loss = 0.61226268\n",
      "Iteration 44, loss = 0.61184329\n",
      "Iteration 45, loss = 0.61172418\n",
      "Iteration 46, loss = 0.61171512\n",
      "Iteration 47, loss = 0.61154627\n",
      "Iteration 48, loss = 0.61135586\n",
      "Iteration 49, loss = 0.61127734\n",
      "Iteration 50, loss = 0.61119971\n",
      "Iteration 51, loss = 0.61096557\n",
      "Iteration 52, loss = 0.61075733\n",
      "Iteration 53, loss = 0.61063957\n",
      "Iteration 54, loss = 0.61069258\n",
      "Iteration 55, loss = 0.61041284\n",
      "Iteration 56, loss = 0.61035231\n",
      "Iteration 57, loss = 0.61032813\n",
      "Iteration 58, loss = 0.61012695\n",
      "Iteration 59, loss = 0.60998642\n",
      "Iteration 60, loss = 0.60990830\n",
      "Iteration 61, loss = 0.60955185\n",
      "Iteration 62, loss = 0.60964945\n",
      "Iteration 63, loss = 0.60957378\n",
      "Iteration 64, loss = 0.60951814\n",
      "Iteration 65, loss = 0.60911533\n",
      "Iteration 66, loss = 0.60874124\n",
      "Iteration 67, loss = 0.60895897\n",
      "Iteration 68, loss = 0.60907425\n",
      "Iteration 69, loss = 0.60863573\n",
      "Iteration 70, loss = 0.60816088\n",
      "Iteration 71, loss = 0.60818584\n",
      "Iteration 72, loss = 0.60827095\n",
      "Iteration 73, loss = 0.60863356\n",
      "Iteration 74, loss = 0.60780246\n",
      "Iteration 75, loss = 0.60797053\n",
      "Iteration 76, loss = 0.60754899\n",
      "Iteration 77, loss = 0.60788615\n",
      "Iteration 78, loss = 0.60752953\n",
      "Iteration 79, loss = 0.60716796\n",
      "Iteration 80, loss = 0.60744083\n",
      "Iteration 81, loss = 0.60700134\n",
      "Iteration 82, loss = 0.60717018\n",
      "Iteration 83, loss = 0.60721602\n",
      "Iteration 84, loss = 0.60693105\n",
      "Iteration 85, loss = 0.60652799\n",
      "Iteration 86, loss = 0.60688887\n",
      "Iteration 87, loss = 0.60645760\n",
      "Iteration 88, loss = 0.60648847\n",
      "Iteration 89, loss = 0.60627400\n",
      "Iteration 90, loss = 0.60617814\n",
      "Iteration 91, loss = 0.60624865\n",
      "Iteration 92, loss = 0.60589165\n",
      "Iteration 93, loss = 0.60631845\n",
      "Iteration 94, loss = 0.60589133\n",
      "Iteration 95, loss = 0.60558828\n",
      "Iteration 96, loss = 0.60631913\n",
      "Iteration 97, loss = 0.60598952\n",
      "Iteration 98, loss = 0.60530089\n",
      "Iteration 99, loss = 0.60601301\n",
      "Iteration 100, loss = 0.60549237\n",
      "Iteration 101, loss = 0.60529421\n",
      "Iteration 102, loss = 0.60506169\n",
      "Iteration 103, loss = 0.60498749\n",
      "Iteration 104, loss = 0.60502510\n",
      "Iteration 105, loss = 0.60485475\n",
      "Iteration 106, loss = 0.60465077\n",
      "Iteration 107, loss = 0.60499277\n",
      "Iteration 108, loss = 0.60484920\n",
      "Iteration 109, loss = 0.60453208\n",
      "Iteration 110, loss = 0.60457779\n",
      "Iteration 111, loss = 0.60433161\n",
      "Iteration 112, loss = 0.60450425\n",
      "Iteration 113, loss = 0.60434859\n",
      "Iteration 114, loss = 0.60363841\n",
      "Iteration 115, loss = 0.60398850\n",
      "Iteration 116, loss = 0.60380521\n",
      "Iteration 117, loss = 0.60382549\n",
      "Iteration 118, loss = 0.60385868\n",
      "Iteration 119, loss = 0.60372711\n",
      "Iteration 120, loss = 0.60372898\n",
      "Iteration 121, loss = 0.60374005\n",
      "Iteration 122, loss = 0.60341409\n",
      "Iteration 123, loss = 0.60349826\n",
      "Iteration 124, loss = 0.60354957\n",
      "Iteration 125, loss = 0.60330915\n",
      "Iteration 126, loss = 0.60303650\n",
      "Iteration 127, loss = 0.60347098\n",
      "Iteration 128, loss = 0.60346427\n",
      "Iteration 129, loss = 0.60323051\n",
      "Iteration 130, loss = 0.60312307\n",
      "Iteration 131, loss = 0.60294729\n",
      "Iteration 132, loss = 0.60296609\n",
      "Iteration 133, loss = 0.60286244\n",
      "Iteration 134, loss = 0.60303587\n",
      "Iteration 135, loss = 0.60350544\n",
      "Iteration 136, loss = 0.60242748\n",
      "Iteration 137, loss = 0.60271815\n",
      "Iteration 138, loss = 0.60297020\n",
      "Iteration 139, loss = 0.60296115\n",
      "Iteration 140, loss = 0.60254550\n",
      "Iteration 141, loss = 0.60231803\n",
      "Iteration 142, loss = 0.60239331\n",
      "Iteration 143, loss = 0.60293985\n",
      "Iteration 144, loss = 0.60250377\n",
      "Iteration 145, loss = 0.60182541\n",
      "Iteration 146, loss = 0.60226004\n",
      "Iteration 147, loss = 0.60224089\n",
      "Iteration 148, loss = 0.60204922\n",
      "Iteration 149, loss = 0.60195605\n",
      "Iteration 150, loss = 0.60209038\n",
      "Iteration 151, loss = 0.60210721\n",
      "Iteration 152, loss = 0.60172118\n",
      "Iteration 153, loss = 0.60188590\n",
      "Iteration 154, loss = 0.60232266\n",
      "Iteration 155, loss = 0.60161115\n",
      "Iteration 156, loss = 0.60174545\n",
      "Iteration 157, loss = 0.60184611\n",
      "Iteration 158, loss = 0.60193250\n",
      "Iteration 159, loss = 0.60176042\n",
      "Iteration 160, loss = 0.60159113\n",
      "Iteration 161, loss = 0.60170226\n",
      "Iteration 162, loss = 0.60120101\n",
      "Iteration 163, loss = 0.60176694\n",
      "Iteration 164, loss = 0.60164263\n",
      "Iteration 165, loss = 0.60141426\n",
      "Iteration 166, loss = 0.60135540\n",
      "Iteration 167, loss = 0.60111265\n",
      "Iteration 168, loss = 0.60096066\n",
      "Iteration 169, loss = 0.60093428\n",
      "Iteration 170, loss = 0.60137740\n",
      "Iteration 171, loss = 0.60121890\n",
      "Iteration 172, loss = 0.60111004\n",
      "Iteration 173, loss = 0.60093619\n",
      "Iteration 174, loss = 0.60117185\n",
      "Iteration 175, loss = 0.60112665\n",
      "Iteration 176, loss = 0.60077964\n",
      "Iteration 177, loss = 0.60046003\n",
      "Iteration 178, loss = 0.60044724\n",
      "Iteration 179, loss = 0.60067747\n",
      "Iteration 180, loss = 0.60065992\n",
      "Iteration 181, loss = 0.60072530\n",
      "Iteration 182, loss = 0.60017660\n",
      "Iteration 183, loss = 0.60080448\n",
      "Iteration 184, loss = 0.60026674\n",
      "Iteration 185, loss = 0.60045064\n",
      "Iteration 186, loss = 0.60059055\n",
      "Iteration 187, loss = 0.60061707\n",
      "Iteration 188, loss = 0.60064686\n",
      "Iteration 189, loss = 0.60032308\n",
      "Iteration 190, loss = 0.60039499\n",
      "Iteration 191, loss = 0.60027202\n",
      "Iteration 192, loss = 0.60047439\n",
      "Iteration 193, loss = 0.60018772\n",
      "Training loss did not improve more than tol=0.000100 for 10 consecutive epochs. Stopping.\n"
     ]
    }
   ],
   "source": [
    "mymodel2.fit(x_train,y_train.ravel())\n",
    "predict_train2 = mymodel2.predict(x_train)\n",
    "predict_test2 = mymodel2.predict(x_test)"
   ]
  },
  {
   "cell_type": "code",
   "execution_count": 268,
   "metadata": {},
   "outputs": [
    {
     "name": "stdout",
     "output_type": "stream",
     "text": [
      "[[13023  1640]\n",
      " [ 5712  2062]]\n",
      "              precision    recall  f1-score   support\n",
      "\n",
      "           0       0.70      0.89      0.78     14663\n",
      "           1       0.56      0.27      0.36      7774\n",
      "\n",
      "    accuracy                           0.67     22437\n",
      "   macro avg       0.63      0.58      0.57     22437\n",
      "weighted avg       0.65      0.67      0.63     22437\n",
      "\n"
     ]
    }
   ],
   "source": [
    "print(confusion_matrix(y_train,predict_train2))\n",
    "print(classification_report(y_train,predict_train2))"
   ]
  },
  {
   "cell_type": "code",
   "execution_count": 218,
   "metadata": {},
   "outputs": [
    {
     "name": "stdout",
     "output_type": "stream",
     "text": [
      "[[3264  422]\n",
      " [1492  432]]\n",
      "              precision    recall  f1-score   support\n",
      "\n",
      "           0       0.69      0.89      0.77      3686\n",
      "           1       0.51      0.22      0.31      1924\n",
      "\n",
      "    accuracy                           0.66      5610\n",
      "   macro avg       0.60      0.56      0.54      5610\n",
      "weighted avg       0.62      0.66      0.61      5610\n",
      "\n"
     ]
    }
   ],
   "source": [
    "print(confusion_matrix(y_test,predict_test2))\n",
    "print(classification_report(y_test,predict_test2))"
   ]
  },
  {
   "cell_type": "code",
   "execution_count": 219,
   "metadata": {},
   "outputs": [
    {
     "name": "stdout",
     "output_type": "stream",
     "text": [
      "0.6750011142309578\n",
      "0.6588235294117647\n"
     ]
    }
   ],
   "source": [
    "print(mymodel2.score(x_train,y_train))\n",
    "print(mymodel2.score(x_test,y_test))"
   ]
  },
  {
   "cell_type": "code",
   "execution_count": 226,
   "metadata": {},
   "outputs": [
    {
     "name": "stdout",
     "output_type": "stream",
     "text": [
      "Best= 0.330507683203497 , TPR= 0.6881496881496881 , FPR= 0.4853499728703201\n"
     ]
    },
    {
     "data": {
      "image/png": "[encoded data removed]",
      "text/plain": [
       "<Figure size 432x288 with 1 Axes>"
      ]
     },
     "metadata": {
      "needs_background": "light"
     },
     "output_type": "display_data"
    }
   ],
   "source": [
    "prob_test2 = mymodel2.predict_proba(x_test)\n",
    "auc2 = roc_auc_score(y_test,prob_test2[:,1])\n",
    "fpr2,tpr2,thresholds2 = roc_curve(y_test,prob_test2[:,1],pos_label=1)\n",
    "J2 = tpr2 - fpr2\n",
    "Ji2 = argmax(J2)\n",
    "print('Best=',thresholds2[Ji2],', TPR=',tpr2[Ji2],', FPR=',fpr2[Ji2])\n",
    "plot_roc_curve(fpr2,tpr2,auc2,Ji2)"
   ]
  },
  {
   "cell_type": "code",
   "execution_count": 220,
   "metadata": {},
   "outputs": [
    {
     "name": "stdout",
     "output_type": "stream",
     "text": [
      "[[1897 1789]\n",
      " [ 601 1323]]\n",
      "              precision    recall  f1-score   support\n",
      "\n",
      "           0       0.76      0.51      0.61      3686\n",
      "           1       0.43      0.69      0.53      1924\n",
      "\n",
      "    accuracy                           0.57      5610\n",
      "   macro avg       0.59      0.60      0.57      5610\n",
      "weighted avg       0.64      0.57      0.58      5610\n",
      "\n"
     ]
    }
   ],
   "source": [
    "pred_testj2 = mymodel2.predict_proba(x_test)[:,1]>thresholds2[Ji2]\n",
    "print(confusion_matrix(y_test,pred_testj2))\n",
    "print(classification_report(y_test,pred_testj2))"
   ]
  },
  {
   "cell_type": "code",
   "execution_count": 223,
   "metadata": {},
   "outputs": [
    {
     "name": "stdout",
     "output_type": "stream",
     "text": [
      "Best= 0.2143061271654061 , Precision= 0.37797810688989053 , Recall= 0.9152806652806653\n"
     ]
    },
    {
     "data": {
      "text/plain": [
       "Text(0.5, 1.0, 'Precision Recall Curve')"
      ]
     },
     "execution_count": 223,
     "metadata": {},
     "output_type": "execute_result"
    },
    {
     "data": {
      "image/png": "[encoded data removed]",
      "text/plain": [
       "<Figure size 432x288 with 1 Axes>"
      ]
     },
     "metadata": {
      "needs_background": "light"
     },
     "output_type": "display_data"
    }
   ],
   "source": [
    "prec2,recl2,thresh2 = precision_recall_curve(y_test,prob_test2[:,1],pos_label=1)\n",
    "aucpr2 = auc(recl2,prec2)\n",
    "#K2 = (1-prec2)*(1-prec2) + (1-recl2)*(1-recl2)\n",
    "K2 = (2*prec2*recl2)/(prec2+recl2+0.0000001)\n",
    "Ki2 = argmax(K2)\n",
    "print('Best=',thresh2[Ki2],', Precision=',prec2[Ki2],', Recall=',recl2[Ki2])\n",
    "plt.plot(recl2, prec2, marker='.', label='PrecisionRecall')\n",
    "plt.xlim([-0.05,1.05])\n",
    "plt.ylim([-0.05,1.05])\n",
    "plt.xlabel(\"Recall\")\n",
    "plt.ylabel(\"Precision\")\n",
    "plt.title(\"Precision Recall Curve\")"
   ]
  },
  {
   "cell_type": "code",
   "execution_count": 258,
   "metadata": {},
   "outputs": [],
   "source": [
    "mymodel3 = MLPClassifier(activation='relu',solver='sgd',alpha=1e-3,hidden_layer_sizes=(10,4),learning_rate_init=0.1,max_iter=200,verbose=10,random_state=1)"
   ]
  },
  {
   "cell_type": "code",
   "execution_count": 259,
   "metadata": {
    "collapsed": true
   },
   "outputs": [
    {
     "name": "stdout",
     "output_type": "stream",
     "text": [
      "Iteration 1, loss = 0.63499468\n",
      "Iteration 2, loss = 0.62337924\n",
      "Iteration 3, loss = 0.62001453\n",
      "Iteration 4, loss = 0.61817288\n",
      "Iteration 5, loss = 0.61641821\n",
      "Iteration 6, loss = 0.61647234\n",
      "Iteration 7, loss = 0.61524787\n",
      "Iteration 8, loss = 0.61498006\n",
      "Iteration 9, loss = 0.61400592\n",
      "Iteration 10, loss = 0.61256756\n",
      "Iteration 11, loss = 0.61177966\n",
      "Iteration 12, loss = 0.61274427\n",
      "Iteration 13, loss = 0.61093353\n",
      "Iteration 14, loss = 0.61073851\n",
      "Iteration 15, loss = 0.61121061\n",
      "Iteration 16, loss = 0.60994336\n",
      "Iteration 17, loss = 0.61067009\n",
      "Iteration 18, loss = 0.60941431\n",
      "Iteration 19, loss = 0.60827277\n",
      "Iteration 20, loss = 0.60854696\n",
      "Iteration 21, loss = 0.60847192\n",
      "Iteration 22, loss = 0.60797302\n",
      "Iteration 23, loss = 0.60813741\n",
      "Iteration 24, loss = 0.60716919\n",
      "Iteration 25, loss = 0.60658342\n",
      "Iteration 26, loss = 0.60683453\n",
      "Iteration 27, loss = 0.60673693\n",
      "Iteration 28, loss = 0.60617330\n",
      "Iteration 29, loss = 0.60653178\n",
      "Iteration 30, loss = 0.60595124\n",
      "Iteration 31, loss = 0.60651215\n",
      "Iteration 32, loss = 0.60601545\n",
      "Iteration 33, loss = 0.60508400\n",
      "Iteration 34, loss = 0.60545988\n",
      "Iteration 35, loss = 0.60527721\n",
      "Iteration 36, loss = 0.60455598\n",
      "Iteration 37, loss = 0.60547417\n",
      "Iteration 38, loss = 0.60492209\n",
      "Iteration 39, loss = 0.60416286\n",
      "Iteration 40, loss = 0.60466983\n",
      "Iteration 41, loss = 0.60407177\n",
      "Iteration 42, loss = 0.60435758\n",
      "Iteration 43, loss = 0.60420092\n",
      "Iteration 44, loss = 0.60377846\n",
      "Iteration 45, loss = 0.60417884\n",
      "Iteration 46, loss = 0.60378353\n",
      "Iteration 47, loss = 0.60374871\n",
      "Iteration 48, loss = 0.60281312\n",
      "Iteration 49, loss = 0.60326991\n",
      "Iteration 50, loss = 0.60342371\n",
      "Iteration 51, loss = 0.60346289\n",
      "Iteration 52, loss = 0.60333424\n",
      "Iteration 53, loss = 0.60337553\n",
      "Iteration 54, loss = 0.60347103\n",
      "Iteration 55, loss = 0.60267109\n",
      "Iteration 56, loss = 0.60270090\n",
      "Iteration 57, loss = 0.60279703\n",
      "Iteration 58, loss = 0.60298261\n",
      "Iteration 59, loss = 0.60264370\n",
      "Iteration 60, loss = 0.60228289\n",
      "Iteration 61, loss = 0.60193347\n",
      "Iteration 62, loss = 0.60223864\n",
      "Iteration 63, loss = 0.60295066\n",
      "Iteration 64, loss = 0.60232445\n",
      "Iteration 65, loss = 0.60181926\n",
      "Iteration 66, loss = 0.60184561\n",
      "Iteration 67, loss = 0.60154403\n",
      "Iteration 68, loss = 0.60224429\n",
      "Iteration 69, loss = 0.60307219\n",
      "Iteration 70, loss = 0.60160675\n",
      "Iteration 71, loss = 0.60244822\n",
      "Iteration 72, loss = 0.60269380\n",
      "Iteration 73, loss = 0.60160311\n",
      "Iteration 74, loss = 0.60130452\n",
      "Iteration 75, loss = 0.60114569\n",
      "Iteration 76, loss = 0.60180450\n",
      "Iteration 77, loss = 0.60178130\n",
      "Iteration 78, loss = 0.60181840\n",
      "Iteration 79, loss = 0.60225313\n",
      "Iteration 80, loss = 0.60118083\n",
      "Iteration 81, loss = 0.60134789\n",
      "Iteration 82, loss = 0.60137038\n",
      "Iteration 83, loss = 0.60162047\n",
      "Iteration 84, loss = 0.60164687\n",
      "Iteration 85, loss = 0.60091251\n",
      "Iteration 86, loss = 0.60081741\n",
      "Iteration 87, loss = 0.60160395\n",
      "Iteration 88, loss = 0.60125568\n",
      "Iteration 89, loss = 0.60106308\n",
      "Iteration 90, loss = 0.60086524\n",
      "Iteration 91, loss = 0.60104424\n",
      "Iteration 92, loss = 0.59994919\n",
      "Iteration 93, loss = 0.60130839\n",
      "Iteration 94, loss = 0.60173138\n",
      "Iteration 95, loss = 0.60104870\n",
      "Iteration 96, loss = 0.60164127\n",
      "Iteration 97, loss = 0.60077637\n",
      "Iteration 98, loss = 0.59996666\n",
      "Iteration 99, loss = 0.60144907\n",
      "Iteration 100, loss = 0.60067811\n",
      "Iteration 101, loss = 0.60089337\n",
      "Iteration 102, loss = 0.60027213\n",
      "Iteration 103, loss = 0.60012758\n",
      "Training loss did not improve more than tol=0.000100 for 10 consecutive epochs. Stopping.\n"
     ]
    }
   ],
   "source": [
    "mymodel3.fit(x_train,y_train.ravel())\n",
    "predict_train3 = mymodel3.predict(x_train)\n",
    "predict_test3 = mymodel3.predict(x_test)"
   ]
  },
  {
   "cell_type": "code",
   "execution_count": 343,
   "metadata": {},
   "outputs": [
    {
     "name": "stdout",
     "output_type": "stream",
     "text": [
      "[[13569  1094]\n",
      " [ 6206  1568]]\n",
      "              precision    recall  f1-score   support\n",
      "\n",
      "           0       0.69      0.93      0.79     14663\n",
      "           1       0.59      0.20      0.30      7774\n",
      "\n",
      "    accuracy                           0.67     22437\n",
      "   macro avg       0.64      0.56      0.54     22437\n",
      "weighted avg       0.65      0.67      0.62     22437\n",
      "\n"
     ]
    }
   ],
   "source": [
    "print(confusion_matrix(y_train,predict_train3))\n",
    "print(classification_report(y_train,predict_train3))"
   ]
  },
  {
   "cell_type": "code",
   "execution_count": 344,
   "metadata": {},
   "outputs": [
    {
     "name": "stdout",
     "output_type": "stream",
     "text": [
      "[[3357  329]\n",
      " [1566  358]]\n",
      "              precision    recall  f1-score   support\n",
      "\n",
      "           0       0.68      0.91      0.78      3686\n",
      "           1       0.52      0.19      0.27      1924\n",
      "\n",
      "    accuracy                           0.66      5610\n",
      "   macro avg       0.60      0.55      0.53      5610\n",
      "weighted avg       0.63      0.66      0.61      5610\n",
      "\n"
     ]
    }
   ],
   "source": [
    "print(confusion_matrix(y_test,predict_test3))\n",
    "print(classification_report(y_test,predict_test3))"
   ]
  },
  {
   "cell_type": "code",
   "execution_count": 345,
   "metadata": {},
   "outputs": [
    {
     "name": "stdout",
     "output_type": "stream",
     "text": [
      "0.6746445603244641\n",
      "0.6622103386809269\n"
     ]
    }
   ],
   "source": [
    "print(mymodel3.score(x_train,y_train))\n",
    "print(mymodel3.score(x_test,y_test))"
   ]
  },
  {
   "cell_type": "code",
   "execution_count": 298,
   "metadata": {},
   "outputs": [
    {
     "name": "stdout",
     "output_type": "stream",
     "text": [
      "Best= 0.37553870010168133 , TPR= 0.6803534303534303 , FPR= 0.46527400976668476\n"
     ]
    },
    {
     "data": {
      "image/png": "[encoded data removed]",
      "text/plain": [
       "<Figure size 432x288 with 1 Axes>"
      ]
     },
     "metadata": {
      "needs_background": "light"
     },
     "output_type": "display_data"
    }
   ],
   "source": [
    "prob_test3 = mymodel3.predict_proba(x_test)\n",
    "auc3 = roc_auc_score(y_test,prob_test3[:,1])\n",
    "fpr3,tpr3,thresholds3 = roc_curve(y_test,prob_test3[:,1],pos_label=1)\n",
    "J3 = tpr3 - fpr3\n",
    "Ji3 = argmax(J3)\n",
    "print('Best=',thresholds3[Ji3],', TPR=',tpr3[Ji3],', FPR=',fpr3[Ji3])\n",
    "plot_roc_curve(fpr3,tpr3,auc3,Ji3)"
   ]
  },
  {
   "cell_type": "code",
   "execution_count": 299,
   "metadata": {},
   "outputs": [
    {
     "name": "stdout",
     "output_type": "stream",
     "text": [
      "[[1971 1715]\n",
      " [ 616 1308]]\n",
      "              precision    recall  f1-score   support\n",
      "\n",
      "           0       0.76      0.53      0.63      3686\n",
      "           1       0.43      0.68      0.53      1924\n",
      "\n",
      "    accuracy                           0.58      5610\n",
      "   macro avg       0.60      0.61      0.58      5610\n",
      "weighted avg       0.65      0.58      0.59      5610\n",
      "\n"
     ]
    }
   ],
   "source": [
    "pred_testj3 = mymodel3.predict_proba(x_test)[:,1]>thresholds3[Ji3]\n",
    "print(confusion_matrix(y_test,pred_testj3))\n",
    "print(classification_report(y_test,pred_testj3))"
   ]
  },
  {
   "cell_type": "code",
   "execution_count": 253,
   "metadata": {},
   "outputs": [],
   "source": [
    "mymodel4 = MLPClassifier(activation='relu',solver='lbfgs',alpha=1e-3,hidden_layer_sizes=(10,4),max_iter=1000,verbose=10,random_state=1)"
   ]
  },
  {
   "cell_type": "code",
   "execution_count": 254,
   "metadata": {},
   "outputs": [
    {
     "name": "stderr",
     "output_type": "stream",
     "text": [
      "c:\\miniconda\\lib\\site-packages\\sklearn\\neural_network\\_multilayer_perceptron.py:471: ConvergenceWarning: lbfgs failed to converge (status=1):\n",
      "STOP: TOTAL NO. of ITERATIONS REACHED LIMIT.\n",
      "\n",
      "Increase the number of iterations (max_iter) or scale the data as shown in:\n",
      "    https://scikit-learn.org/stable/modules/preprocessing.html\n",
      "  self.n_iter_ = _check_optimize_result(\"lbfgs\", opt_res, self.max_iter)\n"
     ]
    }
   ],
   "source": [
    "mymodel4.fit(x_train,y_train.ravel())\n",
    "predict_train4 = mymodel4.predict(x_train)\n",
    "predict_test4 = mymodel4.predict(x_test)"
   ]
  },
  {
   "cell_type": "code",
   "execution_count": 353,
   "metadata": {},
   "outputs": [
    {
     "name": "stdout",
     "output_type": "stream",
     "text": [
      "[[13372  1291]\n",
      " [ 6023  1751]]\n",
      "              precision    recall  f1-score   support\n",
      "\n",
      "           0       0.69      0.91      0.79     14663\n",
      "           1       0.58      0.23      0.32      7774\n",
      "\n",
      "    accuracy                           0.67     22437\n",
      "   macro avg       0.63      0.57      0.55     22437\n",
      "weighted avg       0.65      0.67      0.63     22437\n",
      "\n"
     ]
    }
   ],
   "source": [
    "print(confusion_matrix(y_train,predict_train4))\n",
    "print(classification_report(y_train,predict_train4))"
   ]
  },
  {
   "cell_type": "code",
   "execution_count": 354,
   "metadata": {},
   "outputs": [
    {
     "name": "stdout",
     "output_type": "stream",
     "text": [
      "[[3307  379]\n",
      " [1542  382]]\n",
      "              precision    recall  f1-score   support\n",
      "\n",
      "           0       0.68      0.90      0.77      3686\n",
      "           1       0.50      0.20      0.28      1924\n",
      "\n",
      "    accuracy                           0.66      5610\n",
      "   macro avg       0.59      0.55      0.53      5610\n",
      "weighted avg       0.62      0.66      0.61      5610\n",
      "\n"
     ]
    }
   ],
   "source": [
    "print(confusion_matrix(y_test,predict_test4))\n",
    "print(classification_report(y_test,predict_test4))"
   ]
  },
  {
   "cell_type": "code",
   "execution_count": 260,
   "metadata": {},
   "outputs": [
    {
     "name": "stdout",
     "output_type": "stream",
     "text": [
      "0.6741542987030351\n",
      "0.6563279857397505\n"
     ]
    }
   ],
   "source": [
    "print(mymodel4.score(x_train,y_train))\n",
    "print(mymodel4.score(x_test,y_test))"
   ]
  },
  {
   "cell_type": "code",
   "execution_count": 310,
   "metadata": {},
   "outputs": [
    {
     "name": "stdout",
     "output_type": "stream",
     "text": [
      "Best= 0.35055346585446195 , TPR= 0.6507276507276507 , FPR= 0.46011937059142705\n"
     ]
    },
    {
     "data": {
      "image/png": "[encoded data removed]",
      "text/plain": [
       "<Figure size 432x288 with 1 Axes>"
      ]
     },
     "metadata": {
      "needs_background": "light"
     },
     "output_type": "display_data"
    }
   ],
   "source": [
    "prob_test4 = mymodel4.predict_proba(x_test)\n",
    "auc4 = roc_auc_score(y_test,prob_test4[:,1])\n",
    "fpr4,tpr4,thresholds4 = roc_curve(y_test,prob_test4[:,1],pos_label=1)\n",
    "J4 = tpr4 - fpr4\n",
    "Ji4 = argmax(J4)\n",
    "print('Best=',thresholds4[Ji4],', TPR=',tpr4[Ji4],', FPR=',fpr4[Ji4])\n",
    "plot_roc_curve(fpr4,tpr4,auc4,Ji4)"
   ]
  },
  {
   "cell_type": "code",
   "execution_count": 311,
   "metadata": {},
   "outputs": [
    {
     "name": "stdout",
     "output_type": "stream",
     "text": [
      "[[1990 1696]\n",
      " [ 673 1251]]\n",
      "              precision    recall  f1-score   support\n",
      "\n",
      "           0       0.75      0.54      0.63      3686\n",
      "           1       0.42      0.65      0.51      1924\n",
      "\n",
      "    accuracy                           0.58      5610\n",
      "   macro avg       0.59      0.60      0.57      5610\n",
      "weighted avg       0.64      0.58      0.59      5610\n",
      "\n"
     ]
    }
   ],
   "source": [
    "pred_testj4 = mymodel4.predict_proba(x_test)[:,1]>thresholds4[Ji4]\n",
    "print(confusion_matrix(y_test,pred_testj4))\n",
    "print(classification_report(y_test,pred_testj4))"
   ]
  },
  {
   "cell_type": "code",
   "execution_count": 248,
   "metadata": {},
   "outputs": [],
   "source": [
    "mymodel5 = MLPClassifier(activation='relu',solver='sgd',alpha=1e-4,momentum=0.9,nesterovs_momentum=True,learning_rate_init=0.01,hidden_layer_sizes=(12,4),max_iter=300,verbose=10,random_state=1)"
   ]
  },
  {
   "cell_type": "code",
   "execution_count": 249,
   "metadata": {
    "collapsed": true
   },
   "outputs": [
    {
     "name": "stdout",
     "output_type": "stream",
     "text": [
      "Iteration 1, loss = 0.72147679\n",
      "Iteration 2, loss = 0.64746709\n",
      "Iteration 3, loss = 0.64326857\n",
      "Iteration 4, loss = 0.64102270\n",
      "Iteration 5, loss = 0.63904018\n",
      "Iteration 6, loss = 0.63691809\n",
      "Iteration 7, loss = 0.63488218\n",
      "Iteration 8, loss = 0.63329694\n",
      "Iteration 9, loss = 0.63194650\n",
      "Iteration 10, loss = 0.63056108\n",
      "Iteration 11, loss = 0.62912101\n",
      "Iteration 12, loss = 0.62804082\n",
      "Iteration 13, loss = 0.62704166\n",
      "Iteration 14, loss = 0.62625575\n",
      "Iteration 15, loss = 0.62538705\n",
      "Iteration 16, loss = 0.62462202\n",
      "Iteration 17, loss = 0.62383685\n",
      "Iteration 18, loss = 0.62319012\n",
      "Iteration 19, loss = 0.62265011\n",
      "Iteration 20, loss = 0.62203451\n",
      "Iteration 21, loss = 0.62156662\n",
      "Iteration 22, loss = 0.62088824\n",
      "Iteration 23, loss = 0.62047238\n",
      "Iteration 24, loss = 0.61998737\n",
      "Iteration 25, loss = 0.61946813\n",
      "Iteration 26, loss = 0.61922915\n",
      "Iteration 27, loss = 0.61877188\n",
      "Iteration 28, loss = 0.61822810\n",
      "Iteration 29, loss = 0.61811328\n",
      "Iteration 30, loss = 0.61787046\n",
      "Iteration 31, loss = 0.61748273\n",
      "Iteration 32, loss = 0.61737293\n",
      "Iteration 33, loss = 0.61694832\n",
      "Iteration 34, loss = 0.61678979\n",
      "Iteration 35, loss = 0.61639430\n",
      "Iteration 36, loss = 0.61627686\n",
      "Iteration 37, loss = 0.61596434\n",
      "Iteration 38, loss = 0.61561503\n",
      "Iteration 39, loss = 0.61540659\n",
      "Iteration 40, loss = 0.61518478\n",
      "Iteration 41, loss = 0.61493480\n",
      "Iteration 42, loss = 0.61493346\n",
      "Iteration 43, loss = 0.61447425\n",
      "Iteration 44, loss = 0.61416171\n",
      "Iteration 45, loss = 0.61432567\n",
      "Iteration 46, loss = 0.61388775\n",
      "Iteration 47, loss = 0.61369663\n",
      "Iteration 48, loss = 0.61339596\n",
      "Iteration 49, loss = 0.61340773\n",
      "Iteration 50, loss = 0.61295181\n",
      "Iteration 51, loss = 0.61289944\n",
      "Iteration 52, loss = 0.61262504\n",
      "Iteration 53, loss = 0.61233504\n",
      "Iteration 54, loss = 0.61230321\n",
      "Iteration 55, loss = 0.61235947\n",
      "Iteration 56, loss = 0.61188279\n",
      "Iteration 57, loss = 0.61163830\n",
      "Iteration 58, loss = 0.61160025\n",
      "Iteration 59, loss = 0.61126183\n",
      "Iteration 60, loss = 0.61116728\n",
      "Iteration 61, loss = 0.61089804\n",
      "Iteration 62, loss = 0.61089632\n",
      "Iteration 63, loss = 0.61055710\n",
      "Iteration 64, loss = 0.61076907\n",
      "Iteration 65, loss = 0.61039217\n",
      "Iteration 66, loss = 0.61028453\n",
      "Iteration 67, loss = 0.60989274\n",
      "Iteration 68, loss = 0.60983828\n",
      "Iteration 69, loss = 0.60991696\n",
      "Iteration 70, loss = 0.60951020\n",
      "Iteration 71, loss = 0.60957066\n",
      "Iteration 72, loss = 0.60927143\n",
      "Iteration 73, loss = 0.60967495\n",
      "Iteration 74, loss = 0.60910580\n",
      "Iteration 75, loss = 0.60906321\n",
      "Iteration 76, loss = 0.60878690\n",
      "Iteration 77, loss = 0.60873419\n",
      "Iteration 78, loss = 0.60881908\n",
      "Iteration 79, loss = 0.60898501\n",
      "Iteration 80, loss = 0.60861152\n",
      "Iteration 81, loss = 0.60851442\n",
      "Iteration 82, loss = 0.60837921\n",
      "Iteration 83, loss = 0.60810544\n",
      "Iteration 84, loss = 0.60785009\n",
      "Iteration 85, loss = 0.60818555\n",
      "Iteration 86, loss = 0.60787366\n",
      "Iteration 87, loss = 0.60783724\n",
      "Iteration 88, loss = 0.60815871\n",
      "Iteration 89, loss = 0.60762187\n",
      "Iteration 90, loss = 0.60769639\n",
      "Iteration 91, loss = 0.60752636\n",
      "Iteration 92, loss = 0.60754339\n",
      "Iteration 93, loss = 0.60753996\n",
      "Iteration 94, loss = 0.60720448\n",
      "Iteration 95, loss = 0.60672031\n",
      "Iteration 96, loss = 0.60675041\n",
      "Iteration 97, loss = 0.60728997\n",
      "Iteration 98, loss = 0.60657661\n",
      "Iteration 99, loss = 0.60660573\n",
      "Iteration 100, loss = 0.60639908\n",
      "Iteration 101, loss = 0.60620786\n",
      "Iteration 102, loss = 0.60591420\n",
      "Iteration 103, loss = 0.60563449\n",
      "Iteration 104, loss = 0.60596015\n",
      "Iteration 105, loss = 0.60588186\n",
      "Iteration 106, loss = 0.60621724\n",
      "Iteration 107, loss = 0.60577410\n",
      "Iteration 108, loss = 0.60532696\n",
      "Iteration 109, loss = 0.60561589\n",
      "Iteration 110, loss = 0.60498975\n",
      "Iteration 111, loss = 0.60519120\n",
      "Iteration 112, loss = 0.60485754\n",
      "Iteration 113, loss = 0.60518174\n",
      "Iteration 114, loss = 0.60487060\n",
      "Iteration 115, loss = 0.60479741\n",
      "Iteration 116, loss = 0.60445085\n",
      "Iteration 117, loss = 0.60495481\n",
      "Iteration 118, loss = 0.60450837\n",
      "Iteration 119, loss = 0.60443609\n",
      "Iteration 120, loss = 0.60404103\n",
      "Iteration 121, loss = 0.60428074\n",
      "Iteration 122, loss = 0.60405323\n",
      "Iteration 123, loss = 0.60417999\n",
      "Iteration 124, loss = 0.60388176\n",
      "Iteration 125, loss = 0.60373202\n",
      "Iteration 126, loss = 0.60388842\n",
      "Iteration 127, loss = 0.60396242\n",
      "Iteration 128, loss = 0.60360472\n",
      "Iteration 129, loss = 0.60343532\n",
      "Iteration 130, loss = 0.60337894\n",
      "Iteration 131, loss = 0.60330076\n",
      "Iteration 132, loss = 0.60351975\n",
      "Iteration 133, loss = 0.60301192\n",
      "Iteration 134, loss = 0.60295571\n",
      "Iteration 135, loss = 0.60318773\n",
      "Iteration 136, loss = 0.60331328\n",
      "Iteration 137, loss = 0.60313534\n",
      "Iteration 138, loss = 0.60299484\n",
      "Iteration 139, loss = 0.60327547\n",
      "Iteration 140, loss = 0.60353679\n",
      "Iteration 141, loss = 0.60243677\n",
      "Iteration 142, loss = 0.60291761\n",
      "Iteration 143, loss = 0.60284091\n",
      "Iteration 144, loss = 0.60237943\n",
      "Iteration 145, loss = 0.60240469\n",
      "Iteration 146, loss = 0.60318897\n",
      "Iteration 147, loss = 0.60245546\n",
      "Iteration 148, loss = 0.60203224\n",
      "Iteration 149, loss = 0.60262019\n",
      "Iteration 150, loss = 0.60223460\n",
      "Iteration 151, loss = 0.60214121\n",
      "Iteration 152, loss = 0.60194578\n",
      "Iteration 153, loss = 0.60348561\n",
      "Iteration 154, loss = 0.60224938\n",
      "Iteration 155, loss = 0.60197101\n",
      "Iteration 156, loss = 0.60161041\n",
      "Iteration 157, loss = 0.60209061\n",
      "Iteration 158, loss = 0.60158994\n",
      "Iteration 159, loss = 0.60170815\n",
      "Iteration 160, loss = 0.60146951\n",
      "Iteration 161, loss = 0.60181579\n",
      "Iteration 162, loss = 0.60104486\n",
      "Iteration 163, loss = 0.60153191\n",
      "Iteration 164, loss = 0.60137808\n",
      "Iteration 165, loss = 0.60126975\n",
      "Iteration 166, loss = 0.60162565\n",
      "Iteration 167, loss = 0.60068989\n",
      "Iteration 168, loss = 0.60122229\n",
      "Iteration 169, loss = 0.60068522\n",
      "Iteration 170, loss = 0.60086029\n",
      "Iteration 171, loss = 0.60100047\n",
      "Iteration 172, loss = 0.60090898\n",
      "Iteration 173, loss = 0.60085087\n",
      "Iteration 174, loss = 0.60138560\n",
      "Iteration 175, loss = 0.60057926\n",
      "Iteration 176, loss = 0.60057723\n",
      "Iteration 177, loss = 0.60046699\n",
      "Iteration 178, loss = 0.60046577\n",
      "Iteration 179, loss = 0.60050291\n",
      "Iteration 180, loss = 0.60077080\n",
      "Iteration 181, loss = 0.60070977\n",
      "Iteration 182, loss = 0.60055201\n",
      "Iteration 183, loss = 0.60045912\n",
      "Iteration 184, loss = 0.60027188\n",
      "Iteration 185, loss = 0.59990607\n",
      "Iteration 186, loss = 0.60048238\n",
      "Iteration 187, loss = 0.60010019\n",
      "Iteration 188, loss = 0.60064307\n",
      "Iteration 189, loss = 0.59989669\n",
      "Iteration 190, loss = 0.60033668\n",
      "Iteration 191, loss = 0.60046745\n",
      "Iteration 192, loss = 0.60014602\n",
      "Iteration 193, loss = 0.60009737\n",
      "Iteration 194, loss = 0.59985578\n",
      "Iteration 195, loss = 0.59965778\n",
      "Iteration 196, loss = 0.60005893\n",
      "Iteration 197, loss = 0.59953711\n",
      "Iteration 198, loss = 0.60015295\n",
      "Iteration 199, loss = 0.59962407\n",
      "Iteration 200, loss = 0.59983113\n",
      "Iteration 201, loss = 0.59958713\n",
      "Iteration 202, loss = 0.59961236\n",
      "Iteration 203, loss = 0.59973641\n",
      "Iteration 204, loss = 0.59953475\n",
      "Iteration 205, loss = 0.59924586\n",
      "Iteration 206, loss = 0.59980057\n",
      "Iteration 207, loss = 0.59936460\n",
      "Iteration 208, loss = 0.59990805\n",
      "Iteration 209, loss = 0.59977846\n",
      "Iteration 210, loss = 0.59946937\n",
      "Iteration 211, loss = 0.59971713\n",
      "Iteration 212, loss = 0.59930807\n",
      "Iteration 213, loss = 0.59919110\n",
      "Iteration 214, loss = 0.59931982\n",
      "Iteration 215, loss = 0.59913792\n",
      "Iteration 216, loss = 0.59911099\n",
      "Training loss did not improve more than tol=0.000100 for 10 consecutive epochs. Stopping.\n"
     ]
    }
   ],
   "source": [
    "mymodel5.fit(x_train,y_train.ravel())\n",
    "predict_train5 = mymodel5.predict(x_train)\n",
    "predict_test5 = mymodel5.predict(x_test)"
   ]
  },
  {
   "cell_type": "code",
   "execution_count": 382,
   "metadata": {},
   "outputs": [
    {
     "name": "stdout",
     "output_type": "stream",
     "text": [
      "[[13528  1135]\n",
      " [ 6182  1592]]\n",
      "              precision    recall  f1-score   support\n",
      "\n",
      "           0       0.69      0.92      0.79     14663\n",
      "           1       0.58      0.20      0.30      7774\n",
      "\n",
      "    accuracy                           0.67     22437\n",
      "   macro avg       0.64      0.56      0.55     22437\n",
      "weighted avg       0.65      0.67      0.62     22437\n",
      "\n"
     ]
    }
   ],
   "source": [
    "print(confusion_matrix(y_train,predict_train5))\n",
    "print(classification_report(y_train,predict_train5))"
   ]
  },
  {
   "cell_type": "code",
   "execution_count": 383,
   "metadata": {},
   "outputs": [
    {
     "name": "stdout",
     "output_type": "stream",
     "text": [
      "[[3359  327]\n",
      " [1553  371]]\n",
      "              precision    recall  f1-score   support\n",
      "\n",
      "           0       0.68      0.91      0.78      3686\n",
      "           1       0.53      0.19      0.28      1924\n",
      "\n",
      "    accuracy                           0.66      5610\n",
      "   macro avg       0.61      0.55      0.53      5610\n",
      "weighted avg       0.63      0.66      0.61      5610\n",
      "\n"
     ]
    }
   ],
   "source": [
    "print(confusion_matrix(y_test,predict_test5))\n",
    "print(classification_report(y_test,predict_test5))"
   ]
  },
  {
   "cell_type": "code",
   "execution_count": 250,
   "metadata": {},
   "outputs": [
    {
     "name": "stdout",
     "output_type": "stream",
     "text": [
      "0.6756250835673219\n",
      "0.6655971479500892\n"
     ]
    }
   ],
   "source": [
    "print(mymodel5.score(x_train,y_train))\n",
    "print(mymodel5.score(x_test,y_test))"
   ]
  },
  {
   "cell_type": "code",
   "execution_count": 308,
   "metadata": {},
   "outputs": [
    {
     "name": "stdout",
     "output_type": "stream",
     "text": [
      "Best= 0.3572686694083623 , TPR= 0.5738045738045738 , FPR= 0.37384698860553445\n"
     ]
    },
    {
     "data": {
      "image/png": "[encoded data removed]",
      "text/plain": [
       "<Figure size 432x288 with 1 Axes>"
      ]
     },
     "metadata": {
      "needs_background": "light"
     },
     "output_type": "display_data"
    }
   ],
   "source": [
    "prob_test5 = mymodel5.predict_proba(x_test)\n",
    "auc5 = roc_auc_score(y_test,prob_test5[:,1])\n",
    "fpr5,tpr5,thresholds5 = roc_curve(y_test,prob_test5[:,1],pos_label=1)\n",
    "J5 = tpr5 - fpr5\n",
    "Ji5 = argmax(J5)\n",
    "print('Best=',thresholds5[Ji5],', TPR=',tpr5[Ji5],', FPR=',fpr5[Ji5])\n",
    "plot_roc_curve(fpr5,tpr5,auc5,Ji5)"
   ]
  },
  {
   "cell_type": "code",
   "execution_count": 309,
   "metadata": {},
   "outputs": [
    {
     "name": "stdout",
     "output_type": "stream",
     "text": [
      "[[2308 1378]\n",
      " [ 821 1103]]\n",
      "              precision    recall  f1-score   support\n",
      "\n",
      "           0       0.74      0.63      0.68      3686\n",
      "           1       0.44      0.57      0.50      1924\n",
      "\n",
      "    accuracy                           0.61      5610\n",
      "   macro avg       0.59      0.60      0.59      5610\n",
      "weighted avg       0.64      0.61      0.62      5610\n",
      "\n"
     ]
    }
   ],
   "source": [
    "pred_testj5 = mymodel5.predict_proba(x_test)[:,1]>thresholds5[Ji5]\n",
    "print(confusion_matrix(y_test,pred_testj5))\n",
    "print(classification_report(y_test,pred_testj5))"
   ]
  },
  {
   "cell_type": "code",
   "execution_count": 385,
   "metadata": {},
   "outputs": [],
   "source": [
    "# Using SVM Algorithm"
   ]
  },
  {
   "cell_type": "code",
   "execution_count": null,
   "metadata": {},
   "outputs": [],
   "source": [
    "# Training on modified input with 50:50 OD and nonOD rows. Testing on actual input with ~35% OD rows."
   ]
  },
  {
   "cell_type": "code",
   "execution_count": 167,
   "metadata": {},
   "outputs": [],
   "source": [
    "ODneg = ODrawnn[ODrawnn['ODFlag']==0].reset_index(drop=True)\n",
    "ODpos = ODrawnn[ODrawnn['ODFlag']==1].reset_index(drop=True)\n",
    "negidx = random.sample(range(len(ODneg)),len(ODpos))\n",
    "ODrawneg = ODneg.loc[[0]]\n",
    "for i in negidx:\n",
    "    ODrawneg = pd.concat([ODrawneg,ODneg.loc[[i]]],ignore_index=True)\n",
    "\n",
    "ODraweq = pd.concat([ODrawneg,ODpos],ignore_index=True)"
   ]
  },
  {
   "cell_type": "code",
   "execution_count": 168,
   "metadata": {},
   "outputs": [],
   "source": [
    "xeq = ODraweq[predictors].values\n",
    "yeq = ODraweq[target].values\n",
    "xeq_train,xeq_test,yeq_train,yeq_test = train_test_split(xeq,yeq,test_size=0.289,random_state=1)"
   ]
  },
  {
   "cell_type": "code",
   "execution_count": 169,
   "metadata": {},
   "outputs": [],
   "source": [
    "mymodel6 = svm.SVC(kernel=\"rbf\",gamma=0.2,C=2.0)"
   ]
  },
  {
   "cell_type": "code",
   "execution_count": 175,
   "metadata": {},
   "outputs": [],
   "source": [
    "mymodel6.fit(xeq_train,yeq_train.ravel())\n",
    "predict_train6 = mymodel6.predict(xeq_train)\n",
    "predict_test6 = mymodel6.predict(x_test)"
   ]
  },
  {
   "cell_type": "code",
   "execution_count": 171,
   "metadata": {},
   "outputs": [
    {
     "name": "stdout",
     "output_type": "stream",
     "text": [
      "[[4600 2269]\n",
      " [1779 5143]]\n",
      "              precision    recall  f1-score   support\n",
      "\n",
      "           0       0.72      0.67      0.69      6869\n",
      "           1       0.69      0.74      0.72      6922\n",
      "\n",
      "    accuracy                           0.71     13791\n",
      "   macro avg       0.71      0.71      0.71     13791\n",
      "weighted avg       0.71      0.71      0.71     13791\n",
      "\n"
     ]
    }
   ],
   "source": [
    "print(confusion_matrix(yeq_train,predict_train6))\n",
    "print(classification_report(yeq_train,predict_train6))"
   ]
  },
  {
   "cell_type": "code",
   "execution_count": 176,
   "metadata": {},
   "outputs": [
    {
     "name": "stdout",
     "output_type": "stream",
     "text": [
      "[[2243 1443]\n",
      " [ 554 1370]]\n",
      "              precision    recall  f1-score   support\n",
      "\n",
      "           0       0.80      0.61      0.69      3686\n",
      "           1       0.49      0.71      0.58      1924\n",
      "\n",
      "    accuracy                           0.64      5610\n",
      "   macro avg       0.64      0.66      0.64      5610\n",
      "weighted avg       0.69      0.64      0.65      5610\n",
      "\n"
     ]
    }
   ],
   "source": [
    "print(confusion_matrix(y_test,predict_test6))\n",
    "print(classification_report(y_test,predict_test6))"
   ]
  },
  {
   "cell_type": "code",
   "execution_count": 177,
   "metadata": {},
   "outputs": [
    {
     "name": "stdout",
     "output_type": "stream",
     "text": [
      "0.7064752374737148\n",
      "0.6440285204991087\n"
     ]
    }
   ],
   "source": [
    "print(mymodel6.score(xeq_train,yeq_train))\n",
    "print(mymodel6.score(x_test,y_test))"
   ]
  },
  {
   "cell_type": "code",
   "execution_count": 178,
   "metadata": {},
   "outputs": [],
   "source": [
    "mymodel7 = svm.SVC(kernel=\"rbf\",gamma=0.2,C=4.0)"
   ]
  },
  {
   "cell_type": "code",
   "execution_count": 179,
   "metadata": {},
   "outputs": [],
   "source": [
    "mymodel7.fit(xeq_train,yeq_train.ravel())\n",
    "predict_train7 = mymodel7.predict(xeq_train)\n",
    "predict_test7 = mymodel7.predict(x_test)"
   ]
  },
  {
   "cell_type": "code",
   "execution_count": 180,
   "metadata": {},
   "outputs": [
    {
     "name": "stdout",
     "output_type": "stream",
     "text": [
      "[[4744 2125]\n",
      " [1566 5356]]\n",
      "              precision    recall  f1-score   support\n",
      "\n",
      "           0       0.75      0.69      0.72      6869\n",
      "           1       0.72      0.77      0.74      6922\n",
      "\n",
      "    accuracy                           0.73     13791\n",
      "   macro avg       0.73      0.73      0.73     13791\n",
      "weighted avg       0.73      0.73      0.73     13791\n",
      "\n"
     ]
    }
   ],
   "source": [
    "print(confusion_matrix(yeq_train,predict_train7))\n",
    "print(classification_report(yeq_train,predict_train7))"
   ]
  },
  {
   "cell_type": "code",
   "execution_count": 181,
   "metadata": {},
   "outputs": [
    {
     "name": "stdout",
     "output_type": "stream",
     "text": [
      "[[2245 1441]\n",
      " [ 521 1403]]\n",
      "              precision    recall  f1-score   support\n",
      "\n",
      "           0       0.81      0.61      0.70      3686\n",
      "           1       0.49      0.73      0.59      1924\n",
      "\n",
      "    accuracy                           0.65      5610\n",
      "   macro avg       0.65      0.67      0.64      5610\n",
      "weighted avg       0.70      0.65      0.66      5610\n",
      "\n"
     ]
    }
   ],
   "source": [
    "print(confusion_matrix(y_test,predict_test7))\n",
    "print(classification_report(y_test,predict_test7))"
   ]
  },
  {
   "cell_type": "code",
   "execution_count": 182,
   "metadata": {},
   "outputs": [
    {
     "name": "stdout",
     "output_type": "stream",
     "text": [
      "0.7323616851569864\n",
      "0.6502673796791444\n"
     ]
    }
   ],
   "source": [
    "print(mymodel7.score(xeq_train,yeq_train))\n",
    "print(mymodel7.score(x_test,y_test))"
   ]
  },
  {
   "cell_type": "code",
   "execution_count": 183,
   "metadata": {},
   "outputs": [],
   "source": [
    "mymodel8 = svm.SVC(kernel=\"rbf\",gamma=0.3,C=4.0)"
   ]
  },
  {
   "cell_type": "code",
   "execution_count": 184,
   "metadata": {},
   "outputs": [],
   "source": [
    "mymodel8.fit(xeq_train,yeq_train.ravel())\n",
    "predict_train8 = mymodel8.predict(xeq_train)\n",
    "predict_test8 = mymodel8.predict(x_test)"
   ]
  },
  {
   "cell_type": "code",
   "execution_count": 185,
   "metadata": {},
   "outputs": [
    {
     "name": "stdout",
     "output_type": "stream",
     "text": [
      "[[5001 1868]\n",
      " [1294 5628]]\n",
      "              precision    recall  f1-score   support\n",
      "\n",
      "           0       0.79      0.73      0.76      6869\n",
      "           1       0.75      0.81      0.78      6922\n",
      "\n",
      "    accuracy                           0.77     13791\n",
      "   macro avg       0.77      0.77      0.77     13791\n",
      "weighted avg       0.77      0.77      0.77     13791\n",
      "\n"
     ]
    }
   ],
   "source": [
    "print(confusion_matrix(yeq_train,predict_train8))\n",
    "print(classification_report(yeq_train,predict_train8))"
   ]
  },
  {
   "cell_type": "code",
   "execution_count": 186,
   "metadata": {},
   "outputs": [
    {
     "name": "stdout",
     "output_type": "stream",
     "text": [
      "[[2287 1399]\n",
      " [ 460 1464]]\n",
      "              precision    recall  f1-score   support\n",
      "\n",
      "           0       0.83      0.62      0.71      3686\n",
      "           1       0.51      0.76      0.61      1924\n",
      "\n",
      "    accuracy                           0.67      5610\n",
      "   macro avg       0.67      0.69      0.66      5610\n",
      "weighted avg       0.72      0.67      0.68      5610\n",
      "\n"
     ]
    }
   ],
   "source": [
    "print(confusion_matrix(y_test,predict_test8))\n",
    "print(classification_report(y_test,predict_test8))"
   ]
  },
  {
   "cell_type": "code",
   "execution_count": 187,
   "metadata": {},
   "outputs": [
    {
     "name": "stdout",
     "output_type": "stream",
     "text": [
      "0.7707200348053078\n",
      "0.6686274509803921\n"
     ]
    }
   ],
   "source": [
    "print(mymodel8.score(xeq_train,yeq_train))\n",
    "print(mymodel8.score(x_test,y_test))"
   ]
  },
  {
   "cell_type": "code",
   "execution_count": 190,
   "metadata": {},
   "outputs": [],
   "source": [
    "# Using GBM Algorithm"
   ]
  },
  {
   "cell_type": "code",
   "execution_count": 185,
   "metadata": {},
   "outputs": [],
   "source": [
    "mymodel9 = GradientBoostingClassifier(loss='deviance',learning_rate=0.1,n_estimators=300,subsample=1.0,\n",
    "                                     min_samples_split=100,min_samples_leaf=50,max_depth=3,random_state=1,\n",
    "                                     verbose=1)"
   ]
  },
  {
   "cell_type": "code",
   "execution_count": 186,
   "metadata": {
    "collapsed": true
   },
   "outputs": [
    {
     "name": "stdout",
     "output_type": "stream",
     "text": [
      "      Iter       Train Loss   Remaining Time \n",
      "         1           1.2852            1.64m\n",
      "         2           1.2808            1.55m\n",
      "         3           1.2768            1.55m\n",
      "         4           1.2735            1.52m\n",
      "         5           1.2706            1.52m\n",
      "         6           1.2679            1.51m\n",
      "         7           1.2656            1.50m\n",
      "         8           1.2630            1.49m\n",
      "         9           1.2611            1.49m\n",
      "        10           1.2589            1.48m\n",
      "        20           1.2448            1.43m\n",
      "        30           1.2359            1.37m\n",
      "        40           1.2293            1.32m\n",
      "        50           1.2240            1.30m\n",
      "        60           1.2201            1.26m\n",
      "        70           1.2162            1.20m\n",
      "        80           1.2125            1.15m\n",
      "        90           1.2098            1.09m\n",
      "       100           1.2066            1.04m\n",
      "       200           1.1786           30.77s\n",
      "       300           1.1582            0.00s\n"
     ]
    }
   ],
   "source": [
    "mymodel9.fit(x_train,y_train.ravel())\n",
    "predict_train9 = mymodel9.predict(x_train)\n",
    "predict_test9 = mymodel9.predict(x_test)"
   ]
  },
  {
   "cell_type": "code",
   "execution_count": 187,
   "metadata": {},
   "outputs": [
    {
     "name": "stdout",
     "output_type": "stream",
     "text": [
      "[[13915   748]\n",
      " [ 6229  1545]]\n",
      "              precision    recall  f1-score   support\n",
      "\n",
      "           0       0.69      0.95      0.80     14663\n",
      "           1       0.67      0.20      0.31      7774\n",
      "\n",
      "    accuracy                           0.69     22437\n",
      "   macro avg       0.68      0.57      0.55     22437\n",
      "weighted avg       0.68      0.69      0.63     22437\n",
      "\n"
     ]
    }
   ],
   "source": [
    "print(confusion_matrix(y_train,predict_train9))\n",
    "print(classification_report(y_train,predict_train9))"
   ]
  },
  {
   "cell_type": "code",
   "execution_count": 188,
   "metadata": {},
   "outputs": [
    {
     "name": "stdout",
     "output_type": "stream",
     "text": [
      "[[3430  256]\n",
      " [1635  289]]\n",
      "              precision    recall  f1-score   support\n",
      "\n",
      "           0       0.68      0.93      0.78      3686\n",
      "           1       0.53      0.15      0.23      1924\n",
      "\n",
      "    accuracy                           0.66      5610\n",
      "   macro avg       0.60      0.54      0.51      5610\n",
      "weighted avg       0.63      0.66      0.60      5610\n",
      "\n"
     ]
    }
   ],
   "source": [
    "print(confusion_matrix(y_test,predict_test9))\n",
    "print(classification_report(y_test,predict_test9))"
   ]
  },
  {
   "cell_type": "code",
   "execution_count": 189,
   "metadata": {},
   "outputs": [
    {
     "name": "stdout",
     "output_type": "stream",
     "text": [
      "0.6890404242991487\n",
      "0.6629233511586453\n"
     ]
    }
   ],
   "source": [
    "print(mymodel9.score(x_train,y_train))\n",
    "print(mymodel9.score(x_test,y_test))"
   ]
  },
  {
   "cell_type": "code",
   "execution_count": 302,
   "metadata": {},
   "outputs": [
    {
     "name": "stdout",
     "output_type": "stream",
     "text": [
      "Best= 0.3276757889877738 , TPR= 0.7042619542619543 , FPR= 0.49294628323385786\n"
     ]
    },
    {
     "data": {
      "image/png": "[encoded data removed]",
      "text/plain": [
       "<Figure size 432x288 with 1 Axes>"
      ]
     },
     "metadata": {
      "needs_background": "light"
     },
     "output_type": "display_data"
    }
   ],
   "source": [
    "prob_test9 = mymodel9.predict_proba(x_test)\n",
    "auc9 = roc_auc_score(y_test,prob_test9[:,1])\n",
    "fpr9,tpr9,thresholds9 = roc_curve(y_test,prob_test9[:,1],pos_label=1)\n",
    "J9 = tpr9 - fpr9\n",
    "Ji9 = argmax(J9)\n",
    "print('Best=',thresholds9[Ji9],', TPR=',tpr9[Ji9],', FPR=',fpr9[Ji9])\n",
    "plot_roc_curve(fpr9,tpr9,auc9,Ji9)"
   ]
  },
  {
   "cell_type": "code",
   "execution_count": 303,
   "metadata": {},
   "outputs": [
    {
     "name": "stdout",
     "output_type": "stream",
     "text": [
      "[[1869 1817]\n",
      " [ 570 1354]]\n",
      "              precision    recall  f1-score   support\n",
      "\n",
      "           0       0.77      0.51      0.61      3686\n",
      "           1       0.43      0.70      0.53      1924\n",
      "\n",
      "    accuracy                           0.57      5610\n",
      "   macro avg       0.60      0.61      0.57      5610\n",
      "weighted avg       0.65      0.57      0.58      5610\n",
      "\n"
     ]
    }
   ],
   "source": [
    "pred_testj9 = mymodel9.predict_proba(x_test)[:,1]>thresholds9[Ji9]\n",
    "print(confusion_matrix(y_test,pred_testj9))\n",
    "print(classification_report(y_test,pred_testj9))"
   ]
  },
  {
   "cell_type": "code",
   "execution_count": 199,
   "metadata": {},
   "outputs": [],
   "source": [
    "mymodel10 = GradientBoostingClassifier(loss='deviance',learning_rate=0.1,n_estimators=300,subsample=1.0,\n",
    "                                     min_samples_split=100,min_samples_leaf=50,max_depth=10,random_state=1,\n",
    "                                     verbose=1)"
   ]
  },
  {
   "cell_type": "code",
   "execution_count": 243,
   "metadata": {
    "collapsed": true
   },
   "outputs": [
    {
     "name": "stdout",
     "output_type": "stream",
     "text": [
      "      Iter       Train Loss   Remaining Time \n",
      "         1           1.2712            1.32m\n",
      "         2           1.2554            1.28m\n",
      "         3           1.2421            1.26m\n",
      "         4           1.2293            1.25m\n",
      "         5           1.2183            1.24m\n",
      "         6           1.2081            1.24m\n",
      "         7           1.2001            1.23m\n",
      "         8           1.1921            1.23m\n",
      "         9           1.1842            1.23m\n",
      "        10           1.1769            1.22m\n",
      "        20           1.1253            1.20m\n",
      "        30           1.0911            1.18m\n",
      "        40           1.0709            1.16m\n",
      "        50           1.0532            1.13m\n",
      "        60           1.0344            1.09m\n",
      "        70           1.0130            1.05m\n",
      "        80           0.9908            1.01m\n",
      "        90           0.9792           58.02s\n",
      "       100           0.9699           55.58s\n",
      "       200           0.8720           28.32s\n",
      "       300           0.7803            0.00s\n"
     ]
    }
   ],
   "source": [
    "mymodel10.fit(x_train,y_train.ravel())\n",
    "predict_train10 = mymodel10.predict(x_train)\n",
    "predict_test10 = mymodel10.predict(x_test)"
   ]
  },
  {
   "cell_type": "code",
   "execution_count": 195,
   "metadata": {},
   "outputs": [
    {
     "name": "stdout",
     "output_type": "stream",
     "text": [
      "[[14286   377]\n",
      " [ 2612  5162]]\n",
      "              precision    recall  f1-score   support\n",
      "\n",
      "           0       0.85      0.97      0.91     14663\n",
      "           1       0.93      0.66      0.78      7774\n",
      "\n",
      "    accuracy                           0.87     22437\n",
      "   macro avg       0.89      0.82      0.84     22437\n",
      "weighted avg       0.88      0.87      0.86     22437\n",
      "\n"
     ]
    }
   ],
   "source": [
    "print(confusion_matrix(y_train,predict_train10))\n",
    "print(classification_report(y_train,predict_train10))"
   ]
  },
  {
   "cell_type": "code",
   "execution_count": 196,
   "metadata": {},
   "outputs": [
    {
     "name": "stdout",
     "output_type": "stream",
     "text": [
      "[[3170  516]\n",
      " [1425  499]]\n",
      "              precision    recall  f1-score   support\n",
      "\n",
      "           0       0.69      0.86      0.77      3686\n",
      "           1       0.49      0.26      0.34      1924\n",
      "\n",
      "    accuracy                           0.65      5610\n",
      "   macro avg       0.59      0.56      0.55      5610\n",
      "weighted avg       0.62      0.65      0.62      5610\n",
      "\n"
     ]
    }
   ],
   "source": [
    "print(confusion_matrix(y_test,predict_test10))\n",
    "print(classification_report(y_test,predict_test10))"
   ]
  },
  {
   "cell_type": "code",
   "execution_count": 197,
   "metadata": {},
   "outputs": [
    {
     "name": "stdout",
     "output_type": "stream",
     "text": [
      "0.8667825466862771\n",
      "0.6540106951871658\n"
     ]
    }
   ],
   "source": [
    "print(mymodel10.score(x_train,y_train))\n",
    "print(mymodel10.score(x_test,y_test))"
   ]
  },
  {
   "cell_type": "code",
   "execution_count": 306,
   "metadata": {},
   "outputs": [
    {
     "name": "stdout",
     "output_type": "stream",
     "text": [
      "Best= 0.2963709564224234 , TPR= 0.7001039501039501 , FPR= 0.4945740640260445\n"
     ]
    },
    {
     "data": {
      "image/png": "[encoded data removed]",
      "text/plain": [
       "<Figure size 432x288 with 1 Axes>"
      ]
     },
     "metadata": {
      "needs_background": "light"
     },
     "output_type": "display_data"
    }
   ],
   "source": [
    "prob_test10 = mymodel10.predict_proba(x_test)\n",
    "auc10 = roc_auc_score(y_test,prob_test10[:,1])\n",
    "fpr10,tpr10,thresholds10 = roc_curve(y_test,prob_test10[:,1],pos_label=1)\n",
    "J10 = tpr10 - fpr10\n",
    "Ji10 = argmax(J10)\n",
    "print('Best=',thresholds10[Ji10],', TPR=',tpr10[Ji10],', FPR=',fpr10[Ji10])\n",
    "plot_roc_curve(fpr10,tpr10,auc10,Ji10)"
   ]
  },
  {
   "cell_type": "code",
   "execution_count": 307,
   "metadata": {},
   "outputs": [
    {
     "name": "stdout",
     "output_type": "stream",
     "text": [
      "[[1863 1823]\n",
      " [ 578 1346]]\n",
      "              precision    recall  f1-score   support\n",
      "\n",
      "           0       0.76      0.51      0.61      3686\n",
      "           1       0.42      0.70      0.53      1924\n",
      "\n",
      "    accuracy                           0.57      5610\n",
      "   macro avg       0.59      0.60      0.57      5610\n",
      "weighted avg       0.65      0.57      0.58      5610\n",
      "\n"
     ]
    }
   ],
   "source": [
    "pred_testj10 = mymodel10.predict_proba(x_test)[:,1]>thresholds10[Ji10]\n",
    "print(confusion_matrix(y_test,pred_testj10))\n",
    "print(classification_report(y_test,pred_testj10))"
   ]
  },
  {
   "cell_type": "code",
   "execution_count": 206,
   "metadata": {},
   "outputs": [],
   "source": [
    "mymodel11 = GradientBoostingClassifier(loss='deviance',learning_rate=0.1,n_estimators=500,subsample=1.0,\n",
    "                                     min_samples_split=100,min_samples_leaf=50,max_depth=20,random_state=1,\n",
    "                                     verbose=1)"
   ]
  },
  {
   "cell_type": "code",
   "execution_count": 207,
   "metadata": {
    "collapsed": true
   },
   "outputs": [
    {
     "name": "stdout",
     "output_type": "stream",
     "text": [
      "      Iter       Train Loss   Remaining Time \n",
      "         1           1.2646            8.93m\n",
      "         2           1.2419            9.09m\n",
      "         3           1.2218            9.06m\n",
      "         4           1.2028            9.19m\n",
      "         5           1.1856            9.02m\n",
      "         6           1.1697            9.18m\n",
      "         7           1.1534            9.17m\n",
      "         8           1.1379            9.23m\n",
      "         9           1.1256            9.39m\n",
      "        10           1.1138            9.52m\n",
      "        20           1.0239           10.42m\n",
      "        30           0.9580           10.75m\n",
      "        40           0.9096           10.91m\n",
      "        50           0.8868           11.16m\n",
      "        60           0.8592           11.19m\n",
      "        70           0.8291           11.09m\n",
      "        80           0.8093           10.98m\n",
      "        90           0.7970           10.91m\n",
      "       100           0.7760           10.73m\n",
      "       200           0.6200            8.35m\n",
      "       300           0.4989            5.64m\n",
      "       400           0.4039            2.82m\n",
      "       500           0.3339            0.00s\n"
     ]
    }
   ],
   "source": [
    "mymodel11.fit(x_train,y_train.ravel())\n",
    "predict_train11 = mymodel11.predict(x_train)\n",
    "predict_test11 = mymodel11.predict(x_test)"
   ]
  },
  {
   "cell_type": "code",
   "execution_count": 208,
   "metadata": {},
   "outputs": [
    {
     "name": "stdout",
     "output_type": "stream",
     "text": [
      "[[14642    21]\n",
      " [   95  7679]]\n",
      "              precision    recall  f1-score   support\n",
      "\n",
      "           0       0.99      1.00      1.00     14663\n",
      "           1       1.00      0.99      0.99      7774\n",
      "\n",
      "    accuracy                           0.99     22437\n",
      "   macro avg       1.00      0.99      0.99     22437\n",
      "weighted avg       0.99      0.99      0.99     22437\n",
      "\n"
     ]
    }
   ],
   "source": [
    "print(confusion_matrix(y_train,predict_train11))\n",
    "print(classification_report(y_train,predict_train11))"
   ]
  },
  {
   "cell_type": "code",
   "execution_count": 209,
   "metadata": {},
   "outputs": [
    {
     "name": "stdout",
     "output_type": "stream",
     "text": [
      "[[2973  713]\n",
      " [1300  624]]\n",
      "              precision    recall  f1-score   support\n",
      "\n",
      "           0       0.70      0.81      0.75      3686\n",
      "           1       0.47      0.32      0.38      1924\n",
      "\n",
      "    accuracy                           0.64      5610\n",
      "   macro avg       0.58      0.57      0.56      5610\n",
      "weighted avg       0.62      0.64      0.62      5610\n",
      "\n"
     ]
    }
   ],
   "source": [
    "print(confusion_matrix(y_test,predict_test11))\n",
    "print(classification_report(y_test,predict_test11))"
   ]
  },
  {
   "cell_type": "code",
   "execution_count": 210,
   "metadata": {},
   "outputs": [
    {
     "name": "stdout",
     "output_type": "stream",
     "text": [
      "0.9948299683558408\n",
      "0.6411764705882353\n"
     ]
    }
   ],
   "source": [
    "print(mymodel11.score(x_train,y_train))\n",
    "print(mymodel11.score(x_test,y_test))"
   ]
  },
  {
   "cell_type": "code",
   "execution_count": 304,
   "metadata": {},
   "outputs": [
    {
     "name": "stdout",
     "output_type": "stream",
     "text": [
      "Best= 0.2406304451631563 , TPR= 0.6616424116424117 , FPR= 0.4723277265328269\n"
     ]
    },
    {
     "data": {
      "image/png": "[encoded data removed]",
      "text/plain": [
       "<Figure size 432x288 with 1 Axes>"
      ]
     },
     "metadata": {
      "needs_background": "light"
     },
     "output_type": "display_data"
    }
   ],
   "source": [
    "prob_test11 = mymodel11.predict_proba(x_test)\n",
    "auc11 = roc_auc_score(y_test,prob_test11[:,1])\n",
    "fpr11,tpr11,thresholds11 = roc_curve(y_test,prob_test11[:,1],pos_label=1)\n",
    "J11 = tpr11 - fpr11\n",
    "Ji11 = argmax(J11)\n",
    "print('Best=',thresholds11[Ji11],', TPR=',tpr11[Ji11],', FPR=',fpr11[Ji11])\n",
    "plot_roc_curve(fpr11,tpr11,auc11,Ji11)"
   ]
  },
  {
   "cell_type": "code",
   "execution_count": 305,
   "metadata": {},
   "outputs": [
    {
     "name": "stdout",
     "output_type": "stream",
     "text": [
      "[[1945 1741]\n",
      " [ 652 1272]]\n",
      "              precision    recall  f1-score   support\n",
      "\n",
      "           0       0.75      0.53      0.62      3686\n",
      "           1       0.42      0.66      0.52      1924\n",
      "\n",
      "    accuracy                           0.57      5610\n",
      "   macro avg       0.59      0.59      0.57      5610\n",
      "weighted avg       0.64      0.57      0.58      5610\n",
      "\n"
     ]
    }
   ],
   "source": [
    "pred_testj11 = mymodel11.predict_proba(x_test)[:,1]>thresholds11[Ji11]\n",
    "print(confusion_matrix(y_test,pred_testj11))\n",
    "print(classification_report(y_test,pred_testj11))"
   ]
  },
  {
   "cell_type": "code",
   "execution_count": 211,
   "metadata": {},
   "outputs": [],
   "source": [
    "mymodel12 = GradientBoostingClassifier(loss='deviance',learning_rate=0.1,n_estimators=500,subsample=0.9,\n",
    "                                     min_samples_split=100,min_samples_leaf=50,max_depth=20,random_state=1,\n",
    "                                     verbose=1)"
   ]
  },
  {
   "cell_type": "code",
   "execution_count": 212,
   "metadata": {
    "collapsed": true
   },
   "outputs": [
    {
     "name": "stdout",
     "output_type": "stream",
     "text": [
      "      Iter       Train Loss      OOB Improve   Remaining Time \n",
      "         1           1.2638           0.0130            8.84m\n",
      "         2           1.2443           0.0055            8.49m\n",
      "         3           1.2239           0.0062            8.33m\n",
      "         4           1.2064           0.0042            8.23m\n",
      "         5           1.1896           0.0036            8.16m\n",
      "         6           1.1753           0.0044            8.24m\n",
      "         7           1.1577           0.0035            8.34m\n",
      "         8           1.1453           0.0004            8.45m\n",
      "         9           1.1342           0.0016            8.50m\n",
      "        10           1.1235           0.0008            8.48m\n",
      "        20           1.0315          -0.0002            9.14m\n",
      "        30           0.9724          -0.0012            9.65m\n",
      "        40           0.9305          -0.0013            9.93m\n",
      "        50           0.8862          -0.0010            9.91m\n",
      "        60           0.8486          -0.0015            9.83m\n",
      "        70           0.8182          -0.0015            9.75m\n",
      "        80           0.7822          -0.0014            9.68m\n",
      "        90           0.7532          -0.0023            9.50m\n",
      "       100           0.7311          -0.0012            9.42m\n",
      "       200           0.5281          -0.0012            7.31m\n",
      "       300           0.3908          -0.0010            4.91m\n",
      "       400           0.2833          -0.0014            2.45m\n",
      "       500           0.2093          -0.0010            0.00s\n"
     ]
    }
   ],
   "source": [
    "mymodel12.fit(x_train,y_train.ravel())\n",
    "predict_train12 = mymodel12.predict(x_train)\n",
    "predict_test12 = mymodel12.predict(x_test)"
   ]
  },
  {
   "cell_type": "code",
   "execution_count": 213,
   "metadata": {},
   "outputs": [
    {
     "name": "stdout",
     "output_type": "stream",
     "text": [
      "[[14654     9]\n",
      " [   25  7749]]\n",
      "              precision    recall  f1-score   support\n",
      "\n",
      "           0       1.00      1.00      1.00     14663\n",
      "           1       1.00      1.00      1.00      7774\n",
      "\n",
      "    accuracy                           1.00     22437\n",
      "   macro avg       1.00      1.00      1.00     22437\n",
      "weighted avg       1.00      1.00      1.00     22437\n",
      "\n"
     ]
    }
   ],
   "source": [
    "print(confusion_matrix(y_train,predict_train12))\n",
    "print(classification_report(y_train,predict_train12))"
   ]
  },
  {
   "cell_type": "code",
   "execution_count": 214,
   "metadata": {},
   "outputs": [
    {
     "name": "stdout",
     "output_type": "stream",
     "text": [
      "[[2961  725]\n",
      " [1295  629]]\n",
      "              precision    recall  f1-score   support\n",
      "\n",
      "           0       0.70      0.80      0.75      3686\n",
      "           1       0.46      0.33      0.38      1924\n",
      "\n",
      "    accuracy                           0.64      5610\n",
      "   macro avg       0.58      0.57      0.56      5610\n",
      "weighted avg       0.62      0.64      0.62      5610\n",
      "\n"
     ]
    }
   ],
   "source": [
    "print(confusion_matrix(y_test,predict_test12))\n",
    "print(classification_report(y_test,predict_test12))"
   ]
  },
  {
   "cell_type": "code",
   "execution_count": 215,
   "metadata": {},
   "outputs": [
    {
     "name": "stdout",
     "output_type": "stream",
     "text": [
      "0.9984846458974016\n",
      "0.6399286987522281\n"
     ]
    }
   ],
   "source": [
    "print(mymodel12.score(x_train,y_train))\n",
    "print(mymodel12.score(x_test,y_test))"
   ]
  },
  {
   "cell_type": "code",
   "execution_count": 300,
   "metadata": {},
   "outputs": [
    {
     "name": "stdout",
     "output_type": "stream",
     "text": [
      "Best= 0.22449490028456143 , TPR= 0.6351351351351351 , FPR= 0.44519804666304935\n"
     ]
    },
    {
     "data": {
      "image/png": "[encoded data removed]",
      "text/plain": [
       "<Figure size 432x288 with 1 Axes>"
      ]
     },
     "metadata": {
      "needs_background": "light"
     },
     "output_type": "display_data"
    }
   ],
   "source": [
    "prob_test12 = mymodel12.predict_proba(x_test)\n",
    "auc12 = roc_auc_score(y_test,prob_test12[:,1])\n",
    "fpr12,tpr12,thresholds12 = roc_curve(y_test,prob_test12[:,1],pos_label=1)\n",
    "J12 = tpr12 - fpr12\n",
    "Ji12 = argmax(J12)\n",
    "print('Best=',thresholds12[Ji12],', TPR=',tpr12[Ji12],', FPR=',fpr12[Ji12])\n",
    "plot_roc_curve(fpr12,tpr12,auc12,Ji12)"
   ]
  },
  {
   "cell_type": "code",
   "execution_count": 301,
   "metadata": {},
   "outputs": [
    {
     "name": "stdout",
     "output_type": "stream",
     "text": [
      "[[2045 1641]\n",
      " [ 703 1221]]\n",
      "              precision    recall  f1-score   support\n",
      "\n",
      "           0       0.74      0.55      0.64      3686\n",
      "           1       0.43      0.63      0.51      1924\n",
      "\n",
      "    accuracy                           0.58      5610\n",
      "   macro avg       0.59      0.59      0.57      5610\n",
      "weighted avg       0.64      0.58      0.59      5610\n",
      "\n"
     ]
    }
   ],
   "source": [
    "pred_testj12 = mymodel12.predict_proba(x_test)[:,1]>thresholds12[Ji12]\n",
    "print(confusion_matrix(y_test,pred_testj12))\n",
    "print(classification_report(y_test,pred_testj12))"
   ]
  },
  {
   "cell_type": "code",
   "execution_count": 312,
   "metadata": {},
   "outputs": [],
   "source": [
    "# Using RandomForest Algorithm"
   ]
  },
  {
   "cell_type": "code",
   "execution_count": 414,
   "metadata": {},
   "outputs": [],
   "source": [
    "mymodel13 = RandomForestClassifier(n_estimators=100,criterion='gini',max_depth=20,min_samples_split=10,\n",
    "                                   min_samples_leaf=5,bootstrap=True,max_samples=5000,random_state=1,verbose=1)"
   ]
  },
  {
   "cell_type": "code",
   "execution_count": 415,
   "metadata": {},
   "outputs": [
    {
     "name": "stderr",
     "output_type": "stream",
     "text": [
      "[Parallel(n_jobs=1)]: Using backend SequentialBackend with 1 concurrent workers.\n",
      "[Parallel(n_jobs=1)]: Done 100 out of 100 | elapsed:    1.3s finished\n",
      "[Parallel(n_jobs=1)]: Using backend SequentialBackend with 1 concurrent workers.\n",
      "[Parallel(n_jobs=1)]: Done 100 out of 100 | elapsed:    0.3s finished\n",
      "[Parallel(n_jobs=1)]: Using backend SequentialBackend with 1 concurrent workers.\n",
      "[Parallel(n_jobs=1)]: Done 100 out of 100 | elapsed:    0.0s finished\n"
     ]
    }
   ],
   "source": [
    "mymodel13.fit(x_train,y_train.ravel())\n",
    "predict_train13 = mymodel13.predict(x_train)\n",
    "predict_test13 = mymodel13.predict(x_test)"
   ]
  },
  {
   "cell_type": "code",
   "execution_count": 416,
   "metadata": {},
   "outputs": [
    {
     "name": "stdout",
     "output_type": "stream",
     "text": [
      "[[14335   328]\n",
      " [ 6323  1451]]\n",
      "              precision    recall  f1-score   support\n",
      "\n",
      "           0       0.69      0.98      0.81     14663\n",
      "           1       0.82      0.19      0.30      7774\n",
      "\n",
      "    accuracy                           0.70     22437\n",
      "   macro avg       0.75      0.58      0.56     22437\n",
      "weighted avg       0.74      0.70      0.64     22437\n",
      "\n"
     ]
    }
   ],
   "source": [
    "print(confusion_matrix(y_train,predict_train13))\n",
    "print(classification_report(y_train,predict_train13))"
   ]
  },
  {
   "cell_type": "code",
   "execution_count": 417,
   "metadata": {},
   "outputs": [
    {
     "name": "stdout",
     "output_type": "stream",
     "text": [
      "[[3521  165]\n",
      " [1697  227]]\n",
      "              precision    recall  f1-score   support\n",
      "\n",
      "           0       0.67      0.96      0.79      3686\n",
      "           1       0.58      0.12      0.20      1924\n",
      "\n",
      "    accuracy                           0.67      5610\n",
      "   macro avg       0.63      0.54      0.49      5610\n",
      "weighted avg       0.64      0.67      0.59      5610\n",
      "\n"
     ]
    }
   ],
   "source": [
    "print(confusion_matrix(y_test,predict_test13))\n",
    "print(classification_report(y_test,predict_test13))"
   ]
  },
  {
   "cell_type": "code",
   "execution_count": 418,
   "metadata": {},
   "outputs": [
    {
     "name": "stderr",
     "output_type": "stream",
     "text": [
      "[Parallel(n_jobs=1)]: Using backend SequentialBackend with 1 concurrent workers.\n"
     ]
    },
    {
     "name": "stdout",
     "output_type": "stream",
     "text": [
      "0.7035699959887686\n",
      "0.6680926916221034\n"
     ]
    },
    {
     "name": "stderr",
     "output_type": "stream",
     "text": [
      "[Parallel(n_jobs=1)]: Done 100 out of 100 | elapsed:    0.3s finished\n",
      "[Parallel(n_jobs=1)]: Using backend SequentialBackend with 1 concurrent workers.\n",
      "[Parallel(n_jobs=1)]: Done 100 out of 100 | elapsed:    0.0s finished\n"
     ]
    }
   ],
   "source": [
    "print(mymodel13.score(x_train,y_train))\n",
    "print(mymodel13.score(x_test,y_test))"
   ]
  },
  {
   "cell_type": "code",
   "execution_count": 419,
   "metadata": {},
   "outputs": [
    {
     "name": "stderr",
     "output_type": "stream",
     "text": [
      "[Parallel(n_jobs=1)]: Using backend SequentialBackend with 1 concurrent workers.\n",
      "[Parallel(n_jobs=1)]: Done 100 out of 100 | elapsed:    0.0s finished\n"
     ]
    },
    {
     "name": "stdout",
     "output_type": "stream",
     "text": [
      "Best= 0.3630960942762698 , TPR= 0.6081081081081081 , FPR= 0.39012479652740095\n"
     ]
    },
    {
     "data": {
      "image/png": "[encoded data removed]",
      "text/plain": [
       "<Figure size 432x288 with 1 Axes>"
      ]
     },
     "metadata": {
      "needs_background": "light"
     },
     "output_type": "display_data"
    }
   ],
   "source": [
    "prob_test13 = mymodel13.predict_proba(x_test)\n",
    "auc13 = roc_auc_score(y_test,prob_test13[:,1])\n",
    "fpr13,tpr13,thresholds13 = roc_curve(y_test,prob_test13[:,1],pos_label=1)\n",
    "J13 = tpr13 - fpr13\n",
    "Ji13 = argmax(J13)\n",
    "print('Best=',thresholds13[Ji13],', TPR=',tpr13[Ji13],', FPR=',fpr13[Ji13])\n",
    "plot_roc_curve(fpr13,tpr13,auc13,Ji13)"
   ]
  },
  {
   "cell_type": "code",
   "execution_count": 420,
   "metadata": {},
   "outputs": [
    {
     "name": "stdout",
     "output_type": "stream",
     "text": [
      "[[2248 1438]\n",
      " [ 755 1169]]\n",
      "              precision    recall  f1-score   support\n",
      "\n",
      "           0       0.75      0.61      0.67      3686\n",
      "           1       0.45      0.61      0.52      1924\n",
      "\n",
      "    accuracy                           0.61      5610\n",
      "   macro avg       0.60      0.61      0.59      5610\n",
      "weighted avg       0.65      0.61      0.62      5610\n",
      "\n"
     ]
    },
    {
     "name": "stderr",
     "output_type": "stream",
     "text": [
      "[Parallel(n_jobs=1)]: Using backend SequentialBackend with 1 concurrent workers.\n",
      "[Parallel(n_jobs=1)]: Done 100 out of 100 | elapsed:    0.0s finished\n"
     ]
    }
   ],
   "source": [
    "pred_testj13 = mymodel13.predict_proba(x_test)[:,1]>thresholds13[Ji13]\n",
    "print(confusion_matrix(y_test,pred_testj13))\n",
    "print(classification_report(y_test,pred_testj13))"
   ]
  },
  {
   "cell_type": "code",
   "execution_count": 385,
   "metadata": {},
   "outputs": [],
   "source": [
    "mymodel14 = RandomForestClassifier(n_estimators=100,random_state=1,verbose=1)"
   ]
  },
  {
   "cell_type": "code",
   "execution_count": 386,
   "metadata": {},
   "outputs": [
    {
     "name": "stderr",
     "output_type": "stream",
     "text": [
      "[Parallel(n_jobs=1)]: Using backend SequentialBackend with 1 concurrent workers.\n",
      "[Parallel(n_jobs=1)]: Done 100 out of 100 | elapsed:    5.7s finished\n",
      "[Parallel(n_jobs=1)]: Using backend SequentialBackend with 1 concurrent workers.\n",
      "[Parallel(n_jobs=1)]: Done 100 out of 100 | elapsed:    0.5s finished\n",
      "[Parallel(n_jobs=1)]: Using backend SequentialBackend with 1 concurrent workers.\n",
      "[Parallel(n_jobs=1)]: Done 100 out of 100 | elapsed:    0.1s finished\n"
     ]
    }
   ],
   "source": [
    "mymodel14.fit(x_train,y_train.ravel())\n",
    "predict_train14 = mymodel14.predict(x_train)\n",
    "predict_test14 = mymodel14.predict(x_test)"
   ]
  },
  {
   "cell_type": "code",
   "execution_count": 387,
   "metadata": {},
   "outputs": [
    {
     "name": "stdout",
     "output_type": "stream",
     "text": [
      "[[14657     6]\n",
      " [    8  7766]]\n",
      "              precision    recall  f1-score   support\n",
      "\n",
      "           0       1.00      1.00      1.00     14663\n",
      "           1       1.00      1.00      1.00      7774\n",
      "\n",
      "    accuracy                           1.00     22437\n",
      "   macro avg       1.00      1.00      1.00     22437\n",
      "weighted avg       1.00      1.00      1.00     22437\n",
      "\n"
     ]
    }
   ],
   "source": [
    "print(confusion_matrix(y_train,predict_train14))\n",
    "print(classification_report(y_train,predict_train14))"
   ]
  },
  {
   "cell_type": "code",
   "execution_count": 388,
   "metadata": {},
   "outputs": [
    {
     "name": "stdout",
     "output_type": "stream",
     "text": [
      "[[3223  463]\n",
      " [1448  476]]\n",
      "              precision    recall  f1-score   support\n",
      "\n",
      "           0       0.69      0.87      0.77      3686\n",
      "           1       0.51      0.25      0.33      1924\n",
      "\n",
      "    accuracy                           0.66      5610\n",
      "   macro avg       0.60      0.56      0.55      5610\n",
      "weighted avg       0.63      0.66      0.62      5610\n",
      "\n"
     ]
    }
   ],
   "source": [
    "print(confusion_matrix(y_test,predict_test14))\n",
    "print(classification_report(y_test,predict_test14))"
   ]
  },
  {
   "cell_type": "code",
   "execution_count": 389,
   "metadata": {},
   "outputs": [
    {
     "name": "stderr",
     "output_type": "stream",
     "text": [
      "[Parallel(n_jobs=1)]: Using backend SequentialBackend with 1 concurrent workers.\n"
     ]
    },
    {
     "name": "stdout",
     "output_type": "stream",
     "text": [
      "0.999376030663636\n",
      "0.6593582887700534\n"
     ]
    },
    {
     "name": "stderr",
     "output_type": "stream",
     "text": [
      "[Parallel(n_jobs=1)]: Done 100 out of 100 | elapsed:    0.5s finished\n",
      "[Parallel(n_jobs=1)]: Using backend SequentialBackend with 1 concurrent workers.\n",
      "[Parallel(n_jobs=1)]: Done 100 out of 100 | elapsed:    0.1s finished\n"
     ]
    }
   ],
   "source": [
    "print(mymodel14.score(x_train,y_train))\n",
    "print(mymodel14.score(x_test,y_test))"
   ]
  },
  {
   "cell_type": "code",
   "execution_count": 390,
   "metadata": {},
   "outputs": [
    {
     "name": "stderr",
     "output_type": "stream",
     "text": [
      "[Parallel(n_jobs=1)]: Using backend SequentialBackend with 1 concurrent workers.\n",
      "[Parallel(n_jobs=1)]: Done 100 out of 100 | elapsed:    0.1s finished\n"
     ]
    },
    {
     "name": "stdout",
     "output_type": "stream",
     "text": [
      "Best= 0.3 , TPR= 0.751039501039501 , FPR= 0.5553445469343462\n"
     ]
    },
    {
     "data": {
      "image/png": "[encoded data removed]",
      "text/plain": [
       "<Figure size 432x288 with 1 Axes>"
      ]
     },
     "metadata": {
      "needs_background": "light"
     },
     "output_type": "display_data"
    }
   ],
   "source": [
    "prob_test14 = mymodel14.predict_proba(x_test)\n",
    "auc14 = roc_auc_score(y_test,prob_test14[:,1])\n",
    "fpr14,tpr14,thresholds14 = roc_curve(y_test,prob_test14[:,1],pos_label=1)\n",
    "J14 = tpr14 - fpr14\n",
    "Ji14 = argmax(J14)\n",
    "print('Best=',thresholds14[Ji14],', TPR=',tpr14[Ji14],', FPR=',fpr14[Ji14])\n",
    "plot_roc_curve(fpr14,tpr14,auc14,Ji14)"
   ]
  },
  {
   "cell_type": "code",
   "execution_count": 391,
   "metadata": {},
   "outputs": [
    {
     "name": "stderr",
     "output_type": "stream",
     "text": [
      "[Parallel(n_jobs=1)]: Using backend SequentialBackend with 1 concurrent workers.\n",
      "[Parallel(n_jobs=1)]: Done 100 out of 100 | elapsed:    0.1s finished\n"
     ]
    },
    {
     "name": "stdout",
     "output_type": "stream",
     "text": [
      "[[1730 1956]\n",
      " [ 535 1389]]\n",
      "              precision    recall  f1-score   support\n",
      "\n",
      "           0       0.76      0.47      0.58      3686\n",
      "           1       0.42      0.72      0.53      1924\n",
      "\n",
      "    accuracy                           0.56      5610\n",
      "   macro avg       0.59      0.60      0.55      5610\n",
      "weighted avg       0.64      0.56      0.56      5610\n",
      "\n"
     ]
    }
   ],
   "source": [
    "pred_testj14 = mymodel14.predict_proba(x_test)[:,1]>thresholds14[Ji14]\n",
    "print(confusion_matrix(y_test,pred_testj14))\n",
    "print(classification_report(y_test,pred_testj14))"
   ]
  },
  {
   "cell_type": "code",
   "execution_count": 398,
   "metadata": {},
   "outputs": [
    {
     "data": {
      "text/plain": [
       "DecisionTreeClassifier(max_features='auto', random_state=550290313)"
      ]
     },
     "execution_count": 398,
     "metadata": {},
     "output_type": "execute_result"
    }
   ],
   "source": [
    "mymodel14.estimators_[5]\n",
    "#export_graphviz(tree, out_file = 'tree.dot', feature_names = predictors, rounded = True, precision = 1)\n",
    "#(graph, ) = pydot.graph_from_dot_file('tree.dot')\n",
    "#graph.write_png('tree.png')"
   ]
  },
  {
   "cell_type": "code",
   "execution_count": 421,
   "metadata": {},
   "outputs": [],
   "source": [
    "# For selecting final model, predicting more True Positives is priority. For above model14, i.e. 1389.\n",
    "# But it should also have good TP% of all +ve predictions. For above model14, i.e. 1389/(1389+1956)= 42%."
   ]
  },
  {
   "cell_type": "code",
   "execution_count": null,
   "metadata": {},
   "outputs": [],
   "source": [
    "# Min Precision = 45% (Given Default Precision = 30%)"
   ]
  },
  {
   "cell_type": "code",
   "execution_count": 227,
   "metadata": {},
   "outputs": [],
   "source": [
    "# Precision Recall curves were giving thresholds with lower Precision than ROC curves in lue of higher recall.\n",
    "# Hence, our minimum precision criteria of 45% was not being met with precision recall curve."
   ]
  },
  {
   "cell_type": "code",
   "execution_count": 422,
   "metadata": {},
   "outputs": [],
   "source": [
    "# Amongst all models, mymodel13 (RF) has TP of 1169 and TP% of +ve prediction of 45%. Its ROC auc of 0.65\n",
    "# is also the best. Its test score of 0.668 is also the best. Hence, it is the best model."
   ]
  },
  {
   "cell_type": "code",
   "execution_count": null,
   "metadata": {},
   "outputs": [],
   "source": [
    "# Amongst all models, mymodel8 (SVM) has TP of 1464 and TP% of +ve prediction of 51%. Its ROC auc of 0.65\n",
    "# is also the best. Its test score of 0.668 is also the best. Hence, it is the best model."
   ]
  }
 ],
 "metadata": {
  "kernelspec": {
   "display_name": "Python 3",
   "language": "python",
   "name": "python3"
  },
  "language_info": {
   "codemirror_mode": {
    "name": "ipython",
    "version": 3
   },
   "file_extension": ".py",
   "mimetype": "text/x-python",
   "name": "python",
   "nbconvert_exporter": "python",
   "pygments_lexer": "ipython3",
   "version": "3.8.3"
  }
 },
 "nbformat": 4,
 "nbformat_minor": 4
}
