{
 "cells": [
  {
   "cell_type": "code",
   "execution_count": null,
   "metadata": {
    "id": "xkrPTnwTCmt8"
   },
   "outputs": [],
   "source": [
    "pip install sklearn-contrib-py-earth"
   ]
  },
  {
   "cell_type": "code",
   "execution_count": null,
   "metadata": {
    "id": "iF7gU0ij8_R4"
   },
   "outputs": [],
   "source": [
    "! pip install https://github.com/pandas-profiling/pandas-profiling/archive/master.zip"
   ]
  },
  {
   "cell_type": "code",
   "execution_count": 5,
   "metadata": {
    "id": "WQH7rN3t-Ijs"
   },
   "outputs": [],
   "source": [
    "import pandas_profiling as pp\n",
    "import pyearth"
   ]
  },
  {
   "cell_type": "code",
   "execution_count": 166,
   "metadata": {
    "id": "OG7mb13-NKRC"
   },
   "outputs": [],
   "source": [
    "from sklearn import linear_model\n",
    "from sklearn.pipeline import Pipeline\n",
    "from sklearn.linear_model import LinearRegression\n",
    "from sklearn.preprocessing import PolynomialFeatures\n",
    "from sklearn.tree import DecisionTreeRegressor\n",
    "from sklearn.model_selection import train_test_split\n",
    "from sklearn.model_selection import cross_val_score\n",
    "from sklearn.model_selection import RepeatedKFold"
   ]
  },
  {
   "cell_type": "code",
   "execution_count": null,
   "metadata": {
    "id": "SUABBDZn414t"
   },
   "outputs": [],
   "source": [
    "#pd.show_versions()"
   ]
  },
  {
   "cell_type": "code",
   "execution_count": 150,
   "metadata": {
    "id": "EsRK5gNOr4Vs"
   },
   "outputs": [],
   "source": [
    "import pandas as pd\n",
    "import seaborn as sns\n",
    "import datetime as dt\n",
    "import numpy as np\n",
    "import math\n",
    "from scipy import stats\n",
    "import matplotlib.pyplot as plt\n",
    "%matplotlib inline"
   ]
  },
  {
   "cell_type": "code",
   "execution_count": 151,
   "metadata": {
    "id": "KGkO6HpvstwX"
   },
   "outputs": [],
   "source": [
    "df1 = pd.read_csv('/content/drive/MyDrive/Colab Notebooks/Airbnb/Listings_Final.csv')"
   ]
  },
  {
   "cell_type": "code",
   "execution_count": 152,
   "metadata": {
    "id": "uKuYzMzkMIFX"
   },
   "outputs": [],
   "source": [
    "df1['Posting_Date'] = df1['Posting_Date'].astype('datetime64[ns]')"
   ]
  },
  {
   "cell_type": "code",
   "execution_count": null,
   "metadata": {
    "id": "V8ZAxoMf-f1i"
   },
   "outputs": [],
   "source": [
    "#pp.ProfileReport(df1)"
   ]
  },
  {
   "cell_type": "code",
   "execution_count": null,
   "metadata": {
    "id": "kRzCmV8Rs3sJ"
   },
   "outputs": [],
   "source": [
    "df1.dtypes"
   ]
  },
  {
   "cell_type": "code",
   "execution_count": 153,
   "metadata": {
    "colab": {
     "base_uri": "https://localhost:8080/"
    },
    "id": "5rFwMTcxOXdH",
    "outputId": "f0de06d4-ac47-48d7-fdbd-02d1a0dc10a4"
   },
   "outputs": [
    {
     "name": "stdout",
     "output_type": "stream",
     "text": [
      "2019-08-31 00:00:00\n"
     ]
    }
   ],
   "source": [
    "#ref_date = pd.Timestamp(df1['Posting_Date'].max())\n",
    "ref_date = pd.Timestamp(dt.date(2019,8,31))\n",
    "print(ref_date)"
   ]
  },
  {
   "cell_type": "code",
   "execution_count": 154,
   "metadata": {
    "id": "PURMhNMkUlRU"
   },
   "outputs": [],
   "source": [
    "df1['Posting_Year'] = df1['Posting_Date'].dt.year"
   ]
  },
  {
   "cell_type": "code",
   "execution_count": 155,
   "metadata": {
    "id": "rLHEPkJeVfBW"
   },
   "outputs": [],
   "source": [
    "df1['Posting_Month'] = df1['Posting_Date'].dt.month"
   ]
  },
  {
   "cell_type": "code",
   "execution_count": 156,
   "metadata": {
    "id": "Eb9ojdfyVsY5"
   },
   "outputs": [],
   "source": [
    "df1['Posting_Age'] = round((ref_date - df1['Posting_Date']).dt.days/365,2)"
   ]
  },
  {
   "cell_type": "code",
   "execution_count": 157,
   "metadata": {
    "id": "uwJ6cS9sf23s"
   },
   "outputs": [],
   "source": [
    "df1['Superhost'] = df1['Host_Type'].map(lambda x: 0 if x==\"Regular\" else 1)"
   ]
  },
  {
   "cell_type": "code",
   "execution_count": 143,
   "metadata": {
    "colab": {
     "base_uri": "https://localhost:8080/",
     "height": 363
    },
    "id": "Wqz364awWncg",
    "outputId": "e305dd80-e566-44f9-97a8-f7f04e32b32d"
   },
   "outputs": [
    {
     "data": {
      "text/html": [
       "<div>\n",
       "<style scoped>\n",
       "    .dataframe tbody tr th:only-of-type {\n",
       "        vertical-align: middle;\n",
       "    }\n",
       "\n",
       "    .dataframe tbody tr th {\n",
       "        vertical-align: top;\n",
       "    }\n",
       "\n",
       "    .dataframe thead th {\n",
       "        text-align: right;\n",
       "    }\n",
       "</style>\n",
       "<table border=\"1\" class=\"dataframe\">\n",
       "  <thead>\n",
       "    <tr style=\"text-align: right;\">\n",
       "      <th></th>\n",
       "      <th>Listing_Id</th>\n",
       "      <th>Posting_Date</th>\n",
       "      <th>Posting_Time</th>\n",
       "      <th>Location</th>\n",
       "      <th>Images</th>\n",
       "      <th>Bookings</th>\n",
       "      <th>Host_Type</th>\n",
       "      <th>Posting_Year</th>\n",
       "      <th>Posting_Month</th>\n",
       "      <th>Posting_Age</th>\n",
       "      <th>Superhost</th>\n",
       "    </tr>\n",
       "  </thead>\n",
       "  <tbody>\n",
       "    <tr>\n",
       "      <th>0</th>\n",
       "      <td>4955430</td>\n",
       "      <td>2019-05-13</td>\n",
       "      <td>20:18:13</td>\n",
       "      <td>San Francisco</td>\n",
       "      <td>31</td>\n",
       "      <td>10</td>\n",
       "      <td>Regular</td>\n",
       "      <td>2019</td>\n",
       "      <td>5</td>\n",
       "      <td>0.30</td>\n",
       "      <td>0</td>\n",
       "    </tr>\n",
       "    <tr>\n",
       "      <th>1</th>\n",
       "      <td>3338094</td>\n",
       "      <td>2016-01-04</td>\n",
       "      <td>5:30:37</td>\n",
       "      <td>Amsterdam</td>\n",
       "      <td>6</td>\n",
       "      <td>48</td>\n",
       "      <td>Regular</td>\n",
       "      <td>2016</td>\n",
       "      <td>1</td>\n",
       "      <td>3.66</td>\n",
       "      <td>0</td>\n",
       "    </tr>\n",
       "    <tr>\n",
       "      <th>2</th>\n",
       "      <td>3132720</td>\n",
       "      <td>2018-12-24</td>\n",
       "      <td>12:26:15</td>\n",
       "      <td>Barcelona</td>\n",
       "      <td>25</td>\n",
       "      <td>10</td>\n",
       "      <td>Regular</td>\n",
       "      <td>2018</td>\n",
       "      <td>12</td>\n",
       "      <td>0.68</td>\n",
       "      <td>0</td>\n",
       "    </tr>\n",
       "    <tr>\n",
       "      <th>3</th>\n",
       "      <td>3196344</td>\n",
       "      <td>2014-10-14</td>\n",
       "      <td>15:09:27</td>\n",
       "      <td>Berlin</td>\n",
       "      <td>10</td>\n",
       "      <td>134</td>\n",
       "      <td>Superhost</td>\n",
       "      <td>2014</td>\n",
       "      <td>10</td>\n",
       "      <td>4.88</td>\n",
       "      <td>1</td>\n",
       "    </tr>\n",
       "    <tr>\n",
       "      <th>4</th>\n",
       "      <td>4588846</td>\n",
       "      <td>2016-07-21</td>\n",
       "      <td>9:26:48</td>\n",
       "      <td>Brussels</td>\n",
       "      <td>4</td>\n",
       "      <td>7</td>\n",
       "      <td>Regular</td>\n",
       "      <td>2016</td>\n",
       "      <td>7</td>\n",
       "      <td>3.11</td>\n",
       "      <td>0</td>\n",
       "    </tr>\n",
       "    <tr>\n",
       "      <th>5</th>\n",
       "      <td>4677052</td>\n",
       "      <td>2016-05-14</td>\n",
       "      <td>6:40:39</td>\n",
       "      <td>Kyoto</td>\n",
       "      <td>3</td>\n",
       "      <td>5</td>\n",
       "      <td>Regular</td>\n",
       "      <td>2016</td>\n",
       "      <td>5</td>\n",
       "      <td>3.30</td>\n",
       "      <td>0</td>\n",
       "    </tr>\n",
       "    <tr>\n",
       "      <th>6</th>\n",
       "      <td>3485608</td>\n",
       "      <td>2016-04-04</td>\n",
       "      <td>10:30:15</td>\n",
       "      <td>Madrid</td>\n",
       "      <td>7</td>\n",
       "      <td>44</td>\n",
       "      <td>Regular</td>\n",
       "      <td>2016</td>\n",
       "      <td>4</td>\n",
       "      <td>3.41</td>\n",
       "      <td>0</td>\n",
       "    </tr>\n",
       "    <tr>\n",
       "      <th>7</th>\n",
       "      <td>4980709</td>\n",
       "      <td>2017-04-03</td>\n",
       "      <td>9:44:58</td>\n",
       "      <td>Tokyo</td>\n",
       "      <td>12</td>\n",
       "      <td>52</td>\n",
       "      <td>Regular</td>\n",
       "      <td>2017</td>\n",
       "      <td>4</td>\n",
       "      <td>2.41</td>\n",
       "      <td>0</td>\n",
       "    </tr>\n",
       "    <tr>\n",
       "      <th>8</th>\n",
       "      <td>4761153</td>\n",
       "      <td>2018-01-14</td>\n",
       "      <td>15:44:54</td>\n",
       "      <td>Los Angeles</td>\n",
       "      <td>28</td>\n",
       "      <td>81</td>\n",
       "      <td>Superhost</td>\n",
       "      <td>2018</td>\n",
       "      <td>1</td>\n",
       "      <td>1.63</td>\n",
       "      <td>1</td>\n",
       "    </tr>\n",
       "    <tr>\n",
       "      <th>9</th>\n",
       "      <td>4991055</td>\n",
       "      <td>2017-08-09</td>\n",
       "      <td>10:26:32</td>\n",
       "      <td>Seattle</td>\n",
       "      <td>14</td>\n",
       "      <td>109</td>\n",
       "      <td>Regular</td>\n",
       "      <td>2017</td>\n",
       "      <td>8</td>\n",
       "      <td>2.06</td>\n",
       "      <td>0</td>\n",
       "    </tr>\n",
       "  </tbody>\n",
       "</table>\n",
       "</div>"
      ],
      "text/plain": [
       "   Listing_Id Posting_Date Posting_Time  ... Posting_Month  Posting_Age  Superhost\n",
       "0     4955430   2019-05-13     20:18:13  ...             5         0.30          0\n",
       "1     3338094   2016-01-04      5:30:37  ...             1         3.66          0\n",
       "2     3132720   2018-12-24     12:26:15  ...            12         0.68          0\n",
       "3     3196344   2014-10-14     15:09:27  ...            10         4.88          1\n",
       "4     4588846   2016-07-21      9:26:48  ...             7         3.11          0\n",
       "5     4677052   2016-05-14      6:40:39  ...             5         3.30          0\n",
       "6     3485608   2016-04-04     10:30:15  ...             4         3.41          0\n",
       "7     4980709   2017-04-03      9:44:58  ...             4         2.41          0\n",
       "8     4761153   2018-01-14     15:44:54  ...             1         1.63          1\n",
       "9     4991055   2017-08-09     10:26:32  ...             8         2.06          0\n",
       "\n",
       "[10 rows x 11 columns]"
      ]
     },
     "execution_count": 143,
     "metadata": {
      "tags": []
     },
     "output_type": "execute_result"
    }
   ],
   "source": [
    "df1.head(10)"
   ]
  },
  {
   "cell_type": "code",
   "execution_count": 158,
   "metadata": {
    "id": "y3GWkJDiY5eN"
   },
   "outputs": [],
   "source": [
    "df1x = df1[['Images','Superhost','Posting_Age','Bookings']]"
   ]
  },
  {
   "cell_type": "code",
   "execution_count": 146,
   "metadata": {
    "colab": {
     "base_uri": "https://localhost:8080/",
     "height": 460
    },
    "id": "Rx6LrOVoBTTo",
    "outputId": "0497ffde-d8a0-409a-e730-51518363006b"
   },
   "outputs": [
    {
     "data": {
      "text/plain": [
       "<seaborn.axisgrid.JointGrid at 0x7f2ff71d4828>"
      ]
     },
     "execution_count": 146,
     "metadata": {
      "tags": []
     },
     "output_type": "execute_result"
    },
    {
     "data": {
      "image/png": "[encoded data removed]",
      "text/plain": [
       "<Figure size 432x432 with 3 Axes>"
      ]
     },
     "metadata": {
      "needs_background": "light",
      "tags": []
     },
     "output_type": "display_data"
    }
   ],
   "source": [
    "sns.jointplot(x=\"Posting_Age\",y=\"Bookings\",data=df1x)"
   ]
  },
  {
   "cell_type": "code",
   "execution_count": 148,
   "metadata": {
    "colab": {
     "base_uri": "https://localhost:8080/"
    },
    "id": "6ZHBnra9BmNb",
    "outputId": "b39948c5-fa5b-4029-a9d9-d6e5f3a8f483"
   },
   "outputs": [
    {
     "data": {
      "text/plain": [
       "(0.5107301982934805, 5.3252126292700915e-31)"
      ]
     },
     "execution_count": 148,
     "metadata": {
      "tags": []
     },
     "output_type": "execute_result"
    }
   ],
   "source": [
    "stats.pearsonr(df1x[df1x['Superhost']==0]['Posting_Age'],df1x[df1x['Superhost']==0]['Bookings'])"
   ]
  },
  {
   "cell_type": "code",
   "execution_count": 159,
   "metadata": {
    "colab": {
     "base_uri": "https://localhost:8080/"
    },
    "id": "1yWf_WW7laWs",
    "outputId": "66cd1066-6cd9-440e-960d-b9fd8b98a2f8"
   },
   "outputs": [
    {
     "name": "stderr",
     "output_type": "stream",
     "text": [
      "/usr/local/lib/python3.6/dist-packages/ipykernel_launcher.py:1: SettingWithCopyWarning: \n",
      "A value is trying to be set on a copy of a slice from a DataFrame.\n",
      "Try using .loc[row_indexer,col_indexer] = value instead\n",
      "\n",
      "See the caveats in the documentation: https://pandas.pydata.org/pandas-docs/stable/user_guide/indexing.html#returning-a-view-versus-a-copy\n",
      "  \"\"\"Entry point for launching an IPython kernel.\n"
     ]
    }
   ],
   "source": [
    "df1x['Bookingsrate'] = df1x['Bookings']/df1x['Posting_Age']"
   ]
  },
  {
   "cell_type": "code",
   "execution_count": 18,
   "metadata": {
    "colab": {
     "base_uri": "https://localhost:8080/",
     "height": 206
    },
    "id": "TWO3bV0TeVjn",
    "outputId": "f211670c-1094-4438-eab8-7f175e498f3f"
   },
   "outputs": [
    {
     "data": {
      "text/html": [
       "<div>\n",
       "<style scoped>\n",
       "    .dataframe tbody tr th:only-of-type {\n",
       "        vertical-align: middle;\n",
       "    }\n",
       "\n",
       "    .dataframe tbody tr th {\n",
       "        vertical-align: top;\n",
       "    }\n",
       "\n",
       "    .dataframe thead th {\n",
       "        text-align: right;\n",
       "    }\n",
       "</style>\n",
       "<table border=\"1\" class=\"dataframe\">\n",
       "  <thead>\n",
       "    <tr style=\"text-align: right;\">\n",
       "      <th></th>\n",
       "      <th>Images</th>\n",
       "      <th>Superhost</th>\n",
       "      <th>Posting_Age</th>\n",
       "      <th>Bookings</th>\n",
       "      <th>Bookingsrate</th>\n",
       "    </tr>\n",
       "  </thead>\n",
       "  <tbody>\n",
       "    <tr>\n",
       "      <th>0</th>\n",
       "      <td>31</td>\n",
       "      <td>0</td>\n",
       "      <td>0.30</td>\n",
       "      <td>10</td>\n",
       "      <td>33.333333</td>\n",
       "    </tr>\n",
       "    <tr>\n",
       "      <th>1</th>\n",
       "      <td>6</td>\n",
       "      <td>0</td>\n",
       "      <td>3.66</td>\n",
       "      <td>48</td>\n",
       "      <td>13.114754</td>\n",
       "    </tr>\n",
       "    <tr>\n",
       "      <th>2</th>\n",
       "      <td>25</td>\n",
       "      <td>0</td>\n",
       "      <td>0.68</td>\n",
       "      <td>10</td>\n",
       "      <td>14.705882</td>\n",
       "    </tr>\n",
       "    <tr>\n",
       "      <th>3</th>\n",
       "      <td>10</td>\n",
       "      <td>1</td>\n",
       "      <td>4.88</td>\n",
       "      <td>134</td>\n",
       "      <td>27.459016</td>\n",
       "    </tr>\n",
       "    <tr>\n",
       "      <th>4</th>\n",
       "      <td>4</td>\n",
       "      <td>0</td>\n",
       "      <td>3.11</td>\n",
       "      <td>7</td>\n",
       "      <td>2.250804</td>\n",
       "    </tr>\n",
       "  </tbody>\n",
       "</table>\n",
       "</div>"
      ],
      "text/plain": [
       "   Images  Superhost  Posting_Age  Bookings  Bookingsrate\n",
       "0      31          0         0.30        10     33.333333\n",
       "1       6          0         3.66        48     13.114754\n",
       "2      25          0         0.68        10     14.705882\n",
       "3      10          1         4.88       134     27.459016\n",
       "4       4          0         3.11         7      2.250804"
      ]
     },
     "execution_count": 18,
     "metadata": {
      "tags": []
     },
     "output_type": "execute_result"
    }
   ],
   "source": [
    "df1x.head()"
   ]
  },
  {
   "cell_type": "code",
   "execution_count": 74,
   "metadata": {
    "colab": {
     "base_uri": "https://localhost:8080/",
     "height": 302
    },
    "id": "dR4vjATRnYfR",
    "outputId": "7cb4c3c1-dc7e-4b4b-ad67-ef9a2aec71fb"
   },
   "outputs": [
    {
     "data": {
      "text/plain": [
       "<matplotlib.axes._subplots.AxesSubplot at 0x7f904403bbe0>"
      ]
     },
     "execution_count": 74,
     "metadata": {
      "tags": []
     },
     "output_type": "execute_result"
    },
    {
     "data": {
      "image/png": "[encoded data removed]",
      "text/plain": [
       "<Figure size 432x288 with 1 Axes>"
      ]
     },
     "metadata": {
      "needs_background": "light",
      "tags": []
     },
     "output_type": "display_data"
    }
   ],
   "source": [
    "sns.boxplot(x=df1x['Bookingsrate'])"
   ]
  },
  {
   "cell_type": "markdown",
   "metadata": {
    "id": "_8RD6k-kqZZH"
   },
   "source": [
    "Bookingsrate >=100 are outliers. Total 6 rows dropped from analysis."
   ]
  },
  {
   "cell_type": "code",
   "execution_count": 160,
   "metadata": {
    "id": "nC1uRenoqUQy"
   },
   "outputs": [],
   "source": [
    "df1z = df1x.drop(df1x[df1x['Bookingsrate']>=100].index)"
   ]
  },
  {
   "cell_type": "code",
   "execution_count": 161,
   "metadata": {
    "colab": {
     "base_uri": "https://localhost:8080/",
     "height": 363
    },
    "id": "ar-8ZQ5xovXd",
    "outputId": "8423bf27-f005-48b5-ea69-4359597253fc"
   },
   "outputs": [
    {
     "data": {
      "text/html": [
       "<div>\n",
       "<style scoped>\n",
       "    .dataframe tbody tr th:only-of-type {\n",
       "        vertical-align: middle;\n",
       "    }\n",
       "\n",
       "    .dataframe tbody tr th {\n",
       "        vertical-align: top;\n",
       "    }\n",
       "\n",
       "    .dataframe thead th {\n",
       "        text-align: right;\n",
       "    }\n",
       "</style>\n",
       "<table border=\"1\" class=\"dataframe\">\n",
       "  <thead>\n",
       "    <tr style=\"text-align: right;\">\n",
       "      <th></th>\n",
       "      <th>Images</th>\n",
       "      <th>Superhost</th>\n",
       "      <th>Posting_Age</th>\n",
       "      <th>Bookings</th>\n",
       "      <th>Bookingsrate</th>\n",
       "    </tr>\n",
       "  </thead>\n",
       "  <tbody>\n",
       "    <tr>\n",
       "      <th>399</th>\n",
       "      <td>23</td>\n",
       "      <td>0</td>\n",
       "      <td>0.85</td>\n",
       "      <td>73</td>\n",
       "      <td>85.882353</td>\n",
       "    </tr>\n",
       "    <tr>\n",
       "      <th>333</th>\n",
       "      <td>11</td>\n",
       "      <td>1</td>\n",
       "      <td>3.75</td>\n",
       "      <td>312</td>\n",
       "      <td>83.200000</td>\n",
       "    </tr>\n",
       "    <tr>\n",
       "      <th>325</th>\n",
       "      <td>21</td>\n",
       "      <td>0</td>\n",
       "      <td>0.09</td>\n",
       "      <td>7</td>\n",
       "      <td>77.777778</td>\n",
       "    </tr>\n",
       "    <tr>\n",
       "      <th>144</th>\n",
       "      <td>22</td>\n",
       "      <td>0</td>\n",
       "      <td>0.19</td>\n",
       "      <td>14</td>\n",
       "      <td>73.684211</td>\n",
       "    </tr>\n",
       "    <tr>\n",
       "      <th>425</th>\n",
       "      <td>22</td>\n",
       "      <td>0</td>\n",
       "      <td>0.11</td>\n",
       "      <td>8</td>\n",
       "      <td>72.727273</td>\n",
       "    </tr>\n",
       "    <tr>\n",
       "      <th>463</th>\n",
       "      <td>19</td>\n",
       "      <td>1</td>\n",
       "      <td>1.71</td>\n",
       "      <td>121</td>\n",
       "      <td>70.760234</td>\n",
       "    </tr>\n",
       "    <tr>\n",
       "      <th>497</th>\n",
       "      <td>15</td>\n",
       "      <td>1</td>\n",
       "      <td>2.10</td>\n",
       "      <td>145</td>\n",
       "      <td>69.047619</td>\n",
       "    </tr>\n",
       "    <tr>\n",
       "      <th>197</th>\n",
       "      <td>25</td>\n",
       "      <td>0</td>\n",
       "      <td>0.61</td>\n",
       "      <td>41</td>\n",
       "      <td>67.213115</td>\n",
       "    </tr>\n",
       "    <tr>\n",
       "      <th>53</th>\n",
       "      <td>26</td>\n",
       "      <td>0</td>\n",
       "      <td>0.15</td>\n",
       "      <td>10</td>\n",
       "      <td>66.666667</td>\n",
       "    </tr>\n",
       "    <tr>\n",
       "      <th>86</th>\n",
       "      <td>21</td>\n",
       "      <td>0</td>\n",
       "      <td>0.18</td>\n",
       "      <td>12</td>\n",
       "      <td>66.666667</td>\n",
       "    </tr>\n",
       "  </tbody>\n",
       "</table>\n",
       "</div>"
      ],
      "text/plain": [
       "     Images  Superhost  Posting_Age  Bookings  Bookingsrate\n",
       "399      23          0         0.85        73     85.882353\n",
       "333      11          1         3.75       312     83.200000\n",
       "325      21          0         0.09         7     77.777778\n",
       "144      22          0         0.19        14     73.684211\n",
       "425      22          0         0.11         8     72.727273\n",
       "463      19          1         1.71       121     70.760234\n",
       "497      15          1         2.10       145     69.047619\n",
       "197      25          0         0.61        41     67.213115\n",
       "53       26          0         0.15        10     66.666667\n",
       "86       21          0         0.18        12     66.666667"
      ]
     },
     "execution_count": 161,
     "metadata": {
      "tags": []
     },
     "output_type": "execute_result"
    }
   ],
   "source": [
    "df1z.sort_values('Bookingsrate',axis=0,ascending=False,inplace=False).head(10)"
   ]
  },
  {
   "cell_type": "code",
   "execution_count": 79,
   "metadata": {
    "colab": {
     "base_uri": "https://localhost:8080/",
     "height": 359
    },
    "id": "Z4ii-rKxhneQ",
    "outputId": "51f99458-6c64-4ff9-ffc5-10b372d69212"
   },
   "outputs": [
    {
     "name": "stderr",
     "output_type": "stream",
     "text": [
      "/usr/local/lib/python3.6/dist-packages/seaborn/categorical.py:1296: UserWarning: 41.6% of the points cannot be placed; you may want to decrease the size of the markers or use stripplot.\n",
      "  warnings.warn(msg, UserWarning)\n"
     ]
    },
    {
     "data": {
      "text/plain": [
       "<matplotlib.axes._subplots.AxesSubplot at 0x7f9043fbdf98>"
      ]
     },
     "execution_count": 79,
     "metadata": {
      "tags": []
     },
     "output_type": "execute_result"
    },
    {
     "data": {
      "image/png": "[encoded data removed]",
      "text/plain": [
       "<Figure size 432x288 with 1 Axes>"
      ]
     },
     "metadata": {
      "needs_background": "light",
      "tags": []
     },
     "output_type": "display_data"
    }
   ],
   "source": [
    "sns.swarmplot(x=\"Superhost\",y=\"Bookings\",data=df1z)"
   ]
  },
  {
   "cell_type": "code",
   "execution_count": 205,
   "metadata": {
    "colab": {
     "base_uri": "https://localhost:8080/",
     "height": 302
    },
    "id": "7kXGKWcjsHh8",
    "outputId": "e304b051-9dac-454f-bd86-8b9ec39fca61"
   },
   "outputs": [
    {
     "data": {
      "text/plain": [
       "<matplotlib.axes._subplots.AxesSubplot at 0x7f903ae85978>"
      ]
     },
     "execution_count": 205,
     "metadata": {
      "tags": []
     },
     "output_type": "execute_result"
    },
    {
     "data": {
      "image/png": "[encoded data removed]",
      "text/plain": [
       "<Figure size 432x288 with 1 Axes>"
      ]
     },
     "metadata": {
      "needs_background": "light",
      "tags": []
     },
     "output_type": "display_data"
    }
   ],
   "source": [
    "sns.swarmplot(x=\"Superhost\",y=\"Images\",data=df1z)"
   ]
  },
  {
   "cell_type": "code",
   "execution_count": 80,
   "metadata": {
    "colab": {
     "base_uri": "https://localhost:8080/",
     "height": 460
    },
    "id": "XsIn6tYakM8P",
    "outputId": "04bfec29-c3b0-4034-bd3a-17ce5f2d3451"
   },
   "outputs": [
    {
     "data": {
      "text/plain": [
       "<seaborn.axisgrid.JointGrid at 0x7f90443c7208>"
      ]
     },
     "execution_count": 80,
     "metadata": {
      "tags": []
     },
     "output_type": "execute_result"
    },
    {
     "data": {
      "image/png": "[encoded data removed]",
      "text/plain": [
       "<Figure size 432x432 with 3 Axes>"
      ]
     },
     "metadata": {
      "needs_background": "light",
      "tags": []
     },
     "output_type": "display_data"
    }
   ],
   "source": [
    "sns.jointplot(x=\"Posting_Age\",y=\"Bookings\",data=df1z)"
   ]
  },
  {
   "cell_type": "code",
   "execution_count": 227,
   "metadata": {
    "colab": {
     "base_uri": "https://localhost:8080/",
     "height": 460
    },
    "id": "zcZp5-UIkqaw",
    "outputId": "5b4b1f82-2dcc-4f47-ea48-634519d3e63d"
   },
   "outputs": [
    {
     "data": {
      "text/plain": [
       "<seaborn.axisgrid.JointGrid at 0x7f903a0e98d0>"
      ]
     },
     "execution_count": 227,
     "metadata": {
      "tags": []
     },
     "output_type": "execute_result"
    },
    {
     "data": {
      "image/png": "[encoded data removed]",
      "text/plain": [
       "<Figure size 432x432 with 3 Axes>"
      ]
     },
     "metadata": {
      "needs_background": "light",
      "tags": []
     },
     "output_type": "display_data"
    }
   ],
   "source": [
    "sns.jointplot(x=\"Images\",y=\"Bookings\",data=df1z[df1z['Superhost']==0])"
   ]
  },
  {
   "cell_type": "code",
   "execution_count": 230,
   "metadata": {
    "colab": {
     "base_uri": "https://localhost:8080/"
    },
    "id": "ZmpoTgdHEoNp",
    "outputId": "b116f259-0fdf-4661-b319-64a22e38936e"
   },
   "outputs": [
    {
     "data": {
      "text/plain": [
       "(0.8792906403541565, 4.8559377298032535e-18)"
      ]
     },
     "execution_count": 230,
     "metadata": {
      "tags": []
     },
     "output_type": "execute_result"
    }
   ],
   "source": [
    "stats.shapiro(df1z[df1z['Superhost']==0]['Bookings'])"
   ]
  },
  {
   "cell_type": "code",
   "execution_count": 84,
   "metadata": {
    "colab": {
     "base_uri": "https://localhost:8080/",
     "height": 460
    },
    "id": "8Tz38gIIlAhu",
    "outputId": "7dbce014-b611-4f10-f594-5aeb1f7bbbe2"
   },
   "outputs": [
    {
     "data": {
      "text/plain": [
       "<seaborn.axisgrid.JointGrid at 0x7f9043ded2b0>"
      ]
     },
     "execution_count": 84,
     "metadata": {
      "tags": []
     },
     "output_type": "execute_result"
    },
    {
     "data": {
      "image/png": "[encoded data removed]",
      "text/plain": [
       "<Figure size 432x432 with 3 Axes>"
      ]
     },
     "metadata": {
      "needs_background": "light",
      "tags": []
     },
     "output_type": "display_data"
    }
   ],
   "source": [
    "sns.jointplot(x=\"Images\",y=\"Bookingsrate\",data=df1z)"
   ]
  },
  {
   "cell_type": "code",
   "execution_count": 207,
   "metadata": {
    "colab": {
     "base_uri": "https://localhost:8080/",
     "height": 460
    },
    "id": "D5ghwBVtslnZ",
    "outputId": "2490dfc5-168f-4aa8-a434-0da4fc4c2e57"
   },
   "outputs": [
    {
     "data": {
      "text/plain": [
       "<seaborn.axisgrid.JointGrid at 0x7f903ffed668>"
      ]
     },
     "execution_count": 207,
     "metadata": {
      "tags": []
     },
     "output_type": "execute_result"
    },
    {
     "data": {
      "image/png": "[encoded data removed]",
      "text/plain": [
       "<Figure size 432x432 with 3 Axes>"
      ]
     },
     "metadata": {
      "needs_background": "light",
      "tags": []
     },
     "output_type": "display_data"
    }
   ],
   "source": [
    "sns.jointplot(x=\"Images\",y=\"Bookingsrate\",data=df1z[df1z['Superhost']==0])"
   ]
  },
  {
   "cell_type": "code",
   "execution_count": 232,
   "metadata": {
    "colab": {
     "base_uri": "https://localhost:8080/"
    },
    "id": "Op4VLDyoE9OF",
    "outputId": "2d98b225-6868-44a7-d0d3-3b06b47825de"
   },
   "outputs": [
    {
     "data": {
      "text/plain": [
       "(0.9015510082244873, 2.980104636319576e-16)"
      ]
     },
     "execution_count": 232,
     "metadata": {
      "tags": []
     },
     "output_type": "execute_result"
    }
   ],
   "source": [
    "stats.shapiro(df1z[df1z['Superhost']==0]['Bookingsrate'])"
   ]
  },
  {
   "cell_type": "code",
   "execution_count": 208,
   "metadata": {
    "colab": {
     "base_uri": "https://localhost:8080/",
     "height": 460
    },
    "id": "lE9UNXqcs5tN",
    "outputId": "9cb0266a-57f6-4515-fe11-20cdf52c4da2"
   },
   "outputs": [
    {
     "data": {
      "text/plain": [
       "<seaborn.axisgrid.JointGrid at 0x7f903a5c9f60>"
      ]
     },
     "execution_count": 208,
     "metadata": {
      "tags": []
     },
     "output_type": "execute_result"
    },
    {
     "data": {
      "image/png": "[encoded data removed]",
      "text/plain": [
       "<Figure size 432x432 with 3 Axes>"
      ]
     },
     "metadata": {
      "needs_background": "light",
      "tags": []
     },
     "output_type": "display_data"
    }
   ],
   "source": [
    "sns.jointplot(x=\"Images\",y=\"Bookingsrate\",data=df1z[df1z['Superhost']==1])"
   ]
  },
  {
   "cell_type": "code",
   "execution_count": 212,
   "metadata": {
    "colab": {
     "base_uri": "https://localhost:8080/"
    },
    "id": "Y259M35j1Xrv",
    "outputId": "b9535479-65f8-4c6f-cb5c-aaba64d51bce"
   },
   "outputs": [
    {
     "data": {
      "text/plain": [
       "(0.5030562743502193, 1.3345333841524666e-29)"
      ]
     },
     "execution_count": 212,
     "metadata": {
      "tags": []
     },
     "output_type": "execute_result"
    }
   ],
   "source": [
    "stats.pearsonr(df1z[df1z['Superhost']==0]['Images'],df1z[df1z['Superhost']==0]['Bookingsrate'])"
   ]
  },
  {
   "cell_type": "code",
   "execution_count": 210,
   "metadata": {
    "colab": {
     "base_uri": "https://localhost:8080/"
    },
    "id": "vZHvnu1Guz-w",
    "outputId": "6f43dc52-750e-49f5-ca68-cdcdba0546eb"
   },
   "outputs": [
    {
     "data": {
      "text/plain": [
       "(0.012891768060069144, 0.9270005302278053)"
      ]
     },
     "execution_count": 210,
     "metadata": {
      "tags": []
     },
     "output_type": "execute_result"
    }
   ],
   "source": [
    "stats.pearsonr(df1z[df1z['Superhost']==1]['Images'],df1z[df1z['Superhost']==1]['Bookingsrate'])"
   ]
  },
  {
   "cell_type": "markdown",
   "metadata": {
    "id": "B1D0ADWmzxTP"
   },
   "source": [
    "Above Pearson Correlation coefficient is insignificant (p-value 0.92). Hence, no correlation between Superhost & BookingsRate."
   ]
  },
  {
   "cell_type": "code",
   "execution_count": 162,
   "metadata": {
    "id": "HxErnxWG3p42"
   },
   "outputs": [],
   "source": [
    "df1regu = df1z[df1z['Superhost']==0]\n",
    "df1regu = df1regu.drop(['Superhost'],axis=1).reset_index(drop=True)"
   ]
  },
  {
   "cell_type": "code",
   "execution_count": 160,
   "metadata": {
    "id": "5gj9Fb5FzEYJ"
   },
   "outputs": [],
   "source": [
    "model1 = LinearRegression()"
   ]
  },
  {
   "cell_type": "code",
   "execution_count": 218,
   "metadata": {
    "colab": {
     "base_uri": "https://localhost:8080/"
    },
    "id": "bYoEyTiVzQNS",
    "outputId": "c350cf07-eb0a-4af9-f5bb-2c9b9d5befc5"
   },
   "outputs": [
    {
     "data": {
      "text/plain": [
       "LinearRegression(copy_X=True, fit_intercept=True, n_jobs=None, normalize=False)"
      ]
     },
     "execution_count": 218,
     "metadata": {
      "tags": []
     },
     "output_type": "execute_result"
    }
   ],
   "source": [
    "model1.fit(df1regu[['Images']].to_numpy(),df1regu[['Bookingsrate']].to_numpy())"
   ]
  },
  {
   "cell_type": "code",
   "execution_count": 219,
   "metadata": {
    "colab": {
     "base_uri": "https://localhost:8080/"
    },
    "id": "3AvBEeEfzclk",
    "outputId": "73f36369-251b-419a-a951-84c33abf008d"
   },
   "outputs": [
    {
     "data": {
      "text/plain": [
       "array([[0.81800149]])"
      ]
     },
     "execution_count": 219,
     "metadata": {
      "tags": []
     },
     "output_type": "execute_result"
    }
   ],
   "source": [
    "model1.coef_"
   ]
  },
  {
   "cell_type": "code",
   "execution_count": 220,
   "metadata": {
    "colab": {
     "base_uri": "https://localhost:8080/"
    },
    "id": "BUcf3tVH0vj-",
    "outputId": "bc6bee4c-daae-49c9-9d64-54ad798fd967"
   },
   "outputs": [
    {
     "data": {
      "text/plain": [
       "0.2530656151631232"
      ]
     },
     "execution_count": 220,
     "metadata": {
      "tags": []
     },
     "output_type": "execute_result"
    }
   ],
   "source": [
    "model1.score(df1regu[['Images']].to_numpy(),df1regu[['Bookingsrate']].to_numpy())"
   ]
  },
  {
   "cell_type": "code",
   "execution_count": 163,
   "metadata": {
    "colab": {
     "base_uri": "https://localhost:8080/"
    },
    "id": "1XnBg-yf02Bj",
    "outputId": "e6d0244c-cf2a-4f14-9ea6-8644ebf4a6c4"
   },
   "outputs": [
    {
     "name": "stderr",
     "output_type": "stream",
     "text": [
      "/usr/local/lib/python3.6/dist-packages/pandas/core/series.py:726: RuntimeWarning: divide by zero encountered in log2\n",
      "  result = getattr(ufunc, method)(*inputs, **kwargs)\n"
     ]
    }
   ],
   "source": [
    "df1regu['Lograte'] = np.log2(df1regu['Bookingsrate'])\n",
    "df1regu['Lograte'] = df1regu['Lograte'].map(lambda x: 0 if (x<0) else x)\n",
    "#df1regu['Lograte'] = df1regu['Lograte'].map(lambda x: -(1/x) if (x<=-1) else x)"
   ]
  },
  {
   "cell_type": "code",
   "execution_count": 229,
   "metadata": {
    "colab": {
     "base_uri": "https://localhost:8080/",
     "height": 460
    },
    "id": "vycQru254tx6",
    "outputId": "4b6cd9a8-857a-4600-d24c-a962106b74b3"
   },
   "outputs": [
    {
     "data": {
      "text/plain": [
       "<seaborn.axisgrid.JointGrid at 0x7f9039e99898>"
      ]
     },
     "execution_count": 229,
     "metadata": {
      "tags": []
     },
     "output_type": "execute_result"
    },
    {
     "data": {
      "image/png": "[encoded data removed]",
      "text/plain": [
       "<Figure size 432x432 with 3 Axes>"
      ]
     },
     "metadata": {
      "needs_background": "light",
      "tags": []
     },
     "output_type": "display_data"
    }
   ],
   "source": [
    "sns.jointplot(x=\"Images\",y=\"Lograte\",data=df1regu)"
   ]
  },
  {
   "cell_type": "code",
   "execution_count": 233,
   "metadata": {
    "colab": {
     "base_uri": "https://localhost:8080/"
    },
    "id": "6yBN7ghrFiNV",
    "outputId": "43f04c91-9679-46b7-abb6-d7bfcc99cb30"
   },
   "outputs": [
    {
     "data": {
      "text/plain": [
       "(0.8612871170043945, 2.5618137707467016e-19)"
      ]
     },
     "execution_count": 233,
     "metadata": {
      "tags": []
     },
     "output_type": "execute_result"
    }
   ],
   "source": [
    "stats.shapiro(df1regu['Lograte'])"
   ]
  },
  {
   "cell_type": "code",
   "execution_count": 164,
   "metadata": {
    "id": "COkKf8hJ5QME"
   },
   "outputs": [],
   "source": [
    "df1grp = df1regu.groupby(['Images'],sort=True)['Bookingsrate'].mean().reset_index(drop=True)"
   ]
  },
  {
   "cell_type": "code",
   "execution_count": 165,
   "metadata": {
    "colab": {
     "base_uri": "https://localhost:8080/"
    },
    "id": "REje07aOqlKT",
    "outputId": "ba1f5371-6221-4110-ead4-eb46cdb301b3"
   },
   "outputs": [
    {
     "data": {
      "text/plain": [
       "0    0.000000\n",
       "1    0.018939\n",
       "2    0.873979\n",
       "3    2.002965\n",
       "4    3.359659\n",
       "Name: Bookingsrate, dtype: float64"
      ]
     },
     "execution_count": 165,
     "metadata": {
      "tags": []
     },
     "output_type": "execute_result"
    }
   ],
   "source": [
    "df1grp.head()"
   ]
  },
  {
   "cell_type": "code",
   "execution_count": 226,
   "metadata": {
    "colab": {
     "base_uri": "https://localhost:8080/",
     "height": 302
    },
    "id": "p9FyYTG16TzN",
    "outputId": "e05607e0-45ab-4148-863a-0f692d8e4337"
   },
   "outputs": [
    {
     "data": {
      "text/plain": [
       "<matplotlib.axes._subplots.AxesSubplot at 0x7f903a4017f0>"
      ]
     },
     "execution_count": 226,
     "metadata": {
      "tags": []
     },
     "output_type": "execute_result"
    },
    {
     "data": {
      "image/png": "[encoded data removed]",
      "text/plain": [
       "<Figure size 432x288 with 1 Axes>"
      ]
     },
     "metadata": {
      "needs_background": "light",
      "tags": []
     },
     "output_type": "display_data"
    }
   ],
   "source": [
    "sns.barplot(x=\"Images\",y=\"Bookingsrate\",data=df1grp)"
   ]
  },
  {
   "cell_type": "code",
   "execution_count": 238,
   "metadata": {
    "colab": {
     "base_uri": "https://localhost:8080/",
     "height": 302
    },
    "id": "sAjLIqOSohhV",
    "outputId": "bd8726d3-c0ee-416e-b48a-34c471c9307d"
   },
   "outputs": [
    {
     "data": {
      "text/plain": [
       "<matplotlib.axes._subplots.AxesSubplot at 0x7f903995cc50>"
      ]
     },
     "execution_count": 238,
     "metadata": {
      "tags": []
     },
     "output_type": "execute_result"
    },
    {
     "data": {
      "image/png": "[encoded data removed]",
      "text/plain": [
       "<Figure size 432x288 with 1 Axes>"
      ]
     },
     "metadata": {
      "needs_background": "light",
      "tags": []
     },
     "output_type": "display_data"
    }
   ],
   "source": [
    "sns.scatterplot(x=\"Images\",y=\"Bookingsrate\",data=df1grp)"
   ]
  },
  {
   "cell_type": "code",
   "execution_count": 239,
   "metadata": {
    "id": "ORVwQ4jo_hkM"
   },
   "outputs": [],
   "source": [
    "model2 = pyearth.Earth(max_degree=3,max_terms=10)"
   ]
  },
  {
   "cell_type": "code",
   "execution_count": 241,
   "metadata": {
    "colab": {
     "base_uri": "https://localhost:8080/"
    },
    "id": "_-ksUw_IDHbh",
    "outputId": "84f54c10-4f37-47b2-92c9-15f0c0aea1a5"
   },
   "outputs": [
    {
     "name": "stderr",
     "output_type": "stream",
     "text": [
      "/usr/local/lib/python3.6/dist-packages/pyearth/earth.py:802: FutureWarning: `rcond` parameter will change to the default of machine precision times ``max(M, N)`` where M and N are the input matrix dimensions.\n",
      "To use the future default and silence this warning we advise to pass `rcond=None`, to keep using the old, explicitly pass `rcond=-1`.\n",
      "  pruning_passer.run()\n",
      "/usr/local/lib/python3.6/dist-packages/pyearth/earth.py:1055: FutureWarning: `rcond` parameter will change to the default of machine precision times ``max(M, N)`` where M and N are the input matrix dimensions.\n",
      "To use the future default and silence this warning we advise to pass `rcond=None`, to keep using the old, explicitly pass `rcond=-1`.\n",
      "  coef, resid = np.linalg.lstsq(B, weighted_y[:, i])[0:2]\n"
     ]
    },
    {
     "data": {
      "text/plain": [
       "Earth(allow_linear=None, allow_missing=False, check_every=None,\n",
       "      enable_pruning=True, endspan=None, endspan_alpha=None, fast_K=None,\n",
       "      fast_h=None, feature_importance_type=None, max_degree=3, max_terms=10,\n",
       "      min_search_points=None, minspan=None, minspan_alpha=None, penalty=None,\n",
       "      smooth=None, thresh=None, use_fast=None, verbose=0, zero_tol=None)"
      ]
     },
     "execution_count": 241,
     "metadata": {
      "tags": []
     },
     "output_type": "execute_result"
    }
   ],
   "source": [
    "model2.fit(df1regu[['Images']].to_numpy(),df1regu[['Lograte']].to_numpy())"
   ]
  },
  {
   "cell_type": "code",
   "execution_count": 242,
   "metadata": {
    "colab": {
     "base_uri": "https://localhost:8080/",
     "height": 92
    },
    "id": "FDDk8cwZDnDA",
    "outputId": "17214a9d-48fe-4d79-b2ef-a22c2c959121"
   },
   "outputs": [
    {
     "data": {
      "application/vnd.google.colaboratory.intrinsic+json": {
       "type": "string"
      },
      "text/plain": [
       "'Earth Model\\n-------------------------------------\\nBasis Function  Pruned  Coefficient  \\n-------------------------------------\\n(Intercept)     No      -0.69103     \\nx0              No      0.814204     \\nx0*x0           No      -0.0391386   \\nx0*x0*x0        No      0.000588678  \\nh(x0-0)*x0*x0   Yes     None         \\nh(0-x0)*x0*x0   Yes     None         \\nh(x0-0)*x0      Yes     None         \\nh(0-x0)*x0      Yes     None         \\n-------------------------------------\\nMSE: 0.6982, GCV: 0.7260, RSQ: 0.7838, GRSQ: 0.7762'"
      ]
     },
     "execution_count": 242,
     "metadata": {
      "tags": []
     },
     "output_type": "execute_result"
    }
   ],
   "source": [
    "model2.summary()"
   ]
  },
  {
   "cell_type": "code",
   "execution_count": 162,
   "metadata": {
    "id": "_kddPyo6OfHA"
   },
   "outputs": [],
   "source": [
    "model3 = pyearth.Earth(max_degree=2,max_terms=3)"
   ]
  },
  {
   "cell_type": "code",
   "execution_count": 163,
   "metadata": {
    "id": "4cJvxZWdJKlN"
   },
   "outputs": [],
   "source": [
    "cv = RepeatedKFold(n_splits=3, n_repeats=3, random_state=1)\n",
    "n_scores = cross_val_score(model3,df1z[['Images','Superhost']].to_numpy(),df1z[['Lograte']].to_numpy(),\n",
    "                           scoring='neg_mean_absolute_error', cv=cv, n_jobs=-1)"
   ]
  },
  {
   "cell_type": "code",
   "execution_count": 168,
   "metadata": {
    "colab": {
     "base_uri": "https://localhost:8080/"
    },
    "id": "bW67SxigOo_F",
    "outputId": "b4908579-3aae-46e6-d294-210a927a5f34"
   },
   "outputs": [
    {
     "name": "stderr",
     "output_type": "stream",
     "text": [
      "/usr/local/lib/python3.6/dist-packages/pyearth/earth.py:802: FutureWarning: `rcond` parameter will change to the default of machine precision times ``max(M, N)`` where M and N are the input matrix dimensions.\n",
      "To use the future default and silence this warning we advise to pass `rcond=None`, to keep using the old, explicitly pass `rcond=-1`.\n",
      "  pruning_passer.run()\n",
      "/usr/local/lib/python3.6/dist-packages/pyearth/earth.py:1055: FutureWarning: `rcond` parameter will change to the default of machine precision times ``max(M, N)`` where M and N are the input matrix dimensions.\n",
      "To use the future default and silence this warning we advise to pass `rcond=None`, to keep using the old, explicitly pass `rcond=-1`.\n",
      "  coef, resid = np.linalg.lstsq(B, weighted_y[:, i])[0:2]\n"
     ]
    },
    {
     "data": {
      "text/plain": [
       "Earth(allow_linear=None, allow_missing=False, check_every=None,\n",
       "      enable_pruning=True, endspan=None, endspan_alpha=None, fast_K=None,\n",
       "      fast_h=None, feature_importance_type=None, max_degree=2, max_terms=3,\n",
       "      min_search_points=None, minspan=None, minspan_alpha=None, penalty=None,\n",
       "      smooth=None, thresh=None, use_fast=None, verbose=0, zero_tol=None)"
      ]
     },
     "execution_count": 168,
     "metadata": {
      "tags": []
     },
     "output_type": "execute_result"
    }
   ],
   "source": [
    "model3.fit(df1z[['Images','Superhost']].to_numpy(),df1z[['Lograte']].to_numpy())"
   ]
  },
  {
   "cell_type": "code",
   "execution_count": 173,
   "metadata": {
    "colab": {
     "base_uri": "https://localhost:8080/"
    },
    "id": "B1AelTsSPS0d",
    "outputId": "39c4a9cc-8341-4555-bee2-96d4577f1242"
   },
   "outputs": [
    {
     "data": {
      "text/plain": [
       "0.7416846250979532"
      ]
     },
     "execution_count": 173,
     "metadata": {
      "tags": []
     },
     "output_type": "execute_result"
    }
   ],
   "source": [
    "model3.score(df1z[['Images','Superhost']].to_numpy(),df1z[['Lograte']].to_numpy())"
   ]
  },
  {
   "cell_type": "code",
   "execution_count": 169,
   "metadata": {
    "colab": {
     "base_uri": "https://localhost:8080/"
    },
    "id": "M3MgvtwBLNv_",
    "outputId": "bc4bf36d-3e62-420b-cac1-c9657120a368"
   },
   "outputs": [
    {
     "name": "stdout",
     "output_type": "stream",
     "text": [
      "MAE:  [-0.79234172 -0.70625831 -0.7446178  -0.78254929 -0.77364443 -0.66203135\n",
      " -0.748237   -0.66640911 -0.79545885]\n"
     ]
    }
   ],
   "source": [
    "print('MAE: ',(n_scores))"
   ]
  },
  {
   "cell_type": "code",
   "execution_count": 264,
   "metadata": {
    "id": "oN8nt914My9r"
   },
   "outputs": [],
   "source": [
    " model4 = Pipeline([('poly', PolynomialFeatures(degree=3)),\n",
    "                    ('linear', LinearRegression(fit_intercept=False))])"
   ]
  },
  {
   "cell_type": "code",
   "execution_count": 265,
   "metadata": {
    "colab": {
     "base_uri": "https://localhost:8080/"
    },
    "id": "hyZz4DDXNw4E",
    "outputId": "838787ec-0833-4c23-dffc-aaa9df617335"
   },
   "outputs": [
    {
     "data": {
      "text/plain": [
       "Pipeline(memory=None,\n",
       "         steps=[('poly',\n",
       "                 PolynomialFeatures(degree=3, include_bias=True,\n",
       "                                    interaction_only=False, order='C')),\n",
       "                ('linear',\n",
       "                 LinearRegression(copy_X=True, fit_intercept=False, n_jobs=None,\n",
       "                                  normalize=False))],\n",
       "         verbose=False)"
      ]
     },
     "execution_count": 265,
     "metadata": {
      "tags": []
     },
     "output_type": "execute_result"
    }
   ],
   "source": [
    "model4.fit(df1regu[['Images']].to_numpy(),df1regu[['Lograte']].to_numpy())"
   ]
  },
  {
   "cell_type": "code",
   "execution_count": 266,
   "metadata": {
    "colab": {
     "base_uri": "https://localhost:8080/"
    },
    "id": "5RAzS-OSPw-p",
    "outputId": "3e022135-225c-486e-cd72-1dc6b888c87a"
   },
   "outputs": [
    {
     "data": {
      "text/plain": [
       "array([[-6.91029663e-01,  8.14203667e-01, -3.91386343e-02,\n",
       "         5.88677560e-04]])"
      ]
     },
     "execution_count": 266,
     "metadata": {
      "tags": []
     },
     "output_type": "execute_result"
    }
   ],
   "source": [
    "model4.named_steps['linear'].coef_"
   ]
  },
  {
   "cell_type": "code",
   "execution_count": 267,
   "metadata": {
    "colab": {
     "base_uri": "https://localhost:8080/"
    },
    "id": "AKCi3Z7SP4X1",
    "outputId": "4846725d-bd85-41cb-a8ba-61a4e61669fc"
   },
   "outputs": [
    {
     "data": {
      "text/plain": [
       "0.7837941248243421"
      ]
     },
     "execution_count": 267,
     "metadata": {
      "tags": []
     },
     "output_type": "execute_result"
    }
   ],
   "source": [
    "model4.score(df1regu[['Images']].to_numpy(),df1regu[['Lograte']].to_numpy())"
   ]
  },
  {
   "cell_type": "code",
   "execution_count": 167,
   "metadata": {
    "id": "FLDdHcbtQPqy"
   },
   "outputs": [],
   "source": [
    "df1regu['Imagegrp'] = \"\"\n",
    "for i in range(len(df1regu)):\n",
    "  if (df1regu.loc[i,'Images']>=0) and (df1regu.loc[i,'Images']<=2):\n",
    "    df1regu.loc[i,'Imagegrp'] = \"0-2\"\n",
    "  elif (df1regu.loc[i,'Images']>=3) and (df1regu.loc[i,'Images']<=9):\n",
    "    df1regu.loc[i,'Imagegrp'] = \"3-9\"\n",
    "  elif (df1regu.loc[i,'Images']>=10) and (df1regu.loc[i,'Images']<=23):\n",
    "    df1regu.loc[i,'Imagegrp'] = \"10-23\"\n",
    "  elif (df1regu.loc[i,'Images']>=24):\n",
    "    df1regu.loc[i,'Imagegrp'] = \"24plus\""
   ]
  },
  {
   "cell_type": "code",
   "execution_count": 168,
   "metadata": {
    "id": "6Zvcqfn69xbi"
   },
   "outputs": [],
   "source": [
    "df1regu['Imagegrp2'] = \"\"\n",
    "for i in range(len(df1regu)):\n",
    "  if (df1regu.loc[i,'Images']>=0) and (df1regu.loc[i,'Images']<=2):\n",
    "    df1regu.loc[i,'Imagegrp2'] = \"0-2\"\n",
    "  elif (df1regu.loc[i,'Images']>=3) and (df1regu.loc[i,'Images']<=10):\n",
    "    df1regu.loc[i,'Imagegrp2'] = \"3-10\"\n",
    "  elif (df1regu.loc[i,'Images']>=11) and (df1regu.loc[i,'Images']<=17):\n",
    "    df1regu.loc[i,'Imagegrp2'] = \"11-17\"\n",
    "  elif (df1regu.loc[i,'Images']>=18) and (df1regu.loc[i,'Images']<=23):\n",
    "    df1regu.loc[i,'Imagegrp2'] = \"18-23\"\n",
    "  elif (df1regu.loc[i,'Images']>=24):\n",
    "    df1regu.loc[i,'Imagegrp2'] = \"24plus\""
   ]
  },
  {
   "cell_type": "code",
   "execution_count": 169,
   "metadata": {
    "colab": {
     "base_uri": "https://localhost:8080/",
     "height": 363
    },
    "id": "NxBnMRGs3UAm",
    "outputId": "b4a0ed3a-414c-4fdc-f829-c190abc16c2f"
   },
   "outputs": [
    {
     "data": {
      "text/html": [
       "<div>\n",
       "<style scoped>\n",
       "    .dataframe tbody tr th:only-of-type {\n",
       "        vertical-align: middle;\n",
       "    }\n",
       "\n",
       "    .dataframe tbody tr th {\n",
       "        vertical-align: top;\n",
       "    }\n",
       "\n",
       "    .dataframe thead th {\n",
       "        text-align: right;\n",
       "    }\n",
       "</style>\n",
       "<table border=\"1\" class=\"dataframe\">\n",
       "  <thead>\n",
       "    <tr style=\"text-align: right;\">\n",
       "      <th></th>\n",
       "      <th>Images</th>\n",
       "      <th>Posting_Age</th>\n",
       "      <th>Bookings</th>\n",
       "      <th>Bookingsrate</th>\n",
       "      <th>Lograte</th>\n",
       "      <th>Imagegrp</th>\n",
       "      <th>Imagegrp2</th>\n",
       "    </tr>\n",
       "  </thead>\n",
       "  <tbody>\n",
       "    <tr>\n",
       "      <th>430</th>\n",
       "      <td>0</td>\n",
       "      <td>0.54</td>\n",
       "      <td>0</td>\n",
       "      <td>0.000000</td>\n",
       "      <td>0.000000</td>\n",
       "      <td>0-2</td>\n",
       "      <td>0-2</td>\n",
       "    </tr>\n",
       "    <tr>\n",
       "      <th>431</th>\n",
       "      <td>4</td>\n",
       "      <td>2.61</td>\n",
       "      <td>6</td>\n",
       "      <td>2.298851</td>\n",
       "      <td>1.200913</td>\n",
       "      <td>3-9</td>\n",
       "      <td>3-10</td>\n",
       "    </tr>\n",
       "    <tr>\n",
       "      <th>432</th>\n",
       "      <td>3</td>\n",
       "      <td>1.12</td>\n",
       "      <td>4</td>\n",
       "      <td>3.571429</td>\n",
       "      <td>1.836501</td>\n",
       "      <td>3-9</td>\n",
       "      <td>3-10</td>\n",
       "    </tr>\n",
       "    <tr>\n",
       "      <th>433</th>\n",
       "      <td>7</td>\n",
       "      <td>0.14</td>\n",
       "      <td>4</td>\n",
       "      <td>28.571429</td>\n",
       "      <td>4.836501</td>\n",
       "      <td>3-9</td>\n",
       "      <td>3-10</td>\n",
       "    </tr>\n",
       "    <tr>\n",
       "      <th>434</th>\n",
       "      <td>17</td>\n",
       "      <td>0.93</td>\n",
       "      <td>16</td>\n",
       "      <td>17.204301</td>\n",
       "      <td>4.104697</td>\n",
       "      <td>10-23</td>\n",
       "      <td>11-17</td>\n",
       "    </tr>\n",
       "    <tr>\n",
       "      <th>435</th>\n",
       "      <td>7</td>\n",
       "      <td>2.40</td>\n",
       "      <td>41</td>\n",
       "      <td>17.083333</td>\n",
       "      <td>4.094518</td>\n",
       "      <td>3-9</td>\n",
       "      <td>3-10</td>\n",
       "    </tr>\n",
       "    <tr>\n",
       "      <th>436</th>\n",
       "      <td>21</td>\n",
       "      <td>1.24</td>\n",
       "      <td>26</td>\n",
       "      <td>20.967742</td>\n",
       "      <td>4.390100</td>\n",
       "      <td>10-23</td>\n",
       "      <td>18-23</td>\n",
       "    </tr>\n",
       "    <tr>\n",
       "      <th>437</th>\n",
       "      <td>6</td>\n",
       "      <td>2.19</td>\n",
       "      <td>17</td>\n",
       "      <td>7.762557</td>\n",
       "      <td>2.956532</td>\n",
       "      <td>3-9</td>\n",
       "      <td>3-10</td>\n",
       "    </tr>\n",
       "    <tr>\n",
       "      <th>438</th>\n",
       "      <td>21</td>\n",
       "      <td>4.05</td>\n",
       "      <td>121</td>\n",
       "      <td>29.876543</td>\n",
       "      <td>4.900941</td>\n",
       "      <td>10-23</td>\n",
       "      <td>18-23</td>\n",
       "    </tr>\n",
       "    <tr>\n",
       "      <th>439</th>\n",
       "      <td>32</td>\n",
       "      <td>0.69</td>\n",
       "      <td>24</td>\n",
       "      <td>34.782609</td>\n",
       "      <td>5.120294</td>\n",
       "      <td>24plus</td>\n",
       "      <td>24plus</td>\n",
       "    </tr>\n",
       "  </tbody>\n",
       "</table>\n",
       "</div>"
      ],
      "text/plain": [
       "     Images  Posting_Age  Bookings  Bookingsrate   Lograte Imagegrp Imagegrp2\n",
       "430       0         0.54         0      0.000000  0.000000      0-2       0-2\n",
       "431       4         2.61         6      2.298851  1.200913      3-9      3-10\n",
       "432       3         1.12         4      3.571429  1.836501      3-9      3-10\n",
       "433       7         0.14         4     28.571429  4.836501      3-9      3-10\n",
       "434      17         0.93        16     17.204301  4.104697    10-23     11-17\n",
       "435       7         2.40        41     17.083333  4.094518      3-9      3-10\n",
       "436      21         1.24        26     20.967742  4.390100    10-23     18-23\n",
       "437       6         2.19        17      7.762557  2.956532      3-9      3-10\n",
       "438      21         4.05       121     29.876543  4.900941    10-23     18-23\n",
       "439      32         0.69        24     34.782609  5.120294   24plus    24plus"
      ]
     },
     "execution_count": 169,
     "metadata": {
      "tags": []
     },
     "output_type": "execute_result"
    }
   ],
   "source": [
    "df1regu.tail(10)"
   ]
  },
  {
   "cell_type": "code",
   "execution_count": 170,
   "metadata": {
    "id": "qFV7-C3HFc1z"
   },
   "outputs": [],
   "source": [
    "df1dum = pd.get_dummies(df1regu,prefix_sep='_')"
   ]
  },
  {
   "cell_type": "code",
   "execution_count": 47,
   "metadata": {
    "colab": {
     "base_uri": "https://localhost:8080/",
     "height": 226
    },
    "id": "cxVvTzrcIiiC",
    "outputId": "08ddce7f-70a1-42db-c03d-17ff6e886817"
   },
   "outputs": [
    {
     "data": {
      "text/html": [
       "<div>\n",
       "<style scoped>\n",
       "    .dataframe tbody tr th:only-of-type {\n",
       "        vertical-align: middle;\n",
       "    }\n",
       "\n",
       "    .dataframe tbody tr th {\n",
       "        vertical-align: top;\n",
       "    }\n",
       "\n",
       "    .dataframe thead th {\n",
       "        text-align: right;\n",
       "    }\n",
       "</style>\n",
       "<table border=\"1\" class=\"dataframe\">\n",
       "  <thead>\n",
       "    <tr style=\"text-align: right;\">\n",
       "      <th></th>\n",
       "      <th>Images</th>\n",
       "      <th>Posting_Age</th>\n",
       "      <th>Bookings</th>\n",
       "      <th>Bookingsrate</th>\n",
       "      <th>Lograte</th>\n",
       "      <th>Imagegrp_0-2</th>\n",
       "      <th>Imagegrp_10-23</th>\n",
       "      <th>Imagegrp_24plus</th>\n",
       "      <th>Imagegrp_3-9</th>\n",
       "      <th>Imagegrp2_0-2</th>\n",
       "      <th>Imagegrp2_11-17</th>\n",
       "      <th>Imagegrp2_18-23</th>\n",
       "      <th>Imagegrp2_24plus</th>\n",
       "      <th>Imagegrp2_3-10</th>\n",
       "    </tr>\n",
       "  </thead>\n",
       "  <tbody>\n",
       "    <tr>\n",
       "      <th>0</th>\n",
       "      <td>31</td>\n",
       "      <td>0.30</td>\n",
       "      <td>10</td>\n",
       "      <td>33.333333</td>\n",
       "      <td>5.058894</td>\n",
       "      <td>0</td>\n",
       "      <td>0</td>\n",
       "      <td>1</td>\n",
       "      <td>0</td>\n",
       "      <td>0</td>\n",
       "      <td>0</td>\n",
       "      <td>0</td>\n",
       "      <td>1</td>\n",
       "      <td>0</td>\n",
       "    </tr>\n",
       "    <tr>\n",
       "      <th>1</th>\n",
       "      <td>6</td>\n",
       "      <td>3.66</td>\n",
       "      <td>48</td>\n",
       "      <td>13.114754</td>\n",
       "      <td>3.713119</td>\n",
       "      <td>0</td>\n",
       "      <td>0</td>\n",
       "      <td>0</td>\n",
       "      <td>1</td>\n",
       "      <td>0</td>\n",
       "      <td>0</td>\n",
       "      <td>0</td>\n",
       "      <td>0</td>\n",
       "      <td>1</td>\n",
       "    </tr>\n",
       "    <tr>\n",
       "      <th>2</th>\n",
       "      <td>25</td>\n",
       "      <td>0.68</td>\n",
       "      <td>10</td>\n",
       "      <td>14.705882</td>\n",
       "      <td>3.878321</td>\n",
       "      <td>0</td>\n",
       "      <td>0</td>\n",
       "      <td>1</td>\n",
       "      <td>0</td>\n",
       "      <td>0</td>\n",
       "      <td>0</td>\n",
       "      <td>0</td>\n",
       "      <td>1</td>\n",
       "      <td>0</td>\n",
       "    </tr>\n",
       "    <tr>\n",
       "      <th>3</th>\n",
       "      <td>4</td>\n",
       "      <td>3.11</td>\n",
       "      <td>7</td>\n",
       "      <td>2.250804</td>\n",
       "      <td>1.170440</td>\n",
       "      <td>0</td>\n",
       "      <td>0</td>\n",
       "      <td>0</td>\n",
       "      <td>1</td>\n",
       "      <td>0</td>\n",
       "      <td>0</td>\n",
       "      <td>0</td>\n",
       "      <td>0</td>\n",
       "      <td>1</td>\n",
       "    </tr>\n",
       "    <tr>\n",
       "      <th>4</th>\n",
       "      <td>3</td>\n",
       "      <td>3.30</td>\n",
       "      <td>5</td>\n",
       "      <td>1.515152</td>\n",
       "      <td>0.599462</td>\n",
       "      <td>0</td>\n",
       "      <td>0</td>\n",
       "      <td>0</td>\n",
       "      <td>1</td>\n",
       "      <td>0</td>\n",
       "      <td>0</td>\n",
       "      <td>0</td>\n",
       "      <td>0</td>\n",
       "      <td>1</td>\n",
       "    </tr>\n",
       "  </tbody>\n",
       "</table>\n",
       "</div>"
      ],
      "text/plain": [
       "   Images  Posting_Age  ...  Imagegrp2_24plus  Imagegrp2_3-10\n",
       "0      31         0.30  ...                 1               0\n",
       "1       6         3.66  ...                 0               1\n",
       "2      25         0.68  ...                 1               0\n",
       "3       4         3.11  ...                 0               1\n",
       "4       3         3.30  ...                 0               1\n",
       "\n",
       "[5 rows x 14 columns]"
      ]
     },
     "execution_count": 47,
     "metadata": {
      "tags": []
     },
     "output_type": "execute_result"
    }
   ],
   "source": [
    "df1dum.head()"
   ]
  },
  {
   "cell_type": "code",
   "execution_count": 46,
   "metadata": {
    "colab": {
     "base_uri": "https://localhost:8080/"
    },
    "id": "8HSMisWQIkUq",
    "outputId": "6bd66250-2656-4ac0-b95d-c194b64ecd99"
   },
   "outputs": [
    {
     "data": {
      "text/plain": [
       "LinearRegression(copy_X=True, fit_intercept=True, n_jobs=None, normalize=False)"
      ]
     },
     "execution_count": 46,
     "metadata": {
      "tags": []
     },
     "output_type": "execute_result"
    }
   ],
   "source": [
    "model5 = LinearRegression()\n",
    "model5.fit(df1dum[['Images','Imagegrp_0-2','Imagegrp_3-9','Imagegrp_10-23','Imagegrp_24plus']].to_numpy(),df1dum[['Bookingsrate']].to_numpy())"
   ]
  },
  {
   "cell_type": "code",
   "execution_count": 47,
   "metadata": {
    "colab": {
     "base_uri": "https://localhost:8080/"
    },
    "id": "nmrz6bb8JpMr",
    "outputId": "3921022e-38df-4109-eeff-0227ac822fa4"
   },
   "outputs": [
    {
     "data": {
      "text/plain": [
       "array([[ 0.84510142, -5.41427416,  1.89339419,  7.48463928, -3.96375931]])"
      ]
     },
     "execution_count": 47,
     "metadata": {
      "tags": []
     },
     "output_type": "execute_result"
    }
   ],
   "source": [
    "model5.coef_"
   ]
  },
  {
   "cell_type": "code",
   "execution_count": 48,
   "metadata": {
    "colab": {
     "base_uri": "https://localhost:8080/"
    },
    "id": "jd5O2BnfJzix",
    "outputId": "6765e70d-b36b-4506-bf01-dfa47d240a7b"
   },
   "outputs": [
    {
     "data": {
      "text/plain": [
       "0.35829339771629654"
      ]
     },
     "execution_count": 48,
     "metadata": {
      "tags": []
     },
     "output_type": "execute_result"
    }
   ],
   "source": [
    "model5.score(df1dum[['Images','Imagegrp_0-2','Imagegrp_3-9','Imagegrp_10-23','Imagegrp_24plus']].to_numpy(),df1dum[['Bookingsrate']].to_numpy())"
   ]
  },
  {
   "cell_type": "code",
   "execution_count": 171,
   "metadata": {
    "colab": {
     "base_uri": "https://localhost:8080/"
    },
    "id": "HSf3bSwhJ59X",
    "outputId": "0aebe90e-bcff-47d2-f64f-6ef68855bb50"
   },
   "outputs": [
    {
     "name": "stderr",
     "output_type": "stream",
     "text": [
      "/usr/local/lib/python3.6/dist-packages/pandas/core/series.py:726: RuntimeWarning: divide by zero encountered in log2\n",
      "  result = getattr(ufunc, method)(*inputs, **kwargs)\n"
     ]
    }
   ],
   "source": [
    "df1dum['Lograte'] = np.log2(df1dum['Bookingsrate'])\n",
    "df1dum['Lograte'] = df1dum['Lograte'].map(lambda x: 0 if (x<0) else x)"
   ]
  },
  {
   "cell_type": "code",
   "execution_count": 30,
   "metadata": {
    "colab": {
     "base_uri": "https://localhost:8080/",
     "height": 460
    },
    "id": "UqaDZlYfKMnn",
    "outputId": "1099cd5f-4a59-4851-a7c3-468917a73f63"
   },
   "outputs": [
    {
     "data": {
      "text/plain": [
       "<seaborn.axisgrid.JointGrid at 0x7f30046565f8>"
      ]
     },
     "execution_count": 30,
     "metadata": {
      "tags": []
     },
     "output_type": "execute_result"
    },
    {
     "data": {
      "image/png": "[encoded data removed]",
      "text/plain": [
       "<Figure size 432x432 with 3 Axes>"
      ]
     },
     "metadata": {
      "needs_background": "light",
      "tags": []
     },
     "output_type": "display_data"
    }
   ],
   "source": [
    "sns.jointplot(x=\"Images\",y=\"Lograte\",data=df1dum)"
   ]
  },
  {
   "cell_type": "code",
   "execution_count": 51,
   "metadata": {
    "colab": {
     "base_uri": "https://localhost:8080/"
    },
    "id": "LoIVrCeFKf6x",
    "outputId": "ab51b658-732d-4f20-e2cd-941b3a710833"
   },
   "outputs": [
    {
     "data": {
      "text/plain": [
       "LinearRegression(copy_X=True, fit_intercept=True, n_jobs=None, normalize=False)"
      ]
     },
     "execution_count": 51,
     "metadata": {
      "tags": []
     },
     "output_type": "execute_result"
    }
   ],
   "source": [
    "model6 = LinearRegression()\n",
    "model6.fit(df1dum[['Images','Imagegrp_0-2','Imagegrp_3-9','Imagegrp_10-23','Imagegrp_24plus']].to_numpy(),df1dum[['Lograte']].to_numpy())"
   ]
  },
  {
   "cell_type": "code",
   "execution_count": 52,
   "metadata": {
    "colab": {
     "base_uri": "https://localhost:8080/"
    },
    "id": "crz4R0UKK0G8",
    "outputId": "2fadbe13-a097-4af6-be56-160a5376b63a"
   },
   "outputs": [
    {
     "data": {
      "text/plain": [
       "array([[ 0.10500824, -1.62171589,  0.48589891,  1.19571571, -0.05989873]])"
      ]
     },
     "execution_count": 52,
     "metadata": {
      "tags": []
     },
     "output_type": "execute_result"
    }
   ],
   "source": [
    "model6.coef_"
   ]
  },
  {
   "cell_type": "code",
   "execution_count": 53,
   "metadata": {
    "colab": {
     "base_uri": "https://localhost:8080/"
    },
    "id": "OlkDSu01K6pX",
    "outputId": "7757391b-da67-4b77-9584-b75e475a68c6"
   },
   "outputs": [
    {
     "data": {
      "text/plain": [
       "0.6836333283530822"
      ]
     },
     "execution_count": 53,
     "metadata": {
      "tags": []
     },
     "output_type": "execute_result"
    }
   ],
   "source": [
    "model6.score(df1dum[['Images','Imagegrp_0-2','Imagegrp_3-9','Imagegrp_10-23','Imagegrp_24plus']].to_numpy(),df1dum[['Lograte']].to_numpy())"
   ]
  },
  {
   "cell_type": "code",
   "execution_count": 31,
   "metadata": {
    "id": "fufxEVmKK-oW"
   },
   "outputs": [],
   "source": [
    "model7 = Pipeline([('poly', PolynomialFeatures(degree=2)),\n",
    "                   ('linear', LinearRegression(fit_intercept=False))])"
   ]
  },
  {
   "cell_type": "code",
   "execution_count": 32,
   "metadata": {
    "colab": {
     "base_uri": "https://localhost:8080/"
    },
    "id": "HdJ3uEmKLV1a",
    "outputId": "110124b7-c364-41a2-a9c0-e2f346eff113"
   },
   "outputs": [
    {
     "data": {
      "text/plain": [
       "Pipeline(memory=None,\n",
       "         steps=[('poly',\n",
       "                 PolynomialFeatures(degree=2, include_bias=True,\n",
       "                                    interaction_only=False, order='C')),\n",
       "                ('linear',\n",
       "                 LinearRegression(copy_X=True, fit_intercept=False, n_jobs=None,\n",
       "                                  normalize=False))],\n",
       "         verbose=False)"
      ]
     },
     "execution_count": 32,
     "metadata": {
      "tags": []
     },
     "output_type": "execute_result"
    }
   ],
   "source": [
    "model7.fit(df1dum[['Images','Imagegrp_0-2','Imagegrp_3-9','Imagegrp_10-23','Imagegrp_24plus']].to_numpy(),df1dum[['Lograte']].to_numpy())"
   ]
  },
  {
   "cell_type": "code",
   "execution_count": 33,
   "metadata": {
    "colab": {
     "base_uri": "https://localhost:8080/"
    },
    "id": "2HMgRcojLj-B",
    "outputId": "b85e5c94-7194-4db1-94b2-4fc2779cafe7"
   },
   "outputs": [
    {
     "data": {
      "text/plain": [
       "array([[ 0.98280306,  0.20596868, -0.50913836, -1.10483418,  1.34206509,\n",
       "         1.25471051, -0.00220131, -0.06896747,  0.50121272, -0.11684138,\n",
       "        -0.10943519, -0.50913836,  0.        ,  0.        ,  0.        ,\n",
       "        -1.10483418,  0.        ,  0.        ,  1.34206509,  0.        ,\n",
       "         1.25471051]])"
      ]
     },
     "execution_count": 33,
     "metadata": {
      "tags": []
     },
     "output_type": "execute_result"
    }
   ],
   "source": [
    "model7.named_steps['linear'].coef_"
   ]
  },
  {
   "cell_type": "code",
   "execution_count": 34,
   "metadata": {
    "colab": {
     "base_uri": "https://localhost:8080/"
    },
    "id": "Ss0n0IcSLro2",
    "outputId": "ad93b7ef-eaa2-4bc5-cf18-ba1427d53591"
   },
   "outputs": [
    {
     "data": {
      "text/plain": [
       "0.8172155373376646"
      ]
     },
     "execution_count": 34,
     "metadata": {
      "tags": []
     },
     "output_type": "execute_result"
    }
   ],
   "source": [
    "model7.score(df1dum[['Images','Imagegrp_0-2','Imagegrp_3-9','Imagegrp_10-23','Imagegrp_24plus']].to_numpy(),df1dum[['Lograte']].to_numpy())"
   ]
  },
  {
   "cell_type": "code",
   "execution_count": null,
   "metadata": {
    "id": "TVfBayqQMgIo"
   },
   "outputs": [],
   "source": [
    "model7.named_steps['poly'].get_feature_names()"
   ]
  },
  {
   "cell_type": "code",
   "execution_count": 172,
   "metadata": {
    "id": "1a-mG36RPDyn"
   },
   "outputs": [],
   "source": [
    "dfinput = df1regu[['Images','Imagegrp','Imagegrp2']]\n",
    "dfinput = dfinput.drop_duplicates().reset_index(drop=True)\n",
    "dfinput = pd.get_dummies(dfinput,prefix_sep='_')\n",
    "dfinput.sort_values('Images',axis=0,ascending=True,inplace=True)\n",
    "dfinput = dfinput.reset_index(drop=True)"
   ]
  },
  {
   "cell_type": "code",
   "execution_count": 43,
   "metadata": {
    "colab": {
     "base_uri": "https://localhost:8080/"
    },
    "id": "ysQl7Gr8MtDw",
    "outputId": "3ba62cd8-9770-49d2-bf4b-8ea8ae2916f4"
   },
   "outputs": [
    {
     "data": {
      "text/plain": [
       "array([[0.09932624],\n",
       "       [0.87486712],\n",
       "       [2.25400897],\n",
       "       [3.61554034],\n",
       "       [4.95946123],\n",
       "       [4.3380753 ],\n",
       "       [4.41947228],\n",
       "       [4.5459189 ],\n",
       "       [4.55236841],\n",
       "       [4.52974291],\n",
       "       [4.40705024]])"
      ]
     },
     "execution_count": 43,
     "metadata": {
      "tags": []
     },
     "output_type": "execute_result"
    }
   ],
   "source": [
    "#model7.predict(df1dum[['Images','Imagegrp_0-2','Imagegrp_3-9','Imagegrp_10-23','Imagegrp_24plus']].to_numpy())\n",
    "model7.predict(inp1)"
   ]
  },
  {
   "cell_type": "code",
   "execution_count": 184,
   "metadata": {
    "id": "HEoEECm_VkCF"
   },
   "outputs": [],
   "source": [
    "predictors = ['Images','Imagegrp2_0-2','Imagegrp2_3-10','Imagegrp2_11-17','Imagegrp2_18-23','Imagegrp2_24plus']\n",
    "target = ['Lograte']\n",
    "x1 = df1dum[predictors].values\n",
    "y1 = df1dum[target].values\n",
    "x1_train,x1_test,y1_train,y1_test = train_test_split(x1,y1,test_size=0.35,random_state=1)"
   ]
  },
  {
   "cell_type": "code",
   "execution_count": 216,
   "metadata": {
    "id": "I2bx6dTNVyIU"
   },
   "outputs": [],
   "source": [
    "predictors = ['Images']\n",
    "target = ['Lograte']\n",
    "x2 = df1dum[predictors].values\n",
    "y2 = df1dum[target].values\n",
    "x2_train,x2_test,y2_train,y2_test = train_test_split(x2,y2,test_size=0.45,random_state=1)"
   ]
  },
  {
   "cell_type": "code",
   "execution_count": 185,
   "metadata": {
    "id": "UTmpJi1J27X-"
   },
   "outputs": [],
   "source": [
    "model8 = Pipeline([('poly', PolynomialFeatures(degree=2)),\n",
    "                   ('linear', LinearRegression(fit_intercept=False))])"
   ]
  },
  {
   "cell_type": "code",
   "execution_count": 186,
   "metadata": {
    "id": "F_VbOcMj_M66"
   },
   "outputs": [],
   "source": [
    "#model8.fit(df1dum[['Images','Imagegrp2_0-2','Imagegrp2_3-10','Imagegrp2_11-17','Imagegrp2_18-23','Imagegrp2_24plus']].to_numpy(),df1dum[['Lograte']].to_numpy())\n",
    "model8.fit(x1_train,y1_train.ravel())\n",
    "predict_train8 = model8.predict(x1_train)\n",
    "predict_test8 = model8.predict(x1_test)"
   ]
  },
  {
   "cell_type": "code",
   "execution_count": 187,
   "metadata": {
    "colab": {
     "base_uri": "https://localhost:8080/"
    },
    "id": "6-nb6P0c_hXf",
    "outputId": "fe9ce0ab-5244-4a39-a306-8e94a427b4a3"
   },
   "outputs": [
    {
     "name": "stdout",
     "output_type": "stream",
     "text": [
      "0.819481367914059\n",
      "0.8138601511602203\n"
     ]
    }
   ],
   "source": [
    "#model8.score(df1dum[['Images','Imagegrp2_0-2','Imagegrp2_3-10','Imagegrp2_11-17','Imagegrp2_18-23','Imagegrp2_24plus']].to_numpy(),df1dum[['Lograte']].to_numpy())\n",
    "print(model8.score(x1_train,y1_train))\n",
    "print(model8.score(x1_test,y1_test))"
   ]
  },
  {
   "cell_type": "code",
   "execution_count": 188,
   "metadata": {
    "id": "R7zK2N8I_otc"
   },
   "outputs": [],
   "source": [
    "#inp2=[[1,1,0,0,0,0],[3,0,1,0,0,0],[5,0,1,0,0,0],[7,0,1,0,0,0],[9,0,1,0,0,0],[10,0,1,0,0,0],[12,0,0,1,0,0],[17,0,0,1,0,0],[23,0,0,0,1,0],[25,0,0,0,0,1],[30,0,0,0,0,1]]\n",
    "#model8.predict(inp2)\n",
    "y8 = model8.predict(dfinput[['Images','Imagegrp2_0-2','Imagegrp2_3-10','Imagegrp2_11-17','Imagegrp2_18-23','Imagegrp2_24plus']].to_numpy())"
   ]
  },
  {
   "cell_type": "code",
   "execution_count": 99,
   "metadata": {
    "id": "Qc9IVvwz_u-5"
   },
   "outputs": [],
   "source": [
    "model9 = DecisionTreeRegressor(max_depth=6)"
   ]
  },
  {
   "cell_type": "code",
   "execution_count": 217,
   "metadata": {
    "id": "YxoZimXGGyjq"
   },
   "outputs": [],
   "source": [
    "#model9.fit(df1dum[['Images']].to_numpy(),df1dum[['Lograte']].to_numpy())\n",
    "model9.fit(x2_train,y2_train.ravel())\n",
    "predict_train9 = model9.predict(x2_train)\n",
    "predict_test9 = model9.predict(x2_test)"
   ]
  },
  {
   "cell_type": "code",
   "execution_count": 218,
   "metadata": {
    "colab": {
     "base_uri": "https://localhost:8080/"
    },
    "id": "7VZDCmX0J9f6",
    "outputId": "b58c0520-c418-41cf-a5a5-4dd3179491b4"
   },
   "outputs": [
    {
     "name": "stdout",
     "output_type": "stream",
     "text": [
      "0.8382213594928913\n",
      "0.8204440368051266\n"
     ]
    }
   ],
   "source": [
    "#model9.score(df1dum[['Images']].to_numpy(),df1dum[['Lograte']].to_numpy())\n",
    "print(model9.score(x2_train,y2_train))\n",
    "print(model9.score(x2_test,y2_test))"
   ]
  },
  {
   "cell_type": "code",
   "execution_count": 124,
   "metadata": {
    "colab": {
     "base_uri": "https://localhost:8080/"
    },
    "id": "mggEuK5hHCKv",
    "outputId": "394692be-fdbd-453f-d484-c83188a1a174"
   },
   "outputs": [
    {
     "data": {
      "text/plain": [
       "array([0.        , 0.        , 0.27938664, 0.73856923, 1.32900584,\n",
       "       2.46242928, 3.11886912, 4.19603104, 4.22184808, 4.33888797,\n",
       "       4.33888797, 4.33888797, 4.60106748, 4.15865125, 4.60104434,\n",
       "       4.60104434, 4.60104434, 4.60104434, 4.50851585, 4.50851585,\n",
       "       4.50851585, 4.50851585, 4.50851585, 4.50851585, 4.50851585,\n",
       "       4.50851585, 4.76468751, 4.73874881, 4.16211273, 4.29460193,\n",
       "       4.29460193, 4.29460193, 4.65159049])"
      ]
     },
     "execution_count": 124,
     "metadata": {
      "tags": []
     },
     "output_type": "execute_result"
    }
   ],
   "source": [
    "inp3= [[0],[1],[2],[3],[4],[5],[6],[7],[8],[9],[10],[11],[12],[13],[14],[15],[16],[17],[18],[19],[20],[21],[22],[23],[24],[25],[26],[27],[28],[29],[30],[31],[32]]\n",
    "y9 = model9.predict(inp3)\n",
    "model9.predict(inp3)"
   ]
  },
  {
   "cell_type": "code",
   "execution_count": 219,
   "metadata": {
    "colab": {
     "base_uri": "https://localhost:8080/",
     "height": 295
    },
    "id": "3cOQCth9HM-_",
    "outputId": "3b29031f-0efc-401a-b8c2-cabaedce361f"
   },
   "outputs": [
    {
     "data": {
      "image/png": "[encoded data removed]",
      "text/plain": [
       "<Figure size 432x288 with 1 Axes>"
      ]
     },
     "metadata": {
      "needs_background": "light",
      "tags": []
     },
     "output_type": "display_data"
    }
   ],
   "source": [
    "plt.figure()\n",
    "plt.scatter(df1dum[['Images']].to_numpy(),df1dum[['Lograte']].to_numpy(), s=20, edgecolor=None,\n",
    "            c=\"darkorange\", label=\"data\")\n",
    "plt.plot(inp3, y9, color=\"cornflowerblue\",label=\"Rsq=0.82\",linewidth=2)\n",
    "plt.xlabel(\"data\")\n",
    "plt.ylabel(\"target\")\n",
    "plt.title(\"Decision Tree Regression\")\n",
    "plt.legend()\n",
    "plt.show()"
   ]
  },
  {
   "cell_type": "code",
   "execution_count": null,
   "metadata": {
    "id": "3ZUXFQMJJiR8"
   },
   "outputs": [],
   "source": [
    "\"\"\"\n",
    "plt.figure()\n",
    "plt.scatter(df1dum[['Images']].to_numpy(),df1dum[['Lograte']].to_numpy(), s=20, edgecolor=None,\n",
    "            c=\"darkorange\", label=\"data\")\n",
    "plt.plot(inp3, y8, color=\"cornflowerblue\",label=\"Rsq=0.82\",linewidth=2)\n",
    "plt.xlabel(\"data\")\n",
    "plt.ylabel(\"target\")\n",
    "plt.title(\"OLS Regression\")\n",
    "plt.legend()\n",
    "plt.show()\n",
    "\"\"\""
   ]
  },
  {
   "cell_type": "code",
   "execution_count": 191,
   "metadata": {
    "colab": {
     "base_uri": "https://localhost:8080/",
     "height": 295
    },
    "id": "M5O6lgXNTJGx",
    "outputId": "186aa31c-2eff-43bc-be8d-8fc5aeebb145"
   },
   "outputs": [
    {
     "data": {
      "image/png": "[encoded data removed]",
      "text/plain": [
       "<Figure size 432x288 with 1 Axes>"
      ]
     },
     "metadata": {
      "needs_background": "light",
      "tags": []
     },
     "output_type": "display_data"
    }
   ],
   "source": [
    "plt.figure()\n",
    "plt.scatter(df1dum[['Images']].to_numpy(),df1dum[['Lograte']].to_numpy(), s=20, edgecolor=None,\n",
    "            c=\"darkorange\", label=\"data\")\n",
    "plt.plot(inp3, y8, color=\"cornflowerblue\",label=\"Rsq=0.81\",linewidth=2)\n",
    "plt.xlabel(\"data\")\n",
    "plt.ylabel(\"target\")\n",
    "plt.title(\"Polynomial Regression\")\n",
    "plt.legend()\n",
    "plt.show()"
   ]
  },
  {
   "cell_type": "markdown",
   "metadata": {
    "id": "aIXN23vDVeGd"
   },
   "source": [
    "<H1> 2nd and 3rd Datasets"
   ]
  },
  {
   "cell_type": "code",
   "execution_count": 127,
   "metadata": {
    "id": "8KPe5hDuVnqt"
   },
   "outputs": [],
   "source": [
    "df2 = pd.read_csv('/content/drive/MyDrive/Colab Notebooks/Airbnb/Open_Listings.csv')"
   ]
  },
  {
   "cell_type": "code",
   "execution_count": 128,
   "metadata": {
    "colab": {
     "base_uri": "https://localhost:8080/",
     "height": 363
    },
    "id": "L21O1OgQV5cZ",
    "outputId": "67b62185-1a13-4d23-eb19-08fbf0f971ee"
   },
   "outputs": [
    {
     "data": {
      "text/html": [
       "<div>\n",
       "<style scoped>\n",
       "    .dataframe tbody tr th:only-of-type {\n",
       "        vertical-align: middle;\n",
       "    }\n",
       "\n",
       "    .dataframe tbody tr th {\n",
       "        vertical-align: top;\n",
       "    }\n",
       "\n",
       "    .dataframe thead th {\n",
       "        text-align: right;\n",
       "    }\n",
       "</style>\n",
       "<table border=\"1\" class=\"dataframe\">\n",
       "  <thead>\n",
       "    <tr style=\"text-align: right;\">\n",
       "      <th></th>\n",
       "      <th>Date</th>\n",
       "      <th>Open_Listings_0_2</th>\n",
       "      <th>Open_Listings_3_5</th>\n",
       "      <th>Open_Listings_6_10</th>\n",
       "      <th>Open_Listings_11_15</th>\n",
       "      <th>Open_Listings_16</th>\n",
       "    </tr>\n",
       "  </thead>\n",
       "  <tbody>\n",
       "    <tr>\n",
       "      <th>0</th>\n",
       "      <td>08/01/2018</td>\n",
       "      <td>51918</td>\n",
       "      <td>59583</td>\n",
       "      <td>9558</td>\n",
       "      <td>28830</td>\n",
       "      <td>38364</td>\n",
       "    </tr>\n",
       "    <tr>\n",
       "      <th>1</th>\n",
       "      <td>08/02/2018</td>\n",
       "      <td>50196</td>\n",
       "      <td>67897</td>\n",
       "      <td>10820</td>\n",
       "      <td>23024</td>\n",
       "      <td>31676</td>\n",
       "    </tr>\n",
       "    <tr>\n",
       "      <th>2</th>\n",
       "      <td>08/03/2018</td>\n",
       "      <td>56239</td>\n",
       "      <td>52148</td>\n",
       "      <td>24258</td>\n",
       "      <td>34328</td>\n",
       "      <td>7342</td>\n",
       "    </tr>\n",
       "    <tr>\n",
       "      <th>3</th>\n",
       "      <td>08/04/2018</td>\n",
       "      <td>57762</td>\n",
       "      <td>67057</td>\n",
       "      <td>15148</td>\n",
       "      <td>15531</td>\n",
       "      <td>23232</td>\n",
       "    </tr>\n",
       "    <tr>\n",
       "      <th>4</th>\n",
       "      <td>08/05/2018</td>\n",
       "      <td>59221</td>\n",
       "      <td>53113</td>\n",
       "      <td>18165</td>\n",
       "      <td>18387</td>\n",
       "      <td>8486</td>\n",
       "    </tr>\n",
       "    <tr>\n",
       "      <th>5</th>\n",
       "      <td>08/06/2018</td>\n",
       "      <td>51043</td>\n",
       "      <td>66962</td>\n",
       "      <td>18485</td>\n",
       "      <td>20555</td>\n",
       "      <td>27451</td>\n",
       "    </tr>\n",
       "    <tr>\n",
       "      <th>6</th>\n",
       "      <td>08/07/2018</td>\n",
       "      <td>51408</td>\n",
       "      <td>67209</td>\n",
       "      <td>9978</td>\n",
       "      <td>5250</td>\n",
       "      <td>14283</td>\n",
       "    </tr>\n",
       "    <tr>\n",
       "      <th>7</th>\n",
       "      <td>08/08/2018</td>\n",
       "      <td>56677</td>\n",
       "      <td>61590</td>\n",
       "      <td>13495</td>\n",
       "      <td>13531</td>\n",
       "      <td>38859</td>\n",
       "    </tr>\n",
       "    <tr>\n",
       "      <th>8</th>\n",
       "      <td>08/09/2018</td>\n",
       "      <td>57704</td>\n",
       "      <td>66742</td>\n",
       "      <td>25888</td>\n",
       "      <td>30466</td>\n",
       "      <td>35611</td>\n",
       "    </tr>\n",
       "    <tr>\n",
       "      <th>9</th>\n",
       "      <td>08/10/2018</td>\n",
       "      <td>52860</td>\n",
       "      <td>56609</td>\n",
       "      <td>9717</td>\n",
       "      <td>30089</td>\n",
       "      <td>13067</td>\n",
       "    </tr>\n",
       "  </tbody>\n",
       "</table>\n",
       "</div>"
      ],
      "text/plain": [
       "         Date  Open_Listings_0_2  ...  Open_Listings_11_15  Open_Listings_16\n",
       "0  08/01/2018              51918  ...                28830             38364\n",
       "1  08/02/2018              50196  ...                23024             31676\n",
       "2  08/03/2018              56239  ...                34328              7342\n",
       "3  08/04/2018              57762  ...                15531             23232\n",
       "4  08/05/2018              59221  ...                18387              8486\n",
       "5  08/06/2018              51043  ...                20555             27451\n",
       "6  08/07/2018              51408  ...                 5250             14283\n",
       "7  08/08/2018              56677  ...                13531             38859\n",
       "8  08/09/2018              57704  ...                30466             35611\n",
       "9  08/10/2018              52860  ...                30089             13067\n",
       "\n",
       "[10 rows x 6 columns]"
      ]
     },
     "execution_count": 128,
     "metadata": {
      "tags": []
     },
     "output_type": "execute_result"
    }
   ],
   "source": [
    "df2.head(10)"
   ]
  },
  {
   "cell_type": "code",
   "execution_count": 129,
   "metadata": {
    "id": "OqQY4w2EV8_s"
   },
   "outputs": [],
   "source": [
    "df3 = pd.read_csv('/content/drive/MyDrive/Colab Notebooks/Airbnb/Redundant_Listings.csv')"
   ]
  },
  {
   "cell_type": "code",
   "execution_count": 132,
   "metadata": {
    "id": "j8o_ld7eq1x9"
   },
   "outputs": [],
   "source": [
    "df3 = df3.drop(['Unnamed: 3','Unnamed: 4','Unnamed: 5','Unnamed: 6'],axis=1)"
   ]
  },
  {
   "cell_type": "code",
   "execution_count": 133,
   "metadata": {
    "colab": {
     "base_uri": "https://localhost:8080/",
     "height": 301
    },
    "id": "1Jn_6g_bqzvS",
    "outputId": "cbead45f-aac0-42d1-c235-7cab89e90be0"
   },
   "outputs": [
    {
     "data": {
      "text/html": [
       "<div>\n",
       "<style scoped>\n",
       "    .dataframe tbody tr th:only-of-type {\n",
       "        vertical-align: middle;\n",
       "    }\n",
       "\n",
       "    .dataframe tbody tr th {\n",
       "        vertical-align: top;\n",
       "    }\n",
       "\n",
       "    .dataframe thead th {\n",
       "        text-align: right;\n",
       "    }\n",
       "</style>\n",
       "<table border=\"1\" class=\"dataframe\">\n",
       "  <thead>\n",
       "    <tr style=\"text-align: right;\">\n",
       "      <th></th>\n",
       "      <th>Property_Images</th>\n",
       "      <th>Total_Listings</th>\n",
       "      <th>Redundant_Listings</th>\n",
       "    </tr>\n",
       "  </thead>\n",
       "  <tbody>\n",
       "    <tr>\n",
       "      <th>0</th>\n",
       "      <td>0 to 2</td>\n",
       "      <td>563,246</td>\n",
       "      <td>428,368</td>\n",
       "    </tr>\n",
       "    <tr>\n",
       "      <th>1</th>\n",
       "      <td>3 to 5</td>\n",
       "      <td>716,923</td>\n",
       "      <td>264,321</td>\n",
       "    </tr>\n",
       "    <tr>\n",
       "      <th>2</th>\n",
       "      <td>6 to 10</td>\n",
       "      <td>1,341,164</td>\n",
       "      <td>98,874</td>\n",
       "    </tr>\n",
       "    <tr>\n",
       "      <th>3</th>\n",
       "      <td>11 to 15</td>\n",
       "      <td>993,269</td>\n",
       "      <td>53,292</td>\n",
       "    </tr>\n",
       "    <tr>\n",
       "      <th>4</th>\n",
       "      <td>15 to 20</td>\n",
       "      <td>873,269</td>\n",
       "      <td>61,382</td>\n",
       "    </tr>\n",
       "    <tr>\n",
       "      <th>5</th>\n",
       "      <td>21 to 25</td>\n",
       "      <td>635,481</td>\n",
       "      <td>29,285</td>\n",
       "    </tr>\n",
       "    <tr>\n",
       "      <th>6</th>\n",
       "      <td>26 to 30</td>\n",
       "      <td>498,456</td>\n",
       "      <td>42,473</td>\n",
       "    </tr>\n",
       "    <tr>\n",
       "      <th>7</th>\n",
       "      <td>&gt; 30</td>\n",
       "      <td>384,875</td>\n",
       "      <td>28,274</td>\n",
       "    </tr>\n",
       "  </tbody>\n",
       "</table>\n",
       "</div>"
      ],
      "text/plain": [
       "  Property_Images Total_Listings Redundant_Listings\n",
       "0          0 to 2        563,246            428,368\n",
       "1          3 to 5        716,923            264,321\n",
       "2         6 to 10      1,341,164             98,874\n",
       "3        11 to 15        993,269             53,292\n",
       "4        15 to 20        873,269             61,382\n",
       "5        21 to 25        635,481             29,285\n",
       "6        26 to 30        498,456             42,473\n",
       "7            > 30        384,875             28,274"
      ]
     },
     "execution_count": 133,
     "metadata": {
      "tags": []
     },
     "output_type": "execute_result"
    }
   ],
   "source": [
    "df3.head(10)"
   ]
  },
  {
   "cell_type": "code",
   "execution_count": null,
   "metadata": {
    "id": "9fevPHkErMgk"
   },
   "outputs": [],
   "source": []
  }
 ],
 "metadata": {
  "colab": {
   "collapsed_sections": [],
   "name": "Airbnb.ipynb",
   "provenance": []
  },
  "kernelspec": {
   "display_name": "Python 3",
   "language": "python",
   "name": "python3"
  },
  "language_info": {
   "codemirror_mode": {
    "name": "ipython",
    "version": 3
   },
   "file_extension": ".py",
   "mimetype": "text/x-python",
   "name": "python",
   "nbconvert_exporter": "python",
   "pygments_lexer": "ipython3",
   "version": "3.8.3"
  }
 },
 "nbformat": 4,
 "nbformat_minor": 1
}
